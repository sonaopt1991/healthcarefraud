{
  "cells": [
    {
      "cell_type": "code",
      "execution_count": null,
      "metadata": {
        "id": "wghF6I4VqaWt"
      },
      "outputs": [],
      "source": [
        "import pandas as pd\n",
        "import numpy as np\n",
        "import seaborn as sns\n",
        "import scipy as sp\n",
        "import matplotlib.pyplot as plt"
      ]
    },
    {
      "cell_type": "code",
      "execution_count": null,
      "metadata": {
        "colab": {
          "base_uri": "https://localhost:8080/"
        },
        "id": "0zRQThRP9zK0",
        "outputId": "2467b09c-ee93-4f78-8dad-f151fae46983"
      },
      "outputs": [
        {
          "name": "stdout",
          "output_type": "stream",
          "text": [
            "Mounted at /content/drive\n"
          ]
        }
      ],
      "source": [
        "from google.colab import drive\n",
        "drive.mount('/content/drive')"
      ]
    },
    {
      "cell_type": "code",
      "execution_count": null,
      "metadata": {
        "id": "-ajqY15wA78X"
      },
      "outputs": [],
      "source": [
        "#data=pd.read_csv('/content/drive/MyDrive/PROJECT/review1_merged data/finaldataset/final data.csv')"
      ]
    },
    {
      "cell_type": "code",
      "execution_count": null,
      "metadata": {
        "colab": {
          "base_uri": "https://localhost:8080/"
        },
        "id": "jTbHlk5Cfj06",
        "outputId": "d93c5b9b-08e3-4f1d-d443-af3f1e763295"
      },
      "outputs": [
        {
          "name": "stderr",
          "output_type": "stream",
          "text": [
            "<ipython-input-5-90ebac06e07b>:1: DtypeWarning: Columns (13,23) have mixed types. Specify dtype option on import or set low_memory=False.\n",
            "  data=pd.read_csv('/content/drive/MyDrive/Main project/merged_data.csv')\n"
          ]
        }
      ],
      "source": [
        "data=pd.read_csv('/content/drive/MyDrive/Main project/merged_data.csv')"
      ]
    },
    {
      "cell_type": "code",
      "execution_count": null,
      "metadata": {
        "id": "jRZvk7RGFuyl"
      },
      "outputs": [],
      "source": [
        "#data=pd.read_csv('/content/drive/MyDrive/Data science project 2024/merged_data.csv')"
      ]
    },
    {
      "cell_type": "code",
      "execution_count": null,
      "metadata": {
        "colab": {
          "base_uri": "https://localhost:8080/",
          "height": 226
        },
        "id": "BQTervW9BFwk",
        "outputId": "a79da63e-fabd-470d-f1b6-6f86a229b202"
      },
      "outputs": [
        {
          "data": {
            "application/vnd.google.colaboratory.intrinsic+json": {
              "type": "dataframe",
              "variable_name": "data"
            },
            "text/html": [
              "\n",
              "  <div id=\"df-8f089cc1-1705-4e1b-8471-4cbabe9def6b\" class=\"colab-df-container\">\n",
              "    <div>\n",
              "<style scoped>\n",
              "    .dataframe tbody tr th:only-of-type {\n",
              "        vertical-align: middle;\n",
              "    }\n",
              "\n",
              "    .dataframe tbody tr th {\n",
              "        vertical-align: top;\n",
              "    }\n",
              "\n",
              "    .dataframe thead th {\n",
              "        text-align: right;\n",
              "    }\n",
              "</style>\n",
              "<table border=\"1\" class=\"dataframe\">\n",
              "  <thead>\n",
              "    <tr style=\"text-align: right;\">\n",
              "      <th></th>\n",
              "      <th>BeneID</th>\n",
              "      <th>ClaimID</th>\n",
              "      <th>ClaimStartDt</th>\n",
              "      <th>ClaimEndDt</th>\n",
              "      <th>Provider</th>\n",
              "      <th>InscClaimAmtReimbursed</th>\n",
              "      <th>AttendingPhysician</th>\n",
              "      <th>OperatingPhysician</th>\n",
              "      <th>OtherPhysician</th>\n",
              "      <th>AdmissionDt</th>\n",
              "      <th>ClmAdmitDiagnosisCode</th>\n",
              "      <th>DeductibleAmtPaid</th>\n",
              "      <th>DischargeDt</th>\n",
              "      <th>DiagnosisGroupCode</th>\n",
              "      <th>ClmDiagnosisCode_1</th>\n",
              "      <th>ClmDiagnosisCode_2</th>\n",
              "      <th>ClmDiagnosisCode_3</th>\n",
              "      <th>ClmDiagnosisCode_4</th>\n",
              "      <th>ClmDiagnosisCode_5</th>\n",
              "      <th>ClmDiagnosisCode_6</th>\n",
              "      <th>ClmDiagnosisCode_7</th>\n",
              "      <th>ClmDiagnosisCode_8</th>\n",
              "      <th>ClmDiagnosisCode_9</th>\n",
              "      <th>ClmDiagnosisCode_10</th>\n",
              "      <th>ClmProcedureCode_1</th>\n",
              "      <th>ClmProcedureCode_2</th>\n",
              "      <th>ClmProcedureCode_3</th>\n",
              "      <th>ClmProcedureCode_4</th>\n",
              "      <th>ClmProcedureCode_5</th>\n",
              "      <th>ClmProcedureCode_6</th>\n",
              "      <th>DOB</th>\n",
              "      <th>DOD</th>\n",
              "      <th>Gender</th>\n",
              "      <th>Race</th>\n",
              "      <th>RenalDiseaseIndicator</th>\n",
              "      <th>State</th>\n",
              "      <th>County</th>\n",
              "      <th>NoOfMonths_PartACov</th>\n",
              "      <th>NoOfMonths_PartBCov</th>\n",
              "      <th>ChronicCond_Alzheimer</th>\n",
              "      <th>ChronicCond_Heartfailure</th>\n",
              "      <th>ChronicCond_KidneyDisease</th>\n",
              "      <th>ChronicCond_Cancer</th>\n",
              "      <th>ChronicCond_ObstrPulmonary</th>\n",
              "      <th>ChronicCond_Depression</th>\n",
              "      <th>ChronicCond_Diabetes</th>\n",
              "      <th>ChronicCond_IschemicHeart</th>\n",
              "      <th>ChronicCond_Osteoporasis</th>\n",
              "      <th>ChronicCond_rheumatoidarthritis</th>\n",
              "      <th>ChronicCond_stroke</th>\n",
              "      <th>IPAnnualReimbursementAmt</th>\n",
              "      <th>IPAnnualDeductibleAmt</th>\n",
              "      <th>OPAnnualReimbursementAmt</th>\n",
              "      <th>OPAnnualDeductibleAmt</th>\n",
              "      <th>PotentialFraud</th>\n",
              "    </tr>\n",
              "  </thead>\n",
              "  <tbody>\n",
              "    <tr>\n",
              "      <th>0</th>\n",
              "      <td>BENE102690</td>\n",
              "      <td>CLM49733</td>\n",
              "      <td>2009-05-04</td>\n",
              "      <td>2009-05-18</td>\n",
              "      <td>PRV51001</td>\n",
              "      <td>42000</td>\n",
              "      <td>PHY383193</td>\n",
              "      <td>PHY378091</td>\n",
              "      <td>PHY389113</td>\n",
              "      <td>2009-05-04</td>\n",
              "      <td>41401</td>\n",
              "      <td>1068.0</td>\n",
              "      <td>2009-05-18</td>\n",
              "      <td>245</td>\n",
              "      <td>4241</td>\n",
              "      <td>42731</td>\n",
              "      <td>4168</td>\n",
              "      <td>2724</td>\n",
              "      <td>4019</td>\n",
              "      <td>42822</td>\n",
              "      <td>2720</td>\n",
              "      <td>45829</td>\n",
              "      <td>53081</td>\n",
              "      <td>NaN</td>\n",
              "      <td>3521.0</td>\n",
              "      <td>2724.0</td>\n",
              "      <td>NaN</td>\n",
              "      <td>NaN</td>\n",
              "      <td>NaN</td>\n",
              "      <td>NaN</td>\n",
              "      <td>1929-11-01</td>\n",
              "      <td>NaN</td>\n",
              "      <td>2</td>\n",
              "      <td>1</td>\n",
              "      <td>Y</td>\n",
              "      <td>1</td>\n",
              "      <td>160</td>\n",
              "      <td>12</td>\n",
              "      <td>12</td>\n",
              "      <td>2</td>\n",
              "      <td>1</td>\n",
              "      <td>1</td>\n",
              "      <td>2</td>\n",
              "      <td>1</td>\n",
              "      <td>1</td>\n",
              "      <td>1</td>\n",
              "      <td>1</td>\n",
              "      <td>2</td>\n",
              "      <td>1</td>\n",
              "      <td>2</td>\n",
              "      <td>143800</td>\n",
              "      <td>4272</td>\n",
              "      <td>880</td>\n",
              "      <td>70</td>\n",
              "      <td>No</td>\n",
              "    </tr>\n",
              "    <tr>\n",
              "      <th>1</th>\n",
              "      <td>BENE106078</td>\n",
              "      <td>CLM419490</td>\n",
              "      <td>2009-06-16</td>\n",
              "      <td>2009-06-16</td>\n",
              "      <td>PRV51001</td>\n",
              "      <td>90</td>\n",
              "      <td>PHY345302</td>\n",
              "      <td>NaN</td>\n",
              "      <td>NaN</td>\n",
              "      <td>NaN</td>\n",
              "      <td>NaN</td>\n",
              "      <td>0.0</td>\n",
              "      <td>NaN</td>\n",
              "      <td>NaN</td>\n",
              "      <td>V769</td>\n",
              "      <td>NaN</td>\n",
              "      <td>NaN</td>\n",
              "      <td>NaN</td>\n",
              "      <td>NaN</td>\n",
              "      <td>NaN</td>\n",
              "      <td>NaN</td>\n",
              "      <td>NaN</td>\n",
              "      <td>NaN</td>\n",
              "      <td>NaN</td>\n",
              "      <td>NaN</td>\n",
              "      <td>NaN</td>\n",
              "      <td>NaN</td>\n",
              "      <td>NaN</td>\n",
              "      <td>NaN</td>\n",
              "      <td>NaN</td>\n",
              "      <td>1928-12-01</td>\n",
              "      <td>NaN</td>\n",
              "      <td>2</td>\n",
              "      <td>1</td>\n",
              "      <td>Y</td>\n",
              "      <td>1</td>\n",
              "      <td>440</td>\n",
              "      <td>12</td>\n",
              "      <td>12</td>\n",
              "      <td>1</td>\n",
              "      <td>2</td>\n",
              "      <td>1</td>\n",
              "      <td>2</td>\n",
              "      <td>1</td>\n",
              "      <td>2</td>\n",
              "      <td>1</td>\n",
              "      <td>1</td>\n",
              "      <td>2</td>\n",
              "      <td>2</td>\n",
              "      <td>2</td>\n",
              "      <td>0</td>\n",
              "      <td>0</td>\n",
              "      <td>190</td>\n",
              "      <td>20</td>\n",
              "      <td>No</td>\n",
              "    </tr>\n",
              "    <tr>\n",
              "      <th>2</th>\n",
              "      <td>BENE11727</td>\n",
              "      <td>CLM733300</td>\n",
              "      <td>2009-12-17</td>\n",
              "      <td>2009-12-17</td>\n",
              "      <td>PRV51001</td>\n",
              "      <td>20</td>\n",
              "      <td>PHY383007</td>\n",
              "      <td>NaN</td>\n",
              "      <td>PHY383007</td>\n",
              "      <td>NaN</td>\n",
              "      <td>NaN</td>\n",
              "      <td>0.0</td>\n",
              "      <td>NaN</td>\n",
              "      <td>NaN</td>\n",
              "      <td>5953</td>\n",
              "      <td>42731</td>\n",
              "      <td>NaN</td>\n",
              "      <td>NaN</td>\n",
              "      <td>NaN</td>\n",
              "      <td>NaN</td>\n",
              "      <td>NaN</td>\n",
              "      <td>NaN</td>\n",
              "      <td>NaN</td>\n",
              "      <td>NaN</td>\n",
              "      <td>NaN</td>\n",
              "      <td>NaN</td>\n",
              "      <td>NaN</td>\n",
              "      <td>NaN</td>\n",
              "      <td>NaN</td>\n",
              "      <td>NaN</td>\n",
              "      <td>1930-05-01</td>\n",
              "      <td>NaN</td>\n",
              "      <td>1</td>\n",
              "      <td>1</td>\n",
              "      <td>Y</td>\n",
              "      <td>1</td>\n",
              "      <td>660</td>\n",
              "      <td>12</td>\n",
              "      <td>12</td>\n",
              "      <td>1</td>\n",
              "      <td>1</td>\n",
              "      <td>1</td>\n",
              "      <td>1</td>\n",
              "      <td>2</td>\n",
              "      <td>2</td>\n",
              "      <td>1</td>\n",
              "      <td>1</td>\n",
              "      <td>2</td>\n",
              "      <td>2</td>\n",
              "      <td>2</td>\n",
              "      <td>0</td>\n",
              "      <td>0</td>\n",
              "      <td>300</td>\n",
              "      <td>110</td>\n",
              "      <td>No</td>\n",
              "    </tr>\n",
              "    <tr>\n",
              "      <th>3</th>\n",
              "      <td>BENE123416</td>\n",
              "      <td>CLM172987</td>\n",
              "      <td>2009-02-02</td>\n",
              "      <td>2009-02-02</td>\n",
              "      <td>PRV51001</td>\n",
              "      <td>100</td>\n",
              "      <td>PHY345302</td>\n",
              "      <td>NaN</td>\n",
              "      <td>PHY345302</td>\n",
              "      <td>NaN</td>\n",
              "      <td>NaN</td>\n",
              "      <td>0.0</td>\n",
              "      <td>NaN</td>\n",
              "      <td>NaN</td>\n",
              "      <td>24900</td>\n",
              "      <td>NaN</td>\n",
              "      <td>NaN</td>\n",
              "      <td>NaN</td>\n",
              "      <td>NaN</td>\n",
              "      <td>NaN</td>\n",
              "      <td>NaN</td>\n",
              "      <td>NaN</td>\n",
              "      <td>NaN</td>\n",
              "      <td>NaN</td>\n",
              "      <td>NaN</td>\n",
              "      <td>NaN</td>\n",
              "      <td>NaN</td>\n",
              "      <td>NaN</td>\n",
              "      <td>NaN</td>\n",
              "      <td>NaN</td>\n",
              "      <td>1927-03-01</td>\n",
              "      <td>NaN</td>\n",
              "      <td>2</td>\n",
              "      <td>1</td>\n",
              "      <td>0</td>\n",
              "      <td>1</td>\n",
              "      <td>440</td>\n",
              "      <td>12</td>\n",
              "      <td>12</td>\n",
              "      <td>2</td>\n",
              "      <td>2</td>\n",
              "      <td>1</td>\n",
              "      <td>2</td>\n",
              "      <td>2</td>\n",
              "      <td>2</td>\n",
              "      <td>1</td>\n",
              "      <td>1</td>\n",
              "      <td>2</td>\n",
              "      <td>2</td>\n",
              "      <td>2</td>\n",
              "      <td>0</td>\n",
              "      <td>0</td>\n",
              "      <td>3600</td>\n",
              "      <td>10</td>\n",
              "      <td>No</td>\n",
              "    </tr>\n",
              "    <tr>\n",
              "      <th>4</th>\n",
              "      <td>BENE126477</td>\n",
              "      <td>CLM361230</td>\n",
              "      <td>2009-05-15</td>\n",
              "      <td>2009-05-15</td>\n",
              "      <td>PRV51001</td>\n",
              "      <td>200</td>\n",
              "      <td>PHY354616</td>\n",
              "      <td>PHY405310</td>\n",
              "      <td>PHY405310</td>\n",
              "      <td>NaN</td>\n",
              "      <td>NaN</td>\n",
              "      <td>0.0</td>\n",
              "      <td>NaN</td>\n",
              "      <td>NaN</td>\n",
              "      <td>7825</td>\n",
              "      <td>49390</td>\n",
              "      <td>4239</td>\n",
              "      <td>5739</td>\n",
              "      <td>5768</td>\n",
              "      <td>7936</td>\n",
              "      <td>NaN</td>\n",
              "      <td>NaN</td>\n",
              "      <td>NaN</td>\n",
              "      <td>NaN</td>\n",
              "      <td>NaN</td>\n",
              "      <td>NaN</td>\n",
              "      <td>NaN</td>\n",
              "      <td>NaN</td>\n",
              "      <td>NaN</td>\n",
              "      <td>NaN</td>\n",
              "      <td>1940-04-01</td>\n",
              "      <td>NaN</td>\n",
              "      <td>1</td>\n",
              "      <td>1</td>\n",
              "      <td>0</td>\n",
              "      <td>1</td>\n",
              "      <td>380</td>\n",
              "      <td>12</td>\n",
              "      <td>12</td>\n",
              "      <td>2</td>\n",
              "      <td>1</td>\n",
              "      <td>2</td>\n",
              "      <td>2</td>\n",
              "      <td>2</td>\n",
              "      <td>2</td>\n",
              "      <td>1</td>\n",
              "      <td>1</td>\n",
              "      <td>2</td>\n",
              "      <td>1</td>\n",
              "      <td>2</td>\n",
              "      <td>0</td>\n",
              "      <td>0</td>\n",
              "      <td>690</td>\n",
              "      <td>150</td>\n",
              "      <td>No</td>\n",
              "    </tr>\n",
              "  </tbody>\n",
              "</table>\n",
              "</div>\n",
              "    <div class=\"colab-df-buttons\">\n",
              "\n",
              "  <div class=\"colab-df-container\">\n",
              "    <button class=\"colab-df-convert\" onclick=\"convertToInteractive('df-8f089cc1-1705-4e1b-8471-4cbabe9def6b')\"\n",
              "            title=\"Convert this dataframe to an interactive table.\"\n",
              "            style=\"display:none;\">\n",
              "\n",
              "  <svg xmlns=\"http://www.w3.org/2000/svg\" height=\"24px\" viewBox=\"0 -960 960 960\">\n",
              "    <path d=\"M120-120v-720h720v720H120Zm60-500h600v-160H180v160Zm220 220h160v-160H400v160Zm0 220h160v-160H400v160ZM180-400h160v-160H180v160Zm440 0h160v-160H620v160ZM180-180h160v-160H180v160Zm440 0h160v-160H620v160Z\"/>\n",
              "  </svg>\n",
              "    </button>\n",
              "\n",
              "  <style>\n",
              "    .colab-df-container {\n",
              "      display:flex;\n",
              "      gap: 12px;\n",
              "    }\n",
              "\n",
              "    .colab-df-convert {\n",
              "      background-color: #E8F0FE;\n",
              "      border: none;\n",
              "      border-radius: 50%;\n",
              "      cursor: pointer;\n",
              "      display: none;\n",
              "      fill: #1967D2;\n",
              "      height: 32px;\n",
              "      padding: 0 0 0 0;\n",
              "      width: 32px;\n",
              "    }\n",
              "\n",
              "    .colab-df-convert:hover {\n",
              "      background-color: #E2EBFA;\n",
              "      box-shadow: 0px 1px 2px rgba(60, 64, 67, 0.3), 0px 1px 3px 1px rgba(60, 64, 67, 0.15);\n",
              "      fill: #174EA6;\n",
              "    }\n",
              "\n",
              "    .colab-df-buttons div {\n",
              "      margin-bottom: 4px;\n",
              "    }\n",
              "\n",
              "    [theme=dark] .colab-df-convert {\n",
              "      background-color: #3B4455;\n",
              "      fill: #D2E3FC;\n",
              "    }\n",
              "\n",
              "    [theme=dark] .colab-df-convert:hover {\n",
              "      background-color: #434B5C;\n",
              "      box-shadow: 0px 1px 3px 1px rgba(0, 0, 0, 0.15);\n",
              "      filter: drop-shadow(0px 1px 2px rgba(0, 0, 0, 0.3));\n",
              "      fill: #FFFFFF;\n",
              "    }\n",
              "  </style>\n",
              "\n",
              "    <script>\n",
              "      const buttonEl =\n",
              "        document.querySelector('#df-8f089cc1-1705-4e1b-8471-4cbabe9def6b button.colab-df-convert');\n",
              "      buttonEl.style.display =\n",
              "        google.colab.kernel.accessAllowed ? 'block' : 'none';\n",
              "\n",
              "      async function convertToInteractive(key) {\n",
              "        const element = document.querySelector('#df-8f089cc1-1705-4e1b-8471-4cbabe9def6b');\n",
              "        const dataTable =\n",
              "          await google.colab.kernel.invokeFunction('convertToInteractive',\n",
              "                                                    [key], {});\n",
              "        if (!dataTable) return;\n",
              "\n",
              "        const docLinkHtml = 'Like what you see? Visit the ' +\n",
              "          '<a target=\"_blank\" href=https://colab.research.google.com/notebooks/data_table.ipynb>data table notebook</a>'\n",
              "          + ' to learn more about interactive tables.';\n",
              "        element.innerHTML = '';\n",
              "        dataTable['output_type'] = 'display_data';\n",
              "        await google.colab.output.renderOutput(dataTable, element);\n",
              "        const docLink = document.createElement('div');\n",
              "        docLink.innerHTML = docLinkHtml;\n",
              "        element.appendChild(docLink);\n",
              "      }\n",
              "    </script>\n",
              "  </div>\n",
              "\n",
              "\n",
              "<div id=\"df-133fe770-1862-443b-aeff-da8639f585ed\">\n",
              "  <button class=\"colab-df-quickchart\" onclick=\"quickchart('df-133fe770-1862-443b-aeff-da8639f585ed')\"\n",
              "            title=\"Suggest charts\"\n",
              "            style=\"display:none;\">\n",
              "\n",
              "<svg xmlns=\"http://www.w3.org/2000/svg\" height=\"24px\"viewBox=\"0 0 24 24\"\n",
              "     width=\"24px\">\n",
              "    <g>\n",
              "        <path d=\"M19 3H5c-1.1 0-2 .9-2 2v14c0 1.1.9 2 2 2h14c1.1 0 2-.9 2-2V5c0-1.1-.9-2-2-2zM9 17H7v-7h2v7zm4 0h-2V7h2v10zm4 0h-2v-4h2v4z\"/>\n",
              "    </g>\n",
              "</svg>\n",
              "  </button>\n",
              "\n",
              "<style>\n",
              "  .colab-df-quickchart {\n",
              "      --bg-color: #E8F0FE;\n",
              "      --fill-color: #1967D2;\n",
              "      --hover-bg-color: #E2EBFA;\n",
              "      --hover-fill-color: #174EA6;\n",
              "      --disabled-fill-color: #AAA;\n",
              "      --disabled-bg-color: #DDD;\n",
              "  }\n",
              "\n",
              "  [theme=dark] .colab-df-quickchart {\n",
              "      --bg-color: #3B4455;\n",
              "      --fill-color: #D2E3FC;\n",
              "      --hover-bg-color: #434B5C;\n",
              "      --hover-fill-color: #FFFFFF;\n",
              "      --disabled-bg-color: #3B4455;\n",
              "      --disabled-fill-color: #666;\n",
              "  }\n",
              "\n",
              "  .colab-df-quickchart {\n",
              "    background-color: var(--bg-color);\n",
              "    border: none;\n",
              "    border-radius: 50%;\n",
              "    cursor: pointer;\n",
              "    display: none;\n",
              "    fill: var(--fill-color);\n",
              "    height: 32px;\n",
              "    padding: 0;\n",
              "    width: 32px;\n",
              "  }\n",
              "\n",
              "  .colab-df-quickchart:hover {\n",
              "    background-color: var(--hover-bg-color);\n",
              "    box-shadow: 0 1px 2px rgba(60, 64, 67, 0.3), 0 1px 3px 1px rgba(60, 64, 67, 0.15);\n",
              "    fill: var(--button-hover-fill-color);\n",
              "  }\n",
              "\n",
              "  .colab-df-quickchart-complete:disabled,\n",
              "  .colab-df-quickchart-complete:disabled:hover {\n",
              "    background-color: var(--disabled-bg-color);\n",
              "    fill: var(--disabled-fill-color);\n",
              "    box-shadow: none;\n",
              "  }\n",
              "\n",
              "  .colab-df-spinner {\n",
              "    border: 2px solid var(--fill-color);\n",
              "    border-color: transparent;\n",
              "    border-bottom-color: var(--fill-color);\n",
              "    animation:\n",
              "      spin 1s steps(1) infinite;\n",
              "  }\n",
              "\n",
              "  @keyframes spin {\n",
              "    0% {\n",
              "      border-color: transparent;\n",
              "      border-bottom-color: var(--fill-color);\n",
              "      border-left-color: var(--fill-color);\n",
              "    }\n",
              "    20% {\n",
              "      border-color: transparent;\n",
              "      border-left-color: var(--fill-color);\n",
              "      border-top-color: var(--fill-color);\n",
              "    }\n",
              "    30% {\n",
              "      border-color: transparent;\n",
              "      border-left-color: var(--fill-color);\n",
              "      border-top-color: var(--fill-color);\n",
              "      border-right-color: var(--fill-color);\n",
              "    }\n",
              "    40% {\n",
              "      border-color: transparent;\n",
              "      border-right-color: var(--fill-color);\n",
              "      border-top-color: var(--fill-color);\n",
              "    }\n",
              "    60% {\n",
              "      border-color: transparent;\n",
              "      border-right-color: var(--fill-color);\n",
              "    }\n",
              "    80% {\n",
              "      border-color: transparent;\n",
              "      border-right-color: var(--fill-color);\n",
              "      border-bottom-color: var(--fill-color);\n",
              "    }\n",
              "    90% {\n",
              "      border-color: transparent;\n",
              "      border-bottom-color: var(--fill-color);\n",
              "    }\n",
              "  }\n",
              "</style>\n",
              "\n",
              "  <script>\n",
              "    async function quickchart(key) {\n",
              "      const quickchartButtonEl =\n",
              "        document.querySelector('#' + key + ' button');\n",
              "      quickchartButtonEl.disabled = true;  // To prevent multiple clicks.\n",
              "      quickchartButtonEl.classList.add('colab-df-spinner');\n",
              "      try {\n",
              "        const charts = await google.colab.kernel.invokeFunction(\n",
              "            'suggestCharts', [key], {});\n",
              "      } catch (error) {\n",
              "        console.error('Error during call to suggestCharts:', error);\n",
              "      }\n",
              "      quickchartButtonEl.classList.remove('colab-df-spinner');\n",
              "      quickchartButtonEl.classList.add('colab-df-quickchart-complete');\n",
              "    }\n",
              "    (() => {\n",
              "      let quickchartButtonEl =\n",
              "        document.querySelector('#df-133fe770-1862-443b-aeff-da8639f585ed button');\n",
              "      quickchartButtonEl.style.display =\n",
              "        google.colab.kernel.accessAllowed ? 'block' : 'none';\n",
              "    })();\n",
              "  </script>\n",
              "</div>\n",
              "\n",
              "    </div>\n",
              "  </div>\n"
            ],
            "text/plain": [
              "       BeneID    ClaimID ClaimStartDt  ClaimEndDt  Provider  \\\n",
              "0  BENE102690   CLM49733   2009-05-04  2009-05-18  PRV51001   \n",
              "1  BENE106078  CLM419490   2009-06-16  2009-06-16  PRV51001   \n",
              "2   BENE11727  CLM733300   2009-12-17  2009-12-17  PRV51001   \n",
              "3  BENE123416  CLM172987   2009-02-02  2009-02-02  PRV51001   \n",
              "4  BENE126477  CLM361230   2009-05-15  2009-05-15  PRV51001   \n",
              "\n",
              "   InscClaimAmtReimbursed AttendingPhysician OperatingPhysician  \\\n",
              "0                   42000          PHY383193          PHY378091   \n",
              "1                      90          PHY345302                NaN   \n",
              "2                      20          PHY383007                NaN   \n",
              "3                     100          PHY345302                NaN   \n",
              "4                     200          PHY354616          PHY405310   \n",
              "\n",
              "  OtherPhysician AdmissionDt ClmAdmitDiagnosisCode  DeductibleAmtPaid  \\\n",
              "0      PHY389113  2009-05-04                 41401             1068.0   \n",
              "1            NaN         NaN                   NaN                0.0   \n",
              "2      PHY383007         NaN                   NaN                0.0   \n",
              "3      PHY345302         NaN                   NaN                0.0   \n",
              "4      PHY405310         NaN                   NaN                0.0   \n",
              "\n",
              "  DischargeDt DiagnosisGroupCode ClmDiagnosisCode_1 ClmDiagnosisCode_2  \\\n",
              "0  2009-05-18                245               4241              42731   \n",
              "1         NaN                NaN               V769                NaN   \n",
              "2         NaN                NaN               5953              42731   \n",
              "3         NaN                NaN              24900                NaN   \n",
              "4         NaN                NaN               7825              49390   \n",
              "\n",
              "  ClmDiagnosisCode_3 ClmDiagnosisCode_4 ClmDiagnosisCode_5 ClmDiagnosisCode_6  \\\n",
              "0               4168               2724               4019              42822   \n",
              "1                NaN                NaN                NaN                NaN   \n",
              "2                NaN                NaN                NaN                NaN   \n",
              "3                NaN                NaN                NaN                NaN   \n",
              "4               4239               5739               5768               7936   \n",
              "\n",
              "  ClmDiagnosisCode_7 ClmDiagnosisCode_8 ClmDiagnosisCode_9  \\\n",
              "0               2720              45829              53081   \n",
              "1                NaN                NaN                NaN   \n",
              "2                NaN                NaN                NaN   \n",
              "3                NaN                NaN                NaN   \n",
              "4                NaN                NaN                NaN   \n",
              "\n",
              "  ClmDiagnosisCode_10  ClmProcedureCode_1  ClmProcedureCode_2  \\\n",
              "0                 NaN              3521.0              2724.0   \n",
              "1                 NaN                 NaN                 NaN   \n",
              "2                 NaN                 NaN                 NaN   \n",
              "3                 NaN                 NaN                 NaN   \n",
              "4                 NaN                 NaN                 NaN   \n",
              "\n",
              "   ClmProcedureCode_3  ClmProcedureCode_4  ClmProcedureCode_5  \\\n",
              "0                 NaN                 NaN                 NaN   \n",
              "1                 NaN                 NaN                 NaN   \n",
              "2                 NaN                 NaN                 NaN   \n",
              "3                 NaN                 NaN                 NaN   \n",
              "4                 NaN                 NaN                 NaN   \n",
              "\n",
              "   ClmProcedureCode_6         DOB  DOD  Gender  Race RenalDiseaseIndicator  \\\n",
              "0                 NaN  1929-11-01  NaN       2     1                     Y   \n",
              "1                 NaN  1928-12-01  NaN       2     1                     Y   \n",
              "2                 NaN  1930-05-01  NaN       1     1                     Y   \n",
              "3                 NaN  1927-03-01  NaN       2     1                     0   \n",
              "4                 NaN  1940-04-01  NaN       1     1                     0   \n",
              "\n",
              "   State  County  NoOfMonths_PartACov  NoOfMonths_PartBCov  \\\n",
              "0      1     160                   12                   12   \n",
              "1      1     440                   12                   12   \n",
              "2      1     660                   12                   12   \n",
              "3      1     440                   12                   12   \n",
              "4      1     380                   12                   12   \n",
              "\n",
              "   ChronicCond_Alzheimer  ChronicCond_Heartfailure  ChronicCond_KidneyDisease  \\\n",
              "0                      2                         1                          1   \n",
              "1                      1                         2                          1   \n",
              "2                      1                         1                          1   \n",
              "3                      2                         2                          1   \n",
              "4                      2                         1                          2   \n",
              "\n",
              "   ChronicCond_Cancer  ChronicCond_ObstrPulmonary  ChronicCond_Depression  \\\n",
              "0                   2                           1                       1   \n",
              "1                   2                           1                       2   \n",
              "2                   1                           2                       2   \n",
              "3                   2                           2                       2   \n",
              "4                   2                           2                       2   \n",
              "\n",
              "   ChronicCond_Diabetes  ChronicCond_IschemicHeart  ChronicCond_Osteoporasis  \\\n",
              "0                     1                          1                         2   \n",
              "1                     1                          1                         2   \n",
              "2                     1                          1                         2   \n",
              "3                     1                          1                         2   \n",
              "4                     1                          1                         2   \n",
              "\n",
              "   ChronicCond_rheumatoidarthritis  ChronicCond_stroke  \\\n",
              "0                                1                   2   \n",
              "1                                2                   2   \n",
              "2                                2                   2   \n",
              "3                                2                   2   \n",
              "4                                1                   2   \n",
              "\n",
              "   IPAnnualReimbursementAmt  IPAnnualDeductibleAmt  OPAnnualReimbursementAmt  \\\n",
              "0                    143800                   4272                       880   \n",
              "1                         0                      0                       190   \n",
              "2                         0                      0                       300   \n",
              "3                         0                      0                      3600   \n",
              "4                         0                      0                       690   \n",
              "\n",
              "   OPAnnualDeductibleAmt PotentialFraud  \n",
              "0                     70             No  \n",
              "1                     20             No  \n",
              "2                    110             No  \n",
              "3                     10             No  \n",
              "4                    150             No  "
            ]
          },
          "execution_count": 7,
          "metadata": {},
          "output_type": "execute_result"
        }
      ],
      "source": [
        "pd.set_option(\"display.max_columns\", None)\n",
        "data.head()"
      ]
    },
    {
      "cell_type": "code",
      "execution_count": null,
      "metadata": {
        "colab": {
          "base_uri": "https://localhost:8080/"
        },
        "id": "Xd0Zn0PuDYbg",
        "outputId": "c511f2b5-fd20-4f50-e7e2-c1576461383f"
      },
      "outputs": [
        {
          "data": {
            "text/plain": [
              "(558211, 55)"
            ]
          },
          "execution_count": 8,
          "metadata": {},
          "output_type": "execute_result"
        }
      ],
      "source": [
        "data.shape"
      ]
    },
    {
      "cell_type": "markdown",
      "metadata": {
        "id": "R5tJKCn1Dale"
      },
      "source": [
        "**558211 observations and 55 features**"
      ]
    },
    {
      "cell_type": "code",
      "execution_count": null,
      "metadata": {
        "colab": {
          "base_uri": "https://localhost:8080/"
        },
        "id": "rOFA0tZPBRGn",
        "outputId": "eff16561-861e-4db9-bfdf-87b4e8b7de4c"
      },
      "outputs": [
        {
          "data": {
            "text/plain": [
              "Index(['BeneID', 'ClaimID', 'ClaimStartDt', 'ClaimEndDt', 'Provider',\n",
              "       'InscClaimAmtReimbursed', 'AttendingPhysician', 'OperatingPhysician',\n",
              "       'OtherPhysician', 'AdmissionDt', 'ClmAdmitDiagnosisCode',\n",
              "       'DeductibleAmtPaid', 'DischargeDt', 'DiagnosisGroupCode',\n",
              "       'ClmDiagnosisCode_1', 'ClmDiagnosisCode_2', 'ClmDiagnosisCode_3',\n",
              "       'ClmDiagnosisCode_4', 'ClmDiagnosisCode_5', 'ClmDiagnosisCode_6',\n",
              "       'ClmDiagnosisCode_7', 'ClmDiagnosisCode_8', 'ClmDiagnosisCode_9',\n",
              "       'ClmDiagnosisCode_10', 'ClmProcedureCode_1', 'ClmProcedureCode_2',\n",
              "       'ClmProcedureCode_3', 'ClmProcedureCode_4', 'ClmProcedureCode_5',\n",
              "       'ClmProcedureCode_6', 'DOB', 'DOD', 'Gender', 'Race',\n",
              "       'RenalDiseaseIndicator', 'State', 'County', 'NoOfMonths_PartACov',\n",
              "       'NoOfMonths_PartBCov', 'ChronicCond_Alzheimer',\n",
              "       'ChronicCond_Heartfailure', 'ChronicCond_KidneyDisease',\n",
              "       'ChronicCond_Cancer', 'ChronicCond_ObstrPulmonary',\n",
              "       'ChronicCond_Depression', 'ChronicCond_Diabetes',\n",
              "       'ChronicCond_IschemicHeart', 'ChronicCond_Osteoporasis',\n",
              "       'ChronicCond_rheumatoidarthritis', 'ChronicCond_stroke',\n",
              "       'IPAnnualReimbursementAmt', 'IPAnnualDeductibleAmt',\n",
              "       'OPAnnualReimbursementAmt', 'OPAnnualDeductibleAmt', 'PotentialFraud'],\n",
              "      dtype='object')"
            ]
          },
          "execution_count": 9,
          "metadata": {},
          "output_type": "execute_result"
        }
      ],
      "source": [
        "data.columns"
      ]
    },
    {
      "cell_type": "code",
      "execution_count": null,
      "metadata": {
        "colab": {
          "base_uri": "https://localhost:8080/"
        },
        "id": "QaHf0cmDGOtr",
        "outputId": "efe11c1d-fa8e-4e7c-9486-5ff100f03b66"
      },
      "outputs": [
        {
          "name": "stdout",
          "output_type": "stream",
          "text": [
            "<class 'pandas.core.frame.DataFrame'>\n",
            "RangeIndex: 558211 entries, 0 to 558210\n",
            "Data columns (total 55 columns):\n",
            " #   Column                           Non-Null Count   Dtype  \n",
            "---  ------                           --------------   -----  \n",
            " 0   BeneID                           558211 non-null  object \n",
            " 1   ClaimID                          558211 non-null  object \n",
            " 2   ClaimStartDt                     558211 non-null  object \n",
            " 3   ClaimEndDt                       558211 non-null  object \n",
            " 4   Provider                         558211 non-null  object \n",
            " 5   InscClaimAmtReimbursed           558211 non-null  int64  \n",
            " 6   AttendingPhysician               556703 non-null  object \n",
            " 7   OperatingPhysician               114447 non-null  object \n",
            " 8   OtherPhysician                   199736 non-null  object \n",
            " 9   AdmissionDt                      40474 non-null   object \n",
            " 10  ClmAdmitDiagnosisCode            145899 non-null  object \n",
            " 11  DeductibleAmtPaid                557312 non-null  float64\n",
            " 12  DischargeDt                      40474 non-null   object \n",
            " 13  DiagnosisGroupCode               40474 non-null   object \n",
            " 14  ClmDiagnosisCode_1               547758 non-null  object \n",
            " 15  ClmDiagnosisCode_2               362605 non-null  object \n",
            " 16  ClmDiagnosisCode_3               243055 non-null  object \n",
            " 17  ClmDiagnosisCode_4               164536 non-null  object \n",
            " 18  ClmDiagnosisCode_5               111924 non-null  object \n",
            " 19  ClmDiagnosisCode_6               84392 non-null   object \n",
            " 20  ClmDiagnosisCode_7               66177 non-null   object \n",
            " 21  ClmDiagnosisCode_8               53444 non-null   object \n",
            " 22  ClmDiagnosisCode_9               41815 non-null   object \n",
            " 23  ClmDiagnosisCode_10              5010 non-null    object \n",
            " 24  ClmProcedureCode_1               23310 non-null   float64\n",
            " 25  ClmProcedureCode_2               5490 non-null    float64\n",
            " 26  ClmProcedureCode_3               969 non-null     float64\n",
            " 27  ClmProcedureCode_4               118 non-null     float64\n",
            " 28  ClmProcedureCode_5               9 non-null       float64\n",
            " 29  ClmProcedureCode_6               0 non-null       float64\n",
            " 30  DOB                              558211 non-null  object \n",
            " 31  DOD                              4131 non-null    object \n",
            " 32  Gender                           558211 non-null  int64  \n",
            " 33  Race                             558211 non-null  int64  \n",
            " 34  RenalDiseaseIndicator            558211 non-null  object \n",
            " 35  State                            558211 non-null  int64  \n",
            " 36  County                           558211 non-null  int64  \n",
            " 37  NoOfMonths_PartACov              558211 non-null  int64  \n",
            " 38  NoOfMonths_PartBCov              558211 non-null  int64  \n",
            " 39  ChronicCond_Alzheimer            558211 non-null  int64  \n",
            " 40  ChronicCond_Heartfailure         558211 non-null  int64  \n",
            " 41  ChronicCond_KidneyDisease        558211 non-null  int64  \n",
            " 42  ChronicCond_Cancer               558211 non-null  int64  \n",
            " 43  ChronicCond_ObstrPulmonary       558211 non-null  int64  \n",
            " 44  ChronicCond_Depression           558211 non-null  int64  \n",
            " 45  ChronicCond_Diabetes             558211 non-null  int64  \n",
            " 46  ChronicCond_IschemicHeart        558211 non-null  int64  \n",
            " 47  ChronicCond_Osteoporasis         558211 non-null  int64  \n",
            " 48  ChronicCond_rheumatoidarthritis  558211 non-null  int64  \n",
            " 49  ChronicCond_stroke               558211 non-null  int64  \n",
            " 50  IPAnnualReimbursementAmt         558211 non-null  int64  \n",
            " 51  IPAnnualDeductibleAmt            558211 non-null  int64  \n",
            " 52  OPAnnualReimbursementAmt         558211 non-null  int64  \n",
            " 53  OPAnnualDeductibleAmt            558211 non-null  int64  \n",
            " 54  PotentialFraud                   558211 non-null  object \n",
            "dtypes: float64(7), int64(22), object(26)\n",
            "memory usage: 234.2+ MB\n"
          ]
        }
      ],
      "source": [
        "data.info()"
      ]
    },
    {
      "cell_type": "code",
      "execution_count": null,
      "metadata": {
        "colab": {
          "base_uri": "https://localhost:8080/"
        },
        "id": "E89v0oIOhFS4",
        "outputId": "26ccdf13-ed7f-424c-e612-286a4f379963"
      },
      "outputs": [
        {
          "name": "stdout",
          "output_type": "stream",
          "text": [
            "AttendingPhysician 0.0  % missing values\n",
            "OperatingPhysician 0.79  % missing values\n",
            "OtherPhysician 0.64  % missing values\n",
            "AdmissionDt 0.93  % missing values\n",
            "ClmAdmitDiagnosisCode 0.74  % missing values\n",
            "DeductibleAmtPaid 0.0  % missing values\n",
            "DischargeDt 0.93  % missing values\n",
            "DiagnosisGroupCode 0.93  % missing values\n",
            "ClmDiagnosisCode_1 0.02  % missing values\n",
            "ClmDiagnosisCode_2 0.35  % missing values\n",
            "ClmDiagnosisCode_3 0.56  % missing values\n",
            "ClmDiagnosisCode_4 0.71  % missing values\n",
            "ClmDiagnosisCode_5 0.8  % missing values\n",
            "ClmDiagnosisCode_6 0.85  % missing values\n",
            "ClmDiagnosisCode_7 0.88  % missing values\n",
            "ClmDiagnosisCode_8 0.9  % missing values\n",
            "ClmDiagnosisCode_9 0.93  % missing values\n",
            "ClmDiagnosisCode_10 0.99  % missing values\n",
            "ClmProcedureCode_1 0.96  % missing values\n",
            "ClmProcedureCode_2 0.99  % missing values\n",
            "ClmProcedureCode_3 1.0  % missing values\n",
            "ClmProcedureCode_4 1.0  % missing values\n",
            "ClmProcedureCode_5 1.0  % missing values\n",
            "ClmProcedureCode_6 1.0  % missing values\n",
            "DOD 0.99  % missing values\n"
          ]
        }
      ],
      "source": [
        "#Checking the percentage of null values in each feature\n",
        "#Step 1 - Creating a list of features with null values\n",
        "features_with_na = [features for features in data.columns if data[features].isnull().sum()>0]\n",
        "\n",
        "#Step2 -Print the feature name and percentage of missing values\n",
        "\n",
        "for feature in features_with_na:\n",
        "    print(feature,np.round(data[feature].isnull().mean(),2), ' % missing values')\n"
      ]
    },
    {
      "cell_type": "code",
      "execution_count": null,
      "metadata": {
        "colab": {
          "base_uri": "https://localhost:8080/",
          "height": 244
        },
        "id": "MAgvDH8_BckR",
        "outputId": "2ab90c81-f3e6-455c-b135-2054201973dd"
      },
      "outputs": [
        {
          "name": "stdout",
          "output_type": "stream",
          "text": [
            "The length of numerical variables:  29\n"
          ]
        },
        {
          "data": {
            "application/vnd.google.colaboratory.intrinsic+json": {
              "type": "dataframe"
            },
            "text/html": [
              "\n",
              "  <div id=\"df-7e4c9326-3db6-45b3-bd5e-12dcc328c6f9\" class=\"colab-df-container\">\n",
              "    <div>\n",
              "<style scoped>\n",
              "    .dataframe tbody tr th:only-of-type {\n",
              "        vertical-align: middle;\n",
              "    }\n",
              "\n",
              "    .dataframe tbody tr th {\n",
              "        vertical-align: top;\n",
              "    }\n",
              "\n",
              "    .dataframe thead th {\n",
              "        text-align: right;\n",
              "    }\n",
              "</style>\n",
              "<table border=\"1\" class=\"dataframe\">\n",
              "  <thead>\n",
              "    <tr style=\"text-align: right;\">\n",
              "      <th></th>\n",
              "      <th>InscClaimAmtReimbursed</th>\n",
              "      <th>DeductibleAmtPaid</th>\n",
              "      <th>ClmProcedureCode_1</th>\n",
              "      <th>ClmProcedureCode_2</th>\n",
              "      <th>ClmProcedureCode_3</th>\n",
              "      <th>ClmProcedureCode_4</th>\n",
              "      <th>ClmProcedureCode_5</th>\n",
              "      <th>ClmProcedureCode_6</th>\n",
              "      <th>Gender</th>\n",
              "      <th>Race</th>\n",
              "      <th>State</th>\n",
              "      <th>County</th>\n",
              "      <th>NoOfMonths_PartACov</th>\n",
              "      <th>NoOfMonths_PartBCov</th>\n",
              "      <th>ChronicCond_Alzheimer</th>\n",
              "      <th>ChronicCond_Heartfailure</th>\n",
              "      <th>ChronicCond_KidneyDisease</th>\n",
              "      <th>ChronicCond_Cancer</th>\n",
              "      <th>ChronicCond_ObstrPulmonary</th>\n",
              "      <th>ChronicCond_Depression</th>\n",
              "      <th>ChronicCond_Diabetes</th>\n",
              "      <th>ChronicCond_IschemicHeart</th>\n",
              "      <th>ChronicCond_Osteoporasis</th>\n",
              "      <th>ChronicCond_rheumatoidarthritis</th>\n",
              "      <th>ChronicCond_stroke</th>\n",
              "      <th>IPAnnualReimbursementAmt</th>\n",
              "      <th>IPAnnualDeductibleAmt</th>\n",
              "      <th>OPAnnualReimbursementAmt</th>\n",
              "      <th>OPAnnualDeductibleAmt</th>\n",
              "    </tr>\n",
              "  </thead>\n",
              "  <tbody>\n",
              "    <tr>\n",
              "      <th>0</th>\n",
              "      <td>42000</td>\n",
              "      <td>1068.0</td>\n",
              "      <td>3521.0</td>\n",
              "      <td>2724.0</td>\n",
              "      <td>NaN</td>\n",
              "      <td>NaN</td>\n",
              "      <td>NaN</td>\n",
              "      <td>NaN</td>\n",
              "      <td>2</td>\n",
              "      <td>1</td>\n",
              "      <td>1</td>\n",
              "      <td>160</td>\n",
              "      <td>12</td>\n",
              "      <td>12</td>\n",
              "      <td>2</td>\n",
              "      <td>1</td>\n",
              "      <td>1</td>\n",
              "      <td>2</td>\n",
              "      <td>1</td>\n",
              "      <td>1</td>\n",
              "      <td>1</td>\n",
              "      <td>1</td>\n",
              "      <td>2</td>\n",
              "      <td>1</td>\n",
              "      <td>2</td>\n",
              "      <td>143800</td>\n",
              "      <td>4272</td>\n",
              "      <td>880</td>\n",
              "      <td>70</td>\n",
              "    </tr>\n",
              "    <tr>\n",
              "      <th>1</th>\n",
              "      <td>90</td>\n",
              "      <td>0.0</td>\n",
              "      <td>NaN</td>\n",
              "      <td>NaN</td>\n",
              "      <td>NaN</td>\n",
              "      <td>NaN</td>\n",
              "      <td>NaN</td>\n",
              "      <td>NaN</td>\n",
              "      <td>2</td>\n",
              "      <td>1</td>\n",
              "      <td>1</td>\n",
              "      <td>440</td>\n",
              "      <td>12</td>\n",
              "      <td>12</td>\n",
              "      <td>1</td>\n",
              "      <td>2</td>\n",
              "      <td>1</td>\n",
              "      <td>2</td>\n",
              "      <td>1</td>\n",
              "      <td>2</td>\n",
              "      <td>1</td>\n",
              "      <td>1</td>\n",
              "      <td>2</td>\n",
              "      <td>2</td>\n",
              "      <td>2</td>\n",
              "      <td>0</td>\n",
              "      <td>0</td>\n",
              "      <td>190</td>\n",
              "      <td>20</td>\n",
              "    </tr>\n",
              "    <tr>\n",
              "      <th>2</th>\n",
              "      <td>20</td>\n",
              "      <td>0.0</td>\n",
              "      <td>NaN</td>\n",
              "      <td>NaN</td>\n",
              "      <td>NaN</td>\n",
              "      <td>NaN</td>\n",
              "      <td>NaN</td>\n",
              "      <td>NaN</td>\n",
              "      <td>1</td>\n",
              "      <td>1</td>\n",
              "      <td>1</td>\n",
              "      <td>660</td>\n",
              "      <td>12</td>\n",
              "      <td>12</td>\n",
              "      <td>1</td>\n",
              "      <td>1</td>\n",
              "      <td>1</td>\n",
              "      <td>1</td>\n",
              "      <td>2</td>\n",
              "      <td>2</td>\n",
              "      <td>1</td>\n",
              "      <td>1</td>\n",
              "      <td>2</td>\n",
              "      <td>2</td>\n",
              "      <td>2</td>\n",
              "      <td>0</td>\n",
              "      <td>0</td>\n",
              "      <td>300</td>\n",
              "      <td>110</td>\n",
              "    </tr>\n",
              "    <tr>\n",
              "      <th>3</th>\n",
              "      <td>100</td>\n",
              "      <td>0.0</td>\n",
              "      <td>NaN</td>\n",
              "      <td>NaN</td>\n",
              "      <td>NaN</td>\n",
              "      <td>NaN</td>\n",
              "      <td>NaN</td>\n",
              "      <td>NaN</td>\n",
              "      <td>2</td>\n",
              "      <td>1</td>\n",
              "      <td>1</td>\n",
              "      <td>440</td>\n",
              "      <td>12</td>\n",
              "      <td>12</td>\n",
              "      <td>2</td>\n",
              "      <td>2</td>\n",
              "      <td>1</td>\n",
              "      <td>2</td>\n",
              "      <td>2</td>\n",
              "      <td>2</td>\n",
              "      <td>1</td>\n",
              "      <td>1</td>\n",
              "      <td>2</td>\n",
              "      <td>2</td>\n",
              "      <td>2</td>\n",
              "      <td>0</td>\n",
              "      <td>0</td>\n",
              "      <td>3600</td>\n",
              "      <td>10</td>\n",
              "    </tr>\n",
              "    <tr>\n",
              "      <th>4</th>\n",
              "      <td>200</td>\n",
              "      <td>0.0</td>\n",
              "      <td>NaN</td>\n",
              "      <td>NaN</td>\n",
              "      <td>NaN</td>\n",
              "      <td>NaN</td>\n",
              "      <td>NaN</td>\n",
              "      <td>NaN</td>\n",
              "      <td>1</td>\n",
              "      <td>1</td>\n",
              "      <td>1</td>\n",
              "      <td>380</td>\n",
              "      <td>12</td>\n",
              "      <td>12</td>\n",
              "      <td>2</td>\n",
              "      <td>1</td>\n",
              "      <td>2</td>\n",
              "      <td>2</td>\n",
              "      <td>2</td>\n",
              "      <td>2</td>\n",
              "      <td>1</td>\n",
              "      <td>1</td>\n",
              "      <td>2</td>\n",
              "      <td>1</td>\n",
              "      <td>2</td>\n",
              "      <td>0</td>\n",
              "      <td>0</td>\n",
              "      <td>690</td>\n",
              "      <td>150</td>\n",
              "    </tr>\n",
              "  </tbody>\n",
              "</table>\n",
              "</div>\n",
              "    <div class=\"colab-df-buttons\">\n",
              "\n",
              "  <div class=\"colab-df-container\">\n",
              "    <button class=\"colab-df-convert\" onclick=\"convertToInteractive('df-7e4c9326-3db6-45b3-bd5e-12dcc328c6f9')\"\n",
              "            title=\"Convert this dataframe to an interactive table.\"\n",
              "            style=\"display:none;\">\n",
              "\n",
              "  <svg xmlns=\"http://www.w3.org/2000/svg\" height=\"24px\" viewBox=\"0 -960 960 960\">\n",
              "    <path d=\"M120-120v-720h720v720H120Zm60-500h600v-160H180v160Zm220 220h160v-160H400v160Zm0 220h160v-160H400v160ZM180-400h160v-160H180v160Zm440 0h160v-160H620v160ZM180-180h160v-160H180v160Zm440 0h160v-160H620v160Z\"/>\n",
              "  </svg>\n",
              "    </button>\n",
              "\n",
              "  <style>\n",
              "    .colab-df-container {\n",
              "      display:flex;\n",
              "      gap: 12px;\n",
              "    }\n",
              "\n",
              "    .colab-df-convert {\n",
              "      background-color: #E8F0FE;\n",
              "      border: none;\n",
              "      border-radius: 50%;\n",
              "      cursor: pointer;\n",
              "      display: none;\n",
              "      fill: #1967D2;\n",
              "      height: 32px;\n",
              "      padding: 0 0 0 0;\n",
              "      width: 32px;\n",
              "    }\n",
              "\n",
              "    .colab-df-convert:hover {\n",
              "      background-color: #E2EBFA;\n",
              "      box-shadow: 0px 1px 2px rgba(60, 64, 67, 0.3), 0px 1px 3px 1px rgba(60, 64, 67, 0.15);\n",
              "      fill: #174EA6;\n",
              "    }\n",
              "\n",
              "    .colab-df-buttons div {\n",
              "      margin-bottom: 4px;\n",
              "    }\n",
              "\n",
              "    [theme=dark] .colab-df-convert {\n",
              "      background-color: #3B4455;\n",
              "      fill: #D2E3FC;\n",
              "    }\n",
              "\n",
              "    [theme=dark] .colab-df-convert:hover {\n",
              "      background-color: #434B5C;\n",
              "      box-shadow: 0px 1px 3px 1px rgba(0, 0, 0, 0.15);\n",
              "      filter: drop-shadow(0px 1px 2px rgba(0, 0, 0, 0.3));\n",
              "      fill: #FFFFFF;\n",
              "    }\n",
              "  </style>\n",
              "\n",
              "    <script>\n",
              "      const buttonEl =\n",
              "        document.querySelector('#df-7e4c9326-3db6-45b3-bd5e-12dcc328c6f9 button.colab-df-convert');\n",
              "      buttonEl.style.display =\n",
              "        google.colab.kernel.accessAllowed ? 'block' : 'none';\n",
              "\n",
              "      async function convertToInteractive(key) {\n",
              "        const element = document.querySelector('#df-7e4c9326-3db6-45b3-bd5e-12dcc328c6f9');\n",
              "        const dataTable =\n",
              "          await google.colab.kernel.invokeFunction('convertToInteractive',\n",
              "                                                    [key], {});\n",
              "        if (!dataTable) return;\n",
              "\n",
              "        const docLinkHtml = 'Like what you see? Visit the ' +\n",
              "          '<a target=\"_blank\" href=https://colab.research.google.com/notebooks/data_table.ipynb>data table notebook</a>'\n",
              "          + ' to learn more about interactive tables.';\n",
              "        element.innerHTML = '';\n",
              "        dataTable['output_type'] = 'display_data';\n",
              "        await google.colab.output.renderOutput(dataTable, element);\n",
              "        const docLink = document.createElement('div');\n",
              "        docLink.innerHTML = docLinkHtml;\n",
              "        element.appendChild(docLink);\n",
              "      }\n",
              "    </script>\n",
              "  </div>\n",
              "\n",
              "\n",
              "<div id=\"df-1a3749a2-9af7-47b5-81b1-cbc86db75940\">\n",
              "  <button class=\"colab-df-quickchart\" onclick=\"quickchart('df-1a3749a2-9af7-47b5-81b1-cbc86db75940')\"\n",
              "            title=\"Suggest charts\"\n",
              "            style=\"display:none;\">\n",
              "\n",
              "<svg xmlns=\"http://www.w3.org/2000/svg\" height=\"24px\"viewBox=\"0 0 24 24\"\n",
              "     width=\"24px\">\n",
              "    <g>\n",
              "        <path d=\"M19 3H5c-1.1 0-2 .9-2 2v14c0 1.1.9 2 2 2h14c1.1 0 2-.9 2-2V5c0-1.1-.9-2-2-2zM9 17H7v-7h2v7zm4 0h-2V7h2v10zm4 0h-2v-4h2v4z\"/>\n",
              "    </g>\n",
              "</svg>\n",
              "  </button>\n",
              "\n",
              "<style>\n",
              "  .colab-df-quickchart {\n",
              "      --bg-color: #E8F0FE;\n",
              "      --fill-color: #1967D2;\n",
              "      --hover-bg-color: #E2EBFA;\n",
              "      --hover-fill-color: #174EA6;\n",
              "      --disabled-fill-color: #AAA;\n",
              "      --disabled-bg-color: #DDD;\n",
              "  }\n",
              "\n",
              "  [theme=dark] .colab-df-quickchart {\n",
              "      --bg-color: #3B4455;\n",
              "      --fill-color: #D2E3FC;\n",
              "      --hover-bg-color: #434B5C;\n",
              "      --hover-fill-color: #FFFFFF;\n",
              "      --disabled-bg-color: #3B4455;\n",
              "      --disabled-fill-color: #666;\n",
              "  }\n",
              "\n",
              "  .colab-df-quickchart {\n",
              "    background-color: var(--bg-color);\n",
              "    border: none;\n",
              "    border-radius: 50%;\n",
              "    cursor: pointer;\n",
              "    display: none;\n",
              "    fill: var(--fill-color);\n",
              "    height: 32px;\n",
              "    padding: 0;\n",
              "    width: 32px;\n",
              "  }\n",
              "\n",
              "  .colab-df-quickchart:hover {\n",
              "    background-color: var(--hover-bg-color);\n",
              "    box-shadow: 0 1px 2px rgba(60, 64, 67, 0.3), 0 1px 3px 1px rgba(60, 64, 67, 0.15);\n",
              "    fill: var(--button-hover-fill-color);\n",
              "  }\n",
              "\n",
              "  .colab-df-quickchart-complete:disabled,\n",
              "  .colab-df-quickchart-complete:disabled:hover {\n",
              "    background-color: var(--disabled-bg-color);\n",
              "    fill: var(--disabled-fill-color);\n",
              "    box-shadow: none;\n",
              "  }\n",
              "\n",
              "  .colab-df-spinner {\n",
              "    border: 2px solid var(--fill-color);\n",
              "    border-color: transparent;\n",
              "    border-bottom-color: var(--fill-color);\n",
              "    animation:\n",
              "      spin 1s steps(1) infinite;\n",
              "  }\n",
              "\n",
              "  @keyframes spin {\n",
              "    0% {\n",
              "      border-color: transparent;\n",
              "      border-bottom-color: var(--fill-color);\n",
              "      border-left-color: var(--fill-color);\n",
              "    }\n",
              "    20% {\n",
              "      border-color: transparent;\n",
              "      border-left-color: var(--fill-color);\n",
              "      border-top-color: var(--fill-color);\n",
              "    }\n",
              "    30% {\n",
              "      border-color: transparent;\n",
              "      border-left-color: var(--fill-color);\n",
              "      border-top-color: var(--fill-color);\n",
              "      border-right-color: var(--fill-color);\n",
              "    }\n",
              "    40% {\n",
              "      border-color: transparent;\n",
              "      border-right-color: var(--fill-color);\n",
              "      border-top-color: var(--fill-color);\n",
              "    }\n",
              "    60% {\n",
              "      border-color: transparent;\n",
              "      border-right-color: var(--fill-color);\n",
              "    }\n",
              "    80% {\n",
              "      border-color: transparent;\n",
              "      border-right-color: var(--fill-color);\n",
              "      border-bottom-color: var(--fill-color);\n",
              "    }\n",
              "    90% {\n",
              "      border-color: transparent;\n",
              "      border-bottom-color: var(--fill-color);\n",
              "    }\n",
              "  }\n",
              "</style>\n",
              "\n",
              "  <script>\n",
              "    async function quickchart(key) {\n",
              "      const quickchartButtonEl =\n",
              "        document.querySelector('#' + key + ' button');\n",
              "      quickchartButtonEl.disabled = true;  // To prevent multiple clicks.\n",
              "      quickchartButtonEl.classList.add('colab-df-spinner');\n",
              "      try {\n",
              "        const charts = await google.colab.kernel.invokeFunction(\n",
              "            'suggestCharts', [key], {});\n",
              "      } catch (error) {\n",
              "        console.error('Error during call to suggestCharts:', error);\n",
              "      }\n",
              "      quickchartButtonEl.classList.remove('colab-df-spinner');\n",
              "      quickchartButtonEl.classList.add('colab-df-quickchart-complete');\n",
              "    }\n",
              "    (() => {\n",
              "      let quickchartButtonEl =\n",
              "        document.querySelector('#df-1a3749a2-9af7-47b5-81b1-cbc86db75940 button');\n",
              "      quickchartButtonEl.style.display =\n",
              "        google.colab.kernel.accessAllowed ? 'block' : 'none';\n",
              "    })();\n",
              "  </script>\n",
              "</div>\n",
              "\n",
              "    </div>\n",
              "  </div>\n"
            ],
            "text/plain": [
              "   InscClaimAmtReimbursed  DeductibleAmtPaid  ClmProcedureCode_1  \\\n",
              "0                   42000             1068.0              3521.0   \n",
              "1                      90                0.0                 NaN   \n",
              "2                      20                0.0                 NaN   \n",
              "3                     100                0.0                 NaN   \n",
              "4                     200                0.0                 NaN   \n",
              "\n",
              "   ClmProcedureCode_2  ClmProcedureCode_3  ClmProcedureCode_4  \\\n",
              "0              2724.0                 NaN                 NaN   \n",
              "1                 NaN                 NaN                 NaN   \n",
              "2                 NaN                 NaN                 NaN   \n",
              "3                 NaN                 NaN                 NaN   \n",
              "4                 NaN                 NaN                 NaN   \n",
              "\n",
              "   ClmProcedureCode_5  ClmProcedureCode_6  Gender  Race  State  County  \\\n",
              "0                 NaN                 NaN       2     1      1     160   \n",
              "1                 NaN                 NaN       2     1      1     440   \n",
              "2                 NaN                 NaN       1     1      1     660   \n",
              "3                 NaN                 NaN       2     1      1     440   \n",
              "4                 NaN                 NaN       1     1      1     380   \n",
              "\n",
              "   NoOfMonths_PartACov  NoOfMonths_PartBCov  ChronicCond_Alzheimer  \\\n",
              "0                   12                   12                      2   \n",
              "1                   12                   12                      1   \n",
              "2                   12                   12                      1   \n",
              "3                   12                   12                      2   \n",
              "4                   12                   12                      2   \n",
              "\n",
              "   ChronicCond_Heartfailure  ChronicCond_KidneyDisease  ChronicCond_Cancer  \\\n",
              "0                         1                          1                   2   \n",
              "1                         2                          1                   2   \n",
              "2                         1                          1                   1   \n",
              "3                         2                          1                   2   \n",
              "4                         1                          2                   2   \n",
              "\n",
              "   ChronicCond_ObstrPulmonary  ChronicCond_Depression  ChronicCond_Diabetes  \\\n",
              "0                           1                       1                     1   \n",
              "1                           1                       2                     1   \n",
              "2                           2                       2                     1   \n",
              "3                           2                       2                     1   \n",
              "4                           2                       2                     1   \n",
              "\n",
              "   ChronicCond_IschemicHeart  ChronicCond_Osteoporasis  \\\n",
              "0                          1                         2   \n",
              "1                          1                         2   \n",
              "2                          1                         2   \n",
              "3                          1                         2   \n",
              "4                          1                         2   \n",
              "\n",
              "   ChronicCond_rheumatoidarthritis  ChronicCond_stroke  \\\n",
              "0                                1                   2   \n",
              "1                                2                   2   \n",
              "2                                2                   2   \n",
              "3                                2                   2   \n",
              "4                                1                   2   \n",
              "\n",
              "   IPAnnualReimbursementAmt  IPAnnualDeductibleAmt  OPAnnualReimbursementAmt  \\\n",
              "0                    143800                   4272                       880   \n",
              "1                         0                      0                       190   \n",
              "2                         0                      0                       300   \n",
              "3                         0                      0                      3600   \n",
              "4                         0                      0                       690   \n",
              "\n",
              "   OPAnnualDeductibleAmt  \n",
              "0                     70  \n",
              "1                     20  \n",
              "2                    110  \n",
              "3                     10  \n",
              "4                    150  "
            ]
          },
          "execution_count": 12,
          "metadata": {},
          "output_type": "execute_result"
        }
      ],
      "source": [
        "#creating a list of numerical features\n",
        "numerical_features= data.select_dtypes(include='number').columns.tolist()\n",
        "print(\"The length of numerical variables: \", len(numerical_features))\n",
        "#display the numerical variables\n",
        "data[numerical_features].head()"
      ]
    },
    {
      "cell_type": "code",
      "execution_count": null,
      "metadata": {
        "colab": {
          "base_uri": "https://localhost:8080/"
        },
        "id": "MbhPLBdFB8mP",
        "outputId": "27bedf9a-19b8-4a85-e566-d220063a52a3"
      },
      "outputs": [
        {
          "data": {
            "text/plain": [
              "Index(['InscClaimAmtReimbursed', 'DeductibleAmtPaid', 'ClmProcedureCode_1',\n",
              "       'ClmProcedureCode_2', 'ClmProcedureCode_3', 'ClmProcedureCode_4',\n",
              "       'ClmProcedureCode_5', 'ClmProcedureCode_6', 'Gender', 'Race', 'State',\n",
              "       'County', 'NoOfMonths_PartACov', 'NoOfMonths_PartBCov',\n",
              "       'ChronicCond_Alzheimer', 'ChronicCond_Heartfailure',\n",
              "       'ChronicCond_KidneyDisease', 'ChronicCond_Cancer',\n",
              "       'ChronicCond_ObstrPulmonary', 'ChronicCond_Depression',\n",
              "       'ChronicCond_Diabetes', 'ChronicCond_IschemicHeart',\n",
              "       'ChronicCond_Osteoporasis', 'ChronicCond_rheumatoidarthritis',\n",
              "       'ChronicCond_stroke', 'IPAnnualReimbursementAmt',\n",
              "       'IPAnnualDeductibleAmt', 'OPAnnualReimbursementAmt',\n",
              "       'OPAnnualDeductibleAmt'],\n",
              "      dtype='object')"
            ]
          },
          "execution_count": 13,
          "metadata": {},
          "output_type": "execute_result"
        }
      ],
      "source": [
        "data[numerical_features].columns"
      ]
    },
    {
      "cell_type": "code",
      "execution_count": null,
      "metadata": {
        "colab": {
          "base_uri": "https://localhost:8080/",
          "height": 244
        },
        "id": "7vW05aDTCNEp",
        "outputId": "cf5fed07-3c8a-4bf3-bc8c-c51fe85494a9"
      },
      "outputs": [
        {
          "name": "stdout",
          "output_type": "stream",
          "text": [
            "The length of categorical variables:  26\n"
          ]
        },
        {
          "data": {
            "application/vnd.google.colaboratory.intrinsic+json": {
              "type": "dataframe"
            },
            "text/html": [
              "\n",
              "  <div id=\"df-a02a7ed1-9974-4e59-808e-a014c2a3a8a6\" class=\"colab-df-container\">\n",
              "    <div>\n",
              "<style scoped>\n",
              "    .dataframe tbody tr th:only-of-type {\n",
              "        vertical-align: middle;\n",
              "    }\n",
              "\n",
              "    .dataframe tbody tr th {\n",
              "        vertical-align: top;\n",
              "    }\n",
              "\n",
              "    .dataframe thead th {\n",
              "        text-align: right;\n",
              "    }\n",
              "</style>\n",
              "<table border=\"1\" class=\"dataframe\">\n",
              "  <thead>\n",
              "    <tr style=\"text-align: right;\">\n",
              "      <th></th>\n",
              "      <th>BeneID</th>\n",
              "      <th>ClaimID</th>\n",
              "      <th>ClaimStartDt</th>\n",
              "      <th>ClaimEndDt</th>\n",
              "      <th>Provider</th>\n",
              "      <th>AttendingPhysician</th>\n",
              "      <th>OperatingPhysician</th>\n",
              "      <th>OtherPhysician</th>\n",
              "      <th>AdmissionDt</th>\n",
              "      <th>ClmAdmitDiagnosisCode</th>\n",
              "      <th>DischargeDt</th>\n",
              "      <th>DiagnosisGroupCode</th>\n",
              "      <th>ClmDiagnosisCode_1</th>\n",
              "      <th>ClmDiagnosisCode_2</th>\n",
              "      <th>ClmDiagnosisCode_3</th>\n",
              "      <th>ClmDiagnosisCode_4</th>\n",
              "      <th>ClmDiagnosisCode_5</th>\n",
              "      <th>ClmDiagnosisCode_6</th>\n",
              "      <th>ClmDiagnosisCode_7</th>\n",
              "      <th>ClmDiagnosisCode_8</th>\n",
              "      <th>ClmDiagnosisCode_9</th>\n",
              "      <th>ClmDiagnosisCode_10</th>\n",
              "      <th>DOB</th>\n",
              "      <th>DOD</th>\n",
              "      <th>RenalDiseaseIndicator</th>\n",
              "      <th>PotentialFraud</th>\n",
              "    </tr>\n",
              "  </thead>\n",
              "  <tbody>\n",
              "    <tr>\n",
              "      <th>0</th>\n",
              "      <td>BENE102690</td>\n",
              "      <td>CLM49733</td>\n",
              "      <td>2009-05-04</td>\n",
              "      <td>2009-05-18</td>\n",
              "      <td>PRV51001</td>\n",
              "      <td>PHY383193</td>\n",
              "      <td>PHY378091</td>\n",
              "      <td>PHY389113</td>\n",
              "      <td>2009-05-04</td>\n",
              "      <td>41401</td>\n",
              "      <td>2009-05-18</td>\n",
              "      <td>245</td>\n",
              "      <td>4241</td>\n",
              "      <td>42731</td>\n",
              "      <td>4168</td>\n",
              "      <td>2724</td>\n",
              "      <td>4019</td>\n",
              "      <td>42822</td>\n",
              "      <td>2720</td>\n",
              "      <td>45829</td>\n",
              "      <td>53081</td>\n",
              "      <td>NaN</td>\n",
              "      <td>1929-11-01</td>\n",
              "      <td>NaN</td>\n",
              "      <td>Y</td>\n",
              "      <td>No</td>\n",
              "    </tr>\n",
              "    <tr>\n",
              "      <th>1</th>\n",
              "      <td>BENE106078</td>\n",
              "      <td>CLM419490</td>\n",
              "      <td>2009-06-16</td>\n",
              "      <td>2009-06-16</td>\n",
              "      <td>PRV51001</td>\n",
              "      <td>PHY345302</td>\n",
              "      <td>NaN</td>\n",
              "      <td>NaN</td>\n",
              "      <td>NaN</td>\n",
              "      <td>NaN</td>\n",
              "      <td>NaN</td>\n",
              "      <td>NaN</td>\n",
              "      <td>V769</td>\n",
              "      <td>NaN</td>\n",
              "      <td>NaN</td>\n",
              "      <td>NaN</td>\n",
              "      <td>NaN</td>\n",
              "      <td>NaN</td>\n",
              "      <td>NaN</td>\n",
              "      <td>NaN</td>\n",
              "      <td>NaN</td>\n",
              "      <td>NaN</td>\n",
              "      <td>1928-12-01</td>\n",
              "      <td>NaN</td>\n",
              "      <td>Y</td>\n",
              "      <td>No</td>\n",
              "    </tr>\n",
              "    <tr>\n",
              "      <th>2</th>\n",
              "      <td>BENE11727</td>\n",
              "      <td>CLM733300</td>\n",
              "      <td>2009-12-17</td>\n",
              "      <td>2009-12-17</td>\n",
              "      <td>PRV51001</td>\n",
              "      <td>PHY383007</td>\n",
              "      <td>NaN</td>\n",
              "      <td>PHY383007</td>\n",
              "      <td>NaN</td>\n",
              "      <td>NaN</td>\n",
              "      <td>NaN</td>\n",
              "      <td>NaN</td>\n",
              "      <td>5953</td>\n",
              "      <td>42731</td>\n",
              "      <td>NaN</td>\n",
              "      <td>NaN</td>\n",
              "      <td>NaN</td>\n",
              "      <td>NaN</td>\n",
              "      <td>NaN</td>\n",
              "      <td>NaN</td>\n",
              "      <td>NaN</td>\n",
              "      <td>NaN</td>\n",
              "      <td>1930-05-01</td>\n",
              "      <td>NaN</td>\n",
              "      <td>Y</td>\n",
              "      <td>No</td>\n",
              "    </tr>\n",
              "    <tr>\n",
              "      <th>3</th>\n",
              "      <td>BENE123416</td>\n",
              "      <td>CLM172987</td>\n",
              "      <td>2009-02-02</td>\n",
              "      <td>2009-02-02</td>\n",
              "      <td>PRV51001</td>\n",
              "      <td>PHY345302</td>\n",
              "      <td>NaN</td>\n",
              "      <td>PHY345302</td>\n",
              "      <td>NaN</td>\n",
              "      <td>NaN</td>\n",
              "      <td>NaN</td>\n",
              "      <td>NaN</td>\n",
              "      <td>24900</td>\n",
              "      <td>NaN</td>\n",
              "      <td>NaN</td>\n",
              "      <td>NaN</td>\n",
              "      <td>NaN</td>\n",
              "      <td>NaN</td>\n",
              "      <td>NaN</td>\n",
              "      <td>NaN</td>\n",
              "      <td>NaN</td>\n",
              "      <td>NaN</td>\n",
              "      <td>1927-03-01</td>\n",
              "      <td>NaN</td>\n",
              "      <td>0</td>\n",
              "      <td>No</td>\n",
              "    </tr>\n",
              "    <tr>\n",
              "      <th>4</th>\n",
              "      <td>BENE126477</td>\n",
              "      <td>CLM361230</td>\n",
              "      <td>2009-05-15</td>\n",
              "      <td>2009-05-15</td>\n",
              "      <td>PRV51001</td>\n",
              "      <td>PHY354616</td>\n",
              "      <td>PHY405310</td>\n",
              "      <td>PHY405310</td>\n",
              "      <td>NaN</td>\n",
              "      <td>NaN</td>\n",
              "      <td>NaN</td>\n",
              "      <td>NaN</td>\n",
              "      <td>7825</td>\n",
              "      <td>49390</td>\n",
              "      <td>4239</td>\n",
              "      <td>5739</td>\n",
              "      <td>5768</td>\n",
              "      <td>7936</td>\n",
              "      <td>NaN</td>\n",
              "      <td>NaN</td>\n",
              "      <td>NaN</td>\n",
              "      <td>NaN</td>\n",
              "      <td>1940-04-01</td>\n",
              "      <td>NaN</td>\n",
              "      <td>0</td>\n",
              "      <td>No</td>\n",
              "    </tr>\n",
              "  </tbody>\n",
              "</table>\n",
              "</div>\n",
              "    <div class=\"colab-df-buttons\">\n",
              "\n",
              "  <div class=\"colab-df-container\">\n",
              "    <button class=\"colab-df-convert\" onclick=\"convertToInteractive('df-a02a7ed1-9974-4e59-808e-a014c2a3a8a6')\"\n",
              "            title=\"Convert this dataframe to an interactive table.\"\n",
              "            style=\"display:none;\">\n",
              "\n",
              "  <svg xmlns=\"http://www.w3.org/2000/svg\" height=\"24px\" viewBox=\"0 -960 960 960\">\n",
              "    <path d=\"M120-120v-720h720v720H120Zm60-500h600v-160H180v160Zm220 220h160v-160H400v160Zm0 220h160v-160H400v160ZM180-400h160v-160H180v160Zm440 0h160v-160H620v160ZM180-180h160v-160H180v160Zm440 0h160v-160H620v160Z\"/>\n",
              "  </svg>\n",
              "    </button>\n",
              "\n",
              "  <style>\n",
              "    .colab-df-container {\n",
              "      display:flex;\n",
              "      gap: 12px;\n",
              "    }\n",
              "\n",
              "    .colab-df-convert {\n",
              "      background-color: #E8F0FE;\n",
              "      border: none;\n",
              "      border-radius: 50%;\n",
              "      cursor: pointer;\n",
              "      display: none;\n",
              "      fill: #1967D2;\n",
              "      height: 32px;\n",
              "      padding: 0 0 0 0;\n",
              "      width: 32px;\n",
              "    }\n",
              "\n",
              "    .colab-df-convert:hover {\n",
              "      background-color: #E2EBFA;\n",
              "      box-shadow: 0px 1px 2px rgba(60, 64, 67, 0.3), 0px 1px 3px 1px rgba(60, 64, 67, 0.15);\n",
              "      fill: #174EA6;\n",
              "    }\n",
              "\n",
              "    .colab-df-buttons div {\n",
              "      margin-bottom: 4px;\n",
              "    }\n",
              "\n",
              "    [theme=dark] .colab-df-convert {\n",
              "      background-color: #3B4455;\n",
              "      fill: #D2E3FC;\n",
              "    }\n",
              "\n",
              "    [theme=dark] .colab-df-convert:hover {\n",
              "      background-color: #434B5C;\n",
              "      box-shadow: 0px 1px 3px 1px rgba(0, 0, 0, 0.15);\n",
              "      filter: drop-shadow(0px 1px 2px rgba(0, 0, 0, 0.3));\n",
              "      fill: #FFFFFF;\n",
              "    }\n",
              "  </style>\n",
              "\n",
              "    <script>\n",
              "      const buttonEl =\n",
              "        document.querySelector('#df-a02a7ed1-9974-4e59-808e-a014c2a3a8a6 button.colab-df-convert');\n",
              "      buttonEl.style.display =\n",
              "        google.colab.kernel.accessAllowed ? 'block' : 'none';\n",
              "\n",
              "      async function convertToInteractive(key) {\n",
              "        const element = document.querySelector('#df-a02a7ed1-9974-4e59-808e-a014c2a3a8a6');\n",
              "        const dataTable =\n",
              "          await google.colab.kernel.invokeFunction('convertToInteractive',\n",
              "                                                    [key], {});\n",
              "        if (!dataTable) return;\n",
              "\n",
              "        const docLinkHtml = 'Like what you see? Visit the ' +\n",
              "          '<a target=\"_blank\" href=https://colab.research.google.com/notebooks/data_table.ipynb>data table notebook</a>'\n",
              "          + ' to learn more about interactive tables.';\n",
              "        element.innerHTML = '';\n",
              "        dataTable['output_type'] = 'display_data';\n",
              "        await google.colab.output.renderOutput(dataTable, element);\n",
              "        const docLink = document.createElement('div');\n",
              "        docLink.innerHTML = docLinkHtml;\n",
              "        element.appendChild(docLink);\n",
              "      }\n",
              "    </script>\n",
              "  </div>\n",
              "\n",
              "\n",
              "<div id=\"df-7a52ba96-7289-46a6-9087-8471472c4f91\">\n",
              "  <button class=\"colab-df-quickchart\" onclick=\"quickchart('df-7a52ba96-7289-46a6-9087-8471472c4f91')\"\n",
              "            title=\"Suggest charts\"\n",
              "            style=\"display:none;\">\n",
              "\n",
              "<svg xmlns=\"http://www.w3.org/2000/svg\" height=\"24px\"viewBox=\"0 0 24 24\"\n",
              "     width=\"24px\">\n",
              "    <g>\n",
              "        <path d=\"M19 3H5c-1.1 0-2 .9-2 2v14c0 1.1.9 2 2 2h14c1.1 0 2-.9 2-2V5c0-1.1-.9-2-2-2zM9 17H7v-7h2v7zm4 0h-2V7h2v10zm4 0h-2v-4h2v4z\"/>\n",
              "    </g>\n",
              "</svg>\n",
              "  </button>\n",
              "\n",
              "<style>\n",
              "  .colab-df-quickchart {\n",
              "      --bg-color: #E8F0FE;\n",
              "      --fill-color: #1967D2;\n",
              "      --hover-bg-color: #E2EBFA;\n",
              "      --hover-fill-color: #174EA6;\n",
              "      --disabled-fill-color: #AAA;\n",
              "      --disabled-bg-color: #DDD;\n",
              "  }\n",
              "\n",
              "  [theme=dark] .colab-df-quickchart {\n",
              "      --bg-color: #3B4455;\n",
              "      --fill-color: #D2E3FC;\n",
              "      --hover-bg-color: #434B5C;\n",
              "      --hover-fill-color: #FFFFFF;\n",
              "      --disabled-bg-color: #3B4455;\n",
              "      --disabled-fill-color: #666;\n",
              "  }\n",
              "\n",
              "  .colab-df-quickchart {\n",
              "    background-color: var(--bg-color);\n",
              "    border: none;\n",
              "    border-radius: 50%;\n",
              "    cursor: pointer;\n",
              "    display: none;\n",
              "    fill: var(--fill-color);\n",
              "    height: 32px;\n",
              "    padding: 0;\n",
              "    width: 32px;\n",
              "  }\n",
              "\n",
              "  .colab-df-quickchart:hover {\n",
              "    background-color: var(--hover-bg-color);\n",
              "    box-shadow: 0 1px 2px rgba(60, 64, 67, 0.3), 0 1px 3px 1px rgba(60, 64, 67, 0.15);\n",
              "    fill: var(--button-hover-fill-color);\n",
              "  }\n",
              "\n",
              "  .colab-df-quickchart-complete:disabled,\n",
              "  .colab-df-quickchart-complete:disabled:hover {\n",
              "    background-color: var(--disabled-bg-color);\n",
              "    fill: var(--disabled-fill-color);\n",
              "    box-shadow: none;\n",
              "  }\n",
              "\n",
              "  .colab-df-spinner {\n",
              "    border: 2px solid var(--fill-color);\n",
              "    border-color: transparent;\n",
              "    border-bottom-color: var(--fill-color);\n",
              "    animation:\n",
              "      spin 1s steps(1) infinite;\n",
              "  }\n",
              "\n",
              "  @keyframes spin {\n",
              "    0% {\n",
              "      border-color: transparent;\n",
              "      border-bottom-color: var(--fill-color);\n",
              "      border-left-color: var(--fill-color);\n",
              "    }\n",
              "    20% {\n",
              "      border-color: transparent;\n",
              "      border-left-color: var(--fill-color);\n",
              "      border-top-color: var(--fill-color);\n",
              "    }\n",
              "    30% {\n",
              "      border-color: transparent;\n",
              "      border-left-color: var(--fill-color);\n",
              "      border-top-color: var(--fill-color);\n",
              "      border-right-color: var(--fill-color);\n",
              "    }\n",
              "    40% {\n",
              "      border-color: transparent;\n",
              "      border-right-color: var(--fill-color);\n",
              "      border-top-color: var(--fill-color);\n",
              "    }\n",
              "    60% {\n",
              "      border-color: transparent;\n",
              "      border-right-color: var(--fill-color);\n",
              "    }\n",
              "    80% {\n",
              "      border-color: transparent;\n",
              "      border-right-color: var(--fill-color);\n",
              "      border-bottom-color: var(--fill-color);\n",
              "    }\n",
              "    90% {\n",
              "      border-color: transparent;\n",
              "      border-bottom-color: var(--fill-color);\n",
              "    }\n",
              "  }\n",
              "</style>\n",
              "\n",
              "  <script>\n",
              "    async function quickchart(key) {\n",
              "      const quickchartButtonEl =\n",
              "        document.querySelector('#' + key + ' button');\n",
              "      quickchartButtonEl.disabled = true;  // To prevent multiple clicks.\n",
              "      quickchartButtonEl.classList.add('colab-df-spinner');\n",
              "      try {\n",
              "        const charts = await google.colab.kernel.invokeFunction(\n",
              "            'suggestCharts', [key], {});\n",
              "      } catch (error) {\n",
              "        console.error('Error during call to suggestCharts:', error);\n",
              "      }\n",
              "      quickchartButtonEl.classList.remove('colab-df-spinner');\n",
              "      quickchartButtonEl.classList.add('colab-df-quickchart-complete');\n",
              "    }\n",
              "    (() => {\n",
              "      let quickchartButtonEl =\n",
              "        document.querySelector('#df-7a52ba96-7289-46a6-9087-8471472c4f91 button');\n",
              "      quickchartButtonEl.style.display =\n",
              "        google.colab.kernel.accessAllowed ? 'block' : 'none';\n",
              "    })();\n",
              "  </script>\n",
              "</div>\n",
              "\n",
              "    </div>\n",
              "  </div>\n"
            ],
            "text/plain": [
              "       BeneID    ClaimID ClaimStartDt  ClaimEndDt  Provider  \\\n",
              "0  BENE102690   CLM49733   2009-05-04  2009-05-18  PRV51001   \n",
              "1  BENE106078  CLM419490   2009-06-16  2009-06-16  PRV51001   \n",
              "2   BENE11727  CLM733300   2009-12-17  2009-12-17  PRV51001   \n",
              "3  BENE123416  CLM172987   2009-02-02  2009-02-02  PRV51001   \n",
              "4  BENE126477  CLM361230   2009-05-15  2009-05-15  PRV51001   \n",
              "\n",
              "  AttendingPhysician OperatingPhysician OtherPhysician AdmissionDt  \\\n",
              "0          PHY383193          PHY378091      PHY389113  2009-05-04   \n",
              "1          PHY345302                NaN            NaN         NaN   \n",
              "2          PHY383007                NaN      PHY383007         NaN   \n",
              "3          PHY345302                NaN      PHY345302         NaN   \n",
              "4          PHY354616          PHY405310      PHY405310         NaN   \n",
              "\n",
              "  ClmAdmitDiagnosisCode DischargeDt DiagnosisGroupCode ClmDiagnosisCode_1  \\\n",
              "0                 41401  2009-05-18                245               4241   \n",
              "1                   NaN         NaN                NaN               V769   \n",
              "2                   NaN         NaN                NaN               5953   \n",
              "3                   NaN         NaN                NaN              24900   \n",
              "4                   NaN         NaN                NaN               7825   \n",
              "\n",
              "  ClmDiagnosisCode_2 ClmDiagnosisCode_3 ClmDiagnosisCode_4 ClmDiagnosisCode_5  \\\n",
              "0              42731               4168               2724               4019   \n",
              "1                NaN                NaN                NaN                NaN   \n",
              "2              42731                NaN                NaN                NaN   \n",
              "3                NaN                NaN                NaN                NaN   \n",
              "4              49390               4239               5739               5768   \n",
              "\n",
              "  ClmDiagnosisCode_6 ClmDiagnosisCode_7 ClmDiagnosisCode_8 ClmDiagnosisCode_9  \\\n",
              "0              42822               2720              45829              53081   \n",
              "1                NaN                NaN                NaN                NaN   \n",
              "2                NaN                NaN                NaN                NaN   \n",
              "3                NaN                NaN                NaN                NaN   \n",
              "4               7936                NaN                NaN                NaN   \n",
              "\n",
              "  ClmDiagnosisCode_10         DOB  DOD RenalDiseaseIndicator PotentialFraud  \n",
              "0                 NaN  1929-11-01  NaN                     Y             No  \n",
              "1                 NaN  1928-12-01  NaN                     Y             No  \n",
              "2                 NaN  1930-05-01  NaN                     Y             No  \n",
              "3                 NaN  1927-03-01  NaN                     0             No  \n",
              "4                 NaN  1940-04-01  NaN                     0             No  "
            ]
          },
          "execution_count": 14,
          "metadata": {},
          "output_type": "execute_result"
        }
      ],
      "source": [
        "# Creating a list of categorical features\n",
        "cat_features = [feature for feature in data.columns if data[feature].dtypes == 'O']\n",
        "\n",
        "print(\"The length of categorical variables: \", len(cat_features))\n",
        "\n",
        "#display the numerical variables\n",
        "data[cat_features].head()"
      ]
    },
    {
      "cell_type": "code",
      "execution_count": null,
      "metadata": {
        "colab": {
          "base_uri": "https://localhost:8080/"
        },
        "id": "axpWI5GMALX7",
        "outputId": "fbe223fd-f2dc-4d3c-c040-8db4b3ec72c7"
      },
      "outputs": [
        {
          "name": "stdout",
          "output_type": "stream",
          "text": [
            "['ClaimStartDt', 'ClaimEndDt', 'AdmissionDt', 'DischargeDt']\n"
          ]
        }
      ],
      "source": [
        "#DATE COLUMNS\n",
        "date_columns = [col for col in data[cat_features].columns if col.endswith('Dt')]\n",
        "print(date_columns)\n"
      ]
    },
    {
      "cell_type": "markdown",
      "metadata": {
        "id": "FtOnQMYWCWIh"
      },
      "source": [
        "***UNIVARIATE AND BIVARIATE ANALYSIS OF FIRST 5 FEATURES(1 to 5)***"
      ]
    },
    {
      "cell_type": "code",
      "execution_count": null,
      "metadata": {
        "colab": {
          "base_uri": "https://localhost:8080/",
          "height": 206
        },
        "id": "mzLVGjRACPFq",
        "outputId": "1db684fc-91d7-4f78-d180-398d766976ae"
      },
      "outputs": [
        {
          "data": {
            "application/vnd.google.colaboratory.intrinsic+json": {
              "summary": "{\n  \"name\": \"data\",\n  \"rows\": 5,\n  \"fields\": [\n    {\n      \"column\": \"BeneID\",\n      \"properties\": {\n        \"dtype\": \"string\",\n        \"num_unique_values\": 5,\n        \"samples\": [\n          \"BENE106078\",\n          \"BENE126477\",\n          \"BENE11727\"\n        ],\n        \"semantic_type\": \"\",\n        \"description\": \"\"\n      }\n    },\n    {\n      \"column\": \"ClaimID\",\n      \"properties\": {\n        \"dtype\": \"string\",\n        \"num_unique_values\": 5,\n        \"samples\": [\n          \"CLM419490\",\n          \"CLM361230\",\n          \"CLM733300\"\n        ],\n        \"semantic_type\": \"\",\n        \"description\": \"\"\n      }\n    },\n    {\n      \"column\": \"ClaimStartDt\",\n      \"properties\": {\n        \"dtype\": \"object\",\n        \"num_unique_values\": 5,\n        \"samples\": [\n          \"2009-06-16\",\n          \"2009-05-15\",\n          \"2009-12-17\"\n        ],\n        \"semantic_type\": \"\",\n        \"description\": \"\"\n      }\n    },\n    {\n      \"column\": \"ClaimEndDt\",\n      \"properties\": {\n        \"dtype\": \"object\",\n        \"num_unique_values\": 5,\n        \"samples\": [\n          \"2009-06-16\",\n          \"2009-05-15\",\n          \"2009-12-17\"\n        ],\n        \"semantic_type\": \"\",\n        \"description\": \"\"\n      }\n    },\n    {\n      \"column\": \"Provider\",\n      \"properties\": {\n        \"dtype\": \"category\",\n        \"num_unique_values\": 1,\n        \"samples\": [\n          \"PRV51001\"\n        ],\n        \"semantic_type\": \"\",\n        \"description\": \"\"\n      }\n    }\n  ]\n}",
              "type": "dataframe"
            },
            "text/html": [
              "\n",
              "  <div id=\"df-3613535e-6ed3-4de9-9bbb-1ca0ca4245c8\" class=\"colab-df-container\">\n",
              "    <div>\n",
              "<style scoped>\n",
              "    .dataframe tbody tr th:only-of-type {\n",
              "        vertical-align: middle;\n",
              "    }\n",
              "\n",
              "    .dataframe tbody tr th {\n",
              "        vertical-align: top;\n",
              "    }\n",
              "\n",
              "    .dataframe thead th {\n",
              "        text-align: right;\n",
              "    }\n",
              "</style>\n",
              "<table border=\"1\" class=\"dataframe\">\n",
              "  <thead>\n",
              "    <tr style=\"text-align: right;\">\n",
              "      <th></th>\n",
              "      <th>BeneID</th>\n",
              "      <th>ClaimID</th>\n",
              "      <th>ClaimStartDt</th>\n",
              "      <th>ClaimEndDt</th>\n",
              "      <th>Provider</th>\n",
              "    </tr>\n",
              "  </thead>\n",
              "  <tbody>\n",
              "    <tr>\n",
              "      <th>0</th>\n",
              "      <td>BENE102690</td>\n",
              "      <td>CLM49733</td>\n",
              "      <td>2009-05-04</td>\n",
              "      <td>2009-05-18</td>\n",
              "      <td>PRV51001</td>\n",
              "    </tr>\n",
              "    <tr>\n",
              "      <th>1</th>\n",
              "      <td>BENE106078</td>\n",
              "      <td>CLM419490</td>\n",
              "      <td>2009-06-16</td>\n",
              "      <td>2009-06-16</td>\n",
              "      <td>PRV51001</td>\n",
              "    </tr>\n",
              "    <tr>\n",
              "      <th>2</th>\n",
              "      <td>BENE11727</td>\n",
              "      <td>CLM733300</td>\n",
              "      <td>2009-12-17</td>\n",
              "      <td>2009-12-17</td>\n",
              "      <td>PRV51001</td>\n",
              "    </tr>\n",
              "    <tr>\n",
              "      <th>3</th>\n",
              "      <td>BENE123416</td>\n",
              "      <td>CLM172987</td>\n",
              "      <td>2009-02-02</td>\n",
              "      <td>2009-02-02</td>\n",
              "      <td>PRV51001</td>\n",
              "    </tr>\n",
              "    <tr>\n",
              "      <th>4</th>\n",
              "      <td>BENE126477</td>\n",
              "      <td>CLM361230</td>\n",
              "      <td>2009-05-15</td>\n",
              "      <td>2009-05-15</td>\n",
              "      <td>PRV51001</td>\n",
              "    </tr>\n",
              "  </tbody>\n",
              "</table>\n",
              "</div>\n",
              "    <div class=\"colab-df-buttons\">\n",
              "\n",
              "  <div class=\"colab-df-container\">\n",
              "    <button class=\"colab-df-convert\" onclick=\"convertToInteractive('df-3613535e-6ed3-4de9-9bbb-1ca0ca4245c8')\"\n",
              "            title=\"Convert this dataframe to an interactive table.\"\n",
              "            style=\"display:none;\">\n",
              "\n",
              "  <svg xmlns=\"http://www.w3.org/2000/svg\" height=\"24px\" viewBox=\"0 -960 960 960\">\n",
              "    <path d=\"M120-120v-720h720v720H120Zm60-500h600v-160H180v160Zm220 220h160v-160H400v160Zm0 220h160v-160H400v160ZM180-400h160v-160H180v160Zm440 0h160v-160H620v160ZM180-180h160v-160H180v160Zm440 0h160v-160H620v160Z\"/>\n",
              "  </svg>\n",
              "    </button>\n",
              "\n",
              "  <style>\n",
              "    .colab-df-container {\n",
              "      display:flex;\n",
              "      gap: 12px;\n",
              "    }\n",
              "\n",
              "    .colab-df-convert {\n",
              "      background-color: #E8F0FE;\n",
              "      border: none;\n",
              "      border-radius: 50%;\n",
              "      cursor: pointer;\n",
              "      display: none;\n",
              "      fill: #1967D2;\n",
              "      height: 32px;\n",
              "      padding: 0 0 0 0;\n",
              "      width: 32px;\n",
              "    }\n",
              "\n",
              "    .colab-df-convert:hover {\n",
              "      background-color: #E2EBFA;\n",
              "      box-shadow: 0px 1px 2px rgba(60, 64, 67, 0.3), 0px 1px 3px 1px rgba(60, 64, 67, 0.15);\n",
              "      fill: #174EA6;\n",
              "    }\n",
              "\n",
              "    .colab-df-buttons div {\n",
              "      margin-bottom: 4px;\n",
              "    }\n",
              "\n",
              "    [theme=dark] .colab-df-convert {\n",
              "      background-color: #3B4455;\n",
              "      fill: #D2E3FC;\n",
              "    }\n",
              "\n",
              "    [theme=dark] .colab-df-convert:hover {\n",
              "      background-color: #434B5C;\n",
              "      box-shadow: 0px 1px 3px 1px rgba(0, 0, 0, 0.15);\n",
              "      filter: drop-shadow(0px 1px 2px rgba(0, 0, 0, 0.3));\n",
              "      fill: #FFFFFF;\n",
              "    }\n",
              "  </style>\n",
              "\n",
              "    <script>\n",
              "      const buttonEl =\n",
              "        document.querySelector('#df-3613535e-6ed3-4de9-9bbb-1ca0ca4245c8 button.colab-df-convert');\n",
              "      buttonEl.style.display =\n",
              "        google.colab.kernel.accessAllowed ? 'block' : 'none';\n",
              "\n",
              "      async function convertToInteractive(key) {\n",
              "        const element = document.querySelector('#df-3613535e-6ed3-4de9-9bbb-1ca0ca4245c8');\n",
              "        const dataTable =\n",
              "          await google.colab.kernel.invokeFunction('convertToInteractive',\n",
              "                                                    [key], {});\n",
              "        if (!dataTable) return;\n",
              "\n",
              "        const docLinkHtml = 'Like what you see? Visit the ' +\n",
              "          '<a target=\"_blank\" href=https://colab.research.google.com/notebooks/data_table.ipynb>data table notebook</a>'\n",
              "          + ' to learn more about interactive tables.';\n",
              "        element.innerHTML = '';\n",
              "        dataTable['output_type'] = 'display_data';\n",
              "        await google.colab.output.renderOutput(dataTable, element);\n",
              "        const docLink = document.createElement('div');\n",
              "        docLink.innerHTML = docLinkHtml;\n",
              "        element.appendChild(docLink);\n",
              "      }\n",
              "    </script>\n",
              "  </div>\n",
              "\n",
              "\n",
              "<div id=\"df-63c555bc-ccc4-48e3-9b06-ef675ef66ca6\">\n",
              "  <button class=\"colab-df-quickchart\" onclick=\"quickchart('df-63c555bc-ccc4-48e3-9b06-ef675ef66ca6')\"\n",
              "            title=\"Suggest charts\"\n",
              "            style=\"display:none;\">\n",
              "\n",
              "<svg xmlns=\"http://www.w3.org/2000/svg\" height=\"24px\"viewBox=\"0 0 24 24\"\n",
              "     width=\"24px\">\n",
              "    <g>\n",
              "        <path d=\"M19 3H5c-1.1 0-2 .9-2 2v14c0 1.1.9 2 2 2h14c1.1 0 2-.9 2-2V5c0-1.1-.9-2-2-2zM9 17H7v-7h2v7zm4 0h-2V7h2v10zm4 0h-2v-4h2v4z\"/>\n",
              "    </g>\n",
              "</svg>\n",
              "  </button>\n",
              "\n",
              "<style>\n",
              "  .colab-df-quickchart {\n",
              "      --bg-color: #E8F0FE;\n",
              "      --fill-color: #1967D2;\n",
              "      --hover-bg-color: #E2EBFA;\n",
              "      --hover-fill-color: #174EA6;\n",
              "      --disabled-fill-color: #AAA;\n",
              "      --disabled-bg-color: #DDD;\n",
              "  }\n",
              "\n",
              "  [theme=dark] .colab-df-quickchart {\n",
              "      --bg-color: #3B4455;\n",
              "      --fill-color: #D2E3FC;\n",
              "      --hover-bg-color: #434B5C;\n",
              "      --hover-fill-color: #FFFFFF;\n",
              "      --disabled-bg-color: #3B4455;\n",
              "      --disabled-fill-color: #666;\n",
              "  }\n",
              "\n",
              "  .colab-df-quickchart {\n",
              "    background-color: var(--bg-color);\n",
              "    border: none;\n",
              "    border-radius: 50%;\n",
              "    cursor: pointer;\n",
              "    display: none;\n",
              "    fill: var(--fill-color);\n",
              "    height: 32px;\n",
              "    padding: 0;\n",
              "    width: 32px;\n",
              "  }\n",
              "\n",
              "  .colab-df-quickchart:hover {\n",
              "    background-color: var(--hover-bg-color);\n",
              "    box-shadow: 0 1px 2px rgba(60, 64, 67, 0.3), 0 1px 3px 1px rgba(60, 64, 67, 0.15);\n",
              "    fill: var(--button-hover-fill-color);\n",
              "  }\n",
              "\n",
              "  .colab-df-quickchart-complete:disabled,\n",
              "  .colab-df-quickchart-complete:disabled:hover {\n",
              "    background-color: var(--disabled-bg-color);\n",
              "    fill: var(--disabled-fill-color);\n",
              "    box-shadow: none;\n",
              "  }\n",
              "\n",
              "  .colab-df-spinner {\n",
              "    border: 2px solid var(--fill-color);\n",
              "    border-color: transparent;\n",
              "    border-bottom-color: var(--fill-color);\n",
              "    animation:\n",
              "      spin 1s steps(1) infinite;\n",
              "  }\n",
              "\n",
              "  @keyframes spin {\n",
              "    0% {\n",
              "      border-color: transparent;\n",
              "      border-bottom-color: var(--fill-color);\n",
              "      border-left-color: var(--fill-color);\n",
              "    }\n",
              "    20% {\n",
              "      border-color: transparent;\n",
              "      border-left-color: var(--fill-color);\n",
              "      border-top-color: var(--fill-color);\n",
              "    }\n",
              "    30% {\n",
              "      border-color: transparent;\n",
              "      border-left-color: var(--fill-color);\n",
              "      border-top-color: var(--fill-color);\n",
              "      border-right-color: var(--fill-color);\n",
              "    }\n",
              "    40% {\n",
              "      border-color: transparent;\n",
              "      border-right-color: var(--fill-color);\n",
              "      border-top-color: var(--fill-color);\n",
              "    }\n",
              "    60% {\n",
              "      border-color: transparent;\n",
              "      border-right-color: var(--fill-color);\n",
              "    }\n",
              "    80% {\n",
              "      border-color: transparent;\n",
              "      border-right-color: var(--fill-color);\n",
              "      border-bottom-color: var(--fill-color);\n",
              "    }\n",
              "    90% {\n",
              "      border-color: transparent;\n",
              "      border-bottom-color: var(--fill-color);\n",
              "    }\n",
              "  }\n",
              "</style>\n",
              "\n",
              "  <script>\n",
              "    async function quickchart(key) {\n",
              "      const quickchartButtonEl =\n",
              "        document.querySelector('#' + key + ' button');\n",
              "      quickchartButtonEl.disabled = true;  // To prevent multiple clicks.\n",
              "      quickchartButtonEl.classList.add('colab-df-spinner');\n",
              "      try {\n",
              "        const charts = await google.colab.kernel.invokeFunction(\n",
              "            'suggestCharts', [key], {});\n",
              "      } catch (error) {\n",
              "        console.error('Error during call to suggestCharts:', error);\n",
              "      }\n",
              "      quickchartButtonEl.classList.remove('colab-df-spinner');\n",
              "      quickchartButtonEl.classList.add('colab-df-quickchart-complete');\n",
              "    }\n",
              "    (() => {\n",
              "      let quickchartButtonEl =\n",
              "        document.querySelector('#df-63c555bc-ccc4-48e3-9b06-ef675ef66ca6 button');\n",
              "      quickchartButtonEl.style.display =\n",
              "        google.colab.kernel.accessAllowed ? 'block' : 'none';\n",
              "    })();\n",
              "  </script>\n",
              "</div>\n",
              "\n",
              "    </div>\n",
              "  </div>\n"
            ],
            "text/plain": [
              "       BeneID    ClaimID ClaimStartDt  ClaimEndDt  Provider\n",
              "0  BENE102690   CLM49733   2009-05-04  2009-05-18  PRV51001\n",
              "1  BENE106078  CLM419490   2009-06-16  2009-06-16  PRV51001\n",
              "2   BENE11727  CLM733300   2009-12-17  2009-12-17  PRV51001\n",
              "3  BENE123416  CLM172987   2009-02-02  2009-02-02  PRV51001\n",
              "4  BENE126477  CLM361230   2009-05-15  2009-05-15  PRV51001"
            ]
          },
          "execution_count": 16,
          "metadata": {},
          "output_type": "execute_result"
        }
      ],
      "source": [
        "data.iloc[:,0:5].head()"
      ]
    },
    {
      "cell_type": "code",
      "execution_count": null,
      "metadata": {
        "colab": {
          "base_uri": "https://localhost:8080/",
          "height": 241
        },
        "id": "5jRt7mj1Cdfl",
        "outputId": "47ad0355-fe71-4bf9-e7f0-ace893c3ab0e"
      },
      "outputs": [
        {
          "data": {
            "text/html": [
              "<div>\n",
              "<style scoped>\n",
              "    .dataframe tbody tr th:only-of-type {\n",
              "        vertical-align: middle;\n",
              "    }\n",
              "\n",
              "    .dataframe tbody tr th {\n",
              "        vertical-align: top;\n",
              "    }\n",
              "\n",
              "    .dataframe thead th {\n",
              "        text-align: right;\n",
              "    }\n",
              "</style>\n",
              "<table border=\"1\" class=\"dataframe\">\n",
              "  <thead>\n",
              "    <tr style=\"text-align: right;\">\n",
              "      <th></th>\n",
              "      <th>0</th>\n",
              "    </tr>\n",
              "  </thead>\n",
              "  <tbody>\n",
              "    <tr>\n",
              "      <th>BeneID</th>\n",
              "      <td>0</td>\n",
              "    </tr>\n",
              "    <tr>\n",
              "      <th>ClaimID</th>\n",
              "      <td>0</td>\n",
              "    </tr>\n",
              "    <tr>\n",
              "      <th>ClaimStartDt</th>\n",
              "      <td>0</td>\n",
              "    </tr>\n",
              "    <tr>\n",
              "      <th>ClaimEndDt</th>\n",
              "      <td>0</td>\n",
              "    </tr>\n",
              "    <tr>\n",
              "      <th>Provider</th>\n",
              "      <td>0</td>\n",
              "    </tr>\n",
              "  </tbody>\n",
              "</table>\n",
              "</div><br><label><b>dtype:</b> int64</label>"
            ],
            "text/plain": [
              "BeneID          0\n",
              "ClaimID         0\n",
              "ClaimStartDt    0\n",
              "ClaimEndDt      0\n",
              "Provider        0\n",
              "dtype: int64"
            ]
          },
          "execution_count": 17,
          "metadata": {},
          "output_type": "execute_result"
        }
      ],
      "source": [
        "data.iloc[:,0:5].isnull().sum()#missing values in first 5 columns"
      ]
    },
    {
      "cell_type": "markdown",
      "metadata": {
        "id": "FaztENhLClSU"
      },
      "source": [
        "THere are no missing values in 1 to 5 columns."
      ]
    },
    {
      "cell_type": "code",
      "execution_count": null,
      "metadata": {
        "colab": {
          "base_uri": "https://localhost:8080/"
        },
        "id": "MRgRVHkcCxQ-",
        "outputId": "5ca90eba-1c1c-4765-8ca7-e77b42b36840"
      },
      "outputs": [
        {
          "name": "stdout",
          "output_type": "stream",
          "text": [
            "<class 'pandas.core.frame.DataFrame'>\n",
            "RangeIndex: 558211 entries, 0 to 558210\n",
            "Data columns (total 5 columns):\n",
            " #   Column        Non-Null Count   Dtype \n",
            "---  ------        --------------   ----- \n",
            " 0   BeneID        558211 non-null  object\n",
            " 1   ClaimID       558211 non-null  object\n",
            " 2   ClaimStartDt  558211 non-null  object\n",
            " 3   ClaimEndDt    558211 non-null  object\n",
            " 4   Provider      558211 non-null  object\n",
            "dtypes: object(5)\n",
            "memory usage: 21.3+ MB\n"
          ]
        }
      ],
      "source": [
        "data.iloc[:,0:5].info()"
      ]
    },
    {
      "cell_type": "markdown",
      "metadata": {
        "id": "fX4_vGTGC7pB"
      },
      "source": [
        "DISTINCT VALUE COUNT IN FIRST 5 FEATURES"
      ]
    },
    {
      "cell_type": "code",
      "execution_count": null,
      "metadata": {
        "colab": {
          "base_uri": "https://localhost:8080/"
        },
        "id": "xr-RQqw_C8lc",
        "outputId": "3ddef64a-7aa9-475e-e0b4-56b5074e98f2"
      },
      "outputs": [
        {
          "data": {
            "text/plain": [
              "558211"
            ]
          },
          "execution_count": 19,
          "metadata": {},
          "output_type": "execute_result"
        }
      ],
      "source": [
        "data['BeneID'].value_counts().sum()"
      ]
    },
    {
      "cell_type": "code",
      "execution_count": null,
      "metadata": {
        "colab": {
          "base_uri": "https://localhost:8080/"
        },
        "id": "Ash6YXgzDFaY",
        "outputId": "5cb9f416-0538-412a-c649-ef760787cc6d"
      },
      "outputs": [
        {
          "data": {
            "text/plain": [
              "558211"
            ]
          },
          "execution_count": 20,
          "metadata": {},
          "output_type": "execute_result"
        }
      ],
      "source": [
        "data['ClaimID'].value_counts().sum()"
      ]
    },
    {
      "cell_type": "code",
      "execution_count": null,
      "metadata": {
        "colab": {
          "base_uri": "https://localhost:8080/"
        },
        "id": "oM0I3gudDHmX",
        "outputId": "a8aea92b-57f0-4886-9b39-c2c057aadac5"
      },
      "outputs": [
        {
          "data": {
            "text/plain": [
              "558211"
            ]
          },
          "execution_count": 21,
          "metadata": {},
          "output_type": "execute_result"
        }
      ],
      "source": [
        "data['ClaimStartDt'].value_counts().sum()"
      ]
    },
    {
      "cell_type": "code",
      "execution_count": null,
      "metadata": {
        "colab": {
          "base_uri": "https://localhost:8080/"
        },
        "id": "t6p9SixQDKO3",
        "outputId": "f2525c08-b5c2-4d99-c63d-a2e02cd02369"
      },
      "outputs": [
        {
          "data": {
            "text/plain": [
              "558211"
            ]
          },
          "execution_count": 22,
          "metadata": {},
          "output_type": "execute_result"
        }
      ],
      "source": [
        "data['ClaimEndDt'].value_counts().sum()"
      ]
    },
    {
      "cell_type": "code",
      "execution_count": null,
      "metadata": {
        "colab": {
          "base_uri": "https://localhost:8080/"
        },
        "id": "6XRP86WsDMeL",
        "outputId": "efafec10-c93b-4087-aa64-36ad052861e4"
      },
      "outputs": [
        {
          "data": {
            "text/plain": [
              "558211"
            ]
          },
          "execution_count": 23,
          "metadata": {},
          "output_type": "execute_result"
        }
      ],
      "source": [
        "data['Provider'].value_counts().sum()"
      ]
    },
    {
      "cell_type": "markdown",
      "metadata": {
        "id": "knTcTriqDSvC"
      },
      "source": [
        "*All the values presnt inside these columns are unique*"
      ]
    },
    {
      "cell_type": "markdown",
      "metadata": {
        "id": "XpzVIkJ4D6FM"
      },
      "source": [
        "*BIVARIATE ANALYSIS...FINDING RELATONSHIP WITH TARGET*\n",
        "(for two categorical features we use crosstab)"
      ]
    },
    {
      "cell_type": "code",
      "execution_count": null,
      "metadata": {
        "colab": {
          "base_uri": "https://localhost:8080/"
        },
        "id": "dpnn-tgYDyCH",
        "outputId": "c69b8e90-eb1d-48db-bf10-f2e8d049950b"
      },
      "outputs": [
        {
          "name": "stdout",
          "output_type": "stream",
          "text": [
            "PotentialFraud   No   Yes\n",
            "Provider                 \n",
            "PRV51001         25     0\n",
            "PRV51003          0   132\n",
            "PRV51004        149     0\n",
            "PRV51005          0  1165\n",
            "PRV51007         72     0\n",
            "...             ...   ...\n",
            "PRV57759         28     0\n",
            "PRV57760         22     0\n",
            "PRV57761         82     0\n",
            "PRV57762          1     0\n",
            "PRV57763        118     0\n",
            "\n",
            "[5410 rows x 2 columns]\n"
          ]
        }
      ],
      "source": [
        "crosstab = pd.crosstab(data['Provider'], data['PotentialFraud'])#,normalize='index')#count of provider in potentialfraud\n",
        "print(crosstab)"
      ]
    },
    {
      "cell_type": "code",
      "execution_count": null,
      "metadata": {
        "colab": {
          "base_uri": "https://localhost:8080/"
        },
        "id": "Wl_ZvPQPEJ7L",
        "outputId": "27c5112a-eb23-4193-9ad1-94eff629f023"
      },
      "outputs": [
        {
          "name": "stdout",
          "output_type": "stream",
          "text": [
            "PotentialFraud   No  Yes\n",
            "Provider                \n",
            "PRV51001        1.0  0.0\n",
            "PRV51003        0.0  1.0\n",
            "PRV51004        1.0  0.0\n",
            "PRV51005        0.0  1.0\n",
            "PRV51007        1.0  0.0\n",
            "...             ...  ...\n",
            "PRV57759        1.0  0.0\n",
            "PRV57760        1.0  0.0\n",
            "PRV57761        1.0  0.0\n",
            "PRV57762        1.0  0.0\n",
            "PRV57763        1.0  0.0\n",
            "\n",
            "[5410 rows x 2 columns]\n"
          ]
        }
      ],
      "source": [
        "crosstab = pd.crosstab(data['Provider'], data['PotentialFraud'],normalize='index')\n",
        "print(crosstab)#percentage occurance of provider in  potential fraud"
      ]
    },
    {
      "cell_type": "code",
      "execution_count": null,
      "metadata": {
        "colab": {
          "base_uri": "https://localhost:8080/",
          "height": 523
        },
        "id": "_LxKJ1g0EMAV",
        "outputId": "78971020-35bb-42c8-e6a4-3537db5b8b28"
      },
      "outputs": [
        {
          "data": {
            "text/plain": [
              "<Axes: xlabel='Provider'>"
            ]
          },
          "execution_count": 26,
          "metadata": {},
          "output_type": "execute_result"
        },
        {
          "data": {
            "image/png": "[encoded data removed]",
            "text/plain": [
              "<Figure size 640x480 with 1 Axes>"
            ]
          },
          "metadata": {},
          "output_type": "display_data"
        }
      ],
      "source": [
        "crosstab.plot(kind='bar', stacked=True)#barplot between potential fraud and provider"
      ]
    },
    {
      "cell_type": "code",
      "execution_count": null,
      "metadata": {
        "colab": {
          "base_uri": "https://localhost:8080/",
          "height": 472
        },
        "id": "1uHidZaEEWl9",
        "outputId": "bc48eb85-074c-4ba5-a947-b84f6bfb0b0a"
      },
      "outputs": [
        {
          "data": {
            "image/png": "[encoded data removed]",
            "text/plain": [
              "<Figure size 640x480 with 2 Axes>"
            ]
          },
          "metadata": {},
          "output_type": "display_data"
        }
      ],
      "source": [
        "sns.heatmap(crosstab, annot=True, cmap='Blues')\n",
        "plt.title('Heatmap of provider vs potentialfraud')\n",
        "plt.show()"
      ]
    },
    {
      "cell_type": "code",
      "execution_count": null,
      "metadata": {
        "colab": {
          "base_uri": "https://localhost:8080/",
          "height": 472
        },
        "id": "jHNICNhsimRK",
        "outputId": "30697b8e-d7d2-4319-fda2-239ee567d496"
      },
      "outputs": [
        {
          "data": {
            "image/png": "[encoded data removed]",
            "text/plain": [
              "<Figure size 640x480 with 2 Axes>"
            ]
          },
          "metadata": {},
          "output_type": "display_data"
        }
      ],
      "source": [
        "crosstab = pd.crosstab(data['BeneID'], data['PotentialFraud'],normalize='index')\n",
        "sns.heatmap(crosstab, annot=True, cmap='RdBu')\n",
        "plt.title('Heatmap of BeneID vs potentialfraud')\n",
        "plt.show()"
      ]
    },
    {
      "cell_type": "code",
      "execution_count": null,
      "metadata": {
        "colab": {
          "base_uri": "https://localhost:8080/"
        },
        "id": "bBw6z5zuEyNI",
        "outputId": "942b7fcd-6307-42ee-b1e6-6fe9157b5827"
      },
      "outputs": [
        {
          "name": "stdout",
          "output_type": "stream",
          "text": [
            "Crosstab for BeneID and PotentialFraud:\n",
            "PotentialFraud        No       Yes\n",
            "BeneID                            \n",
            "BENE100000      0.000000  1.000000\n",
            "BENE100001      0.500000  0.500000\n",
            "BENE100002      0.714286  0.285714\n",
            "BENE100003      0.000000  1.000000\n",
            "BENE100004      0.833333  0.166667\n",
            "...                  ...       ...\n",
            "BENE99994       0.714286  0.285714\n",
            "BENE99995       0.500000  0.500000\n",
            "BENE99997       0.714286  0.285714\n",
            "BENE99998       0.000000  1.000000\n",
            "BENE99999       1.000000  0.000000\n",
            "\n",
            "[138556 rows x 2 columns]\n",
            "\n",
            "\n",
            "Crosstab for ClaimID and PotentialFraud:\n",
            "PotentialFraud        No       Yes\n",
            "BeneID                            \n",
            "BENE100000      0.000000  1.000000\n",
            "BENE100001      0.500000  0.500000\n",
            "BENE100002      0.714286  0.285714\n",
            "BENE100003      0.000000  1.000000\n",
            "BENE100004      0.833333  0.166667\n",
            "...                  ...       ...\n",
            "BENE99994       0.714286  0.285714\n",
            "BENE99995       0.500000  0.500000\n",
            "BENE99997       0.714286  0.285714\n",
            "BENE99998       0.000000  1.000000\n",
            "BENE99999       1.000000  0.000000\n",
            "\n",
            "[138556 rows x 2 columns]\n",
            "\n",
            "\n",
            "Crosstab for ClaimStartDt and PotentialFraud:\n",
            "PotentialFraud        No       Yes\n",
            "BeneID                            \n",
            "BENE100000      0.000000  1.000000\n",
            "BENE100001      0.500000  0.500000\n",
            "BENE100002      0.714286  0.285714\n",
            "BENE100003      0.000000  1.000000\n",
            "BENE100004      0.833333  0.166667\n",
            "...                  ...       ...\n",
            "BENE99994       0.714286  0.285714\n",
            "BENE99995       0.500000  0.500000\n",
            "BENE99997       0.714286  0.285714\n",
            "BENE99998       0.000000  1.000000\n",
            "BENE99999       1.000000  0.000000\n",
            "\n",
            "[138556 rows x 2 columns]\n",
            "\n",
            "\n",
            "Crosstab for ClaimEndDt and PotentialFraud:\n",
            "PotentialFraud        No       Yes\n",
            "BeneID                            \n",
            "BENE100000      0.000000  1.000000\n",
            "BENE100001      0.500000  0.500000\n",
            "BENE100002      0.714286  0.285714\n",
            "BENE100003      0.000000  1.000000\n",
            "BENE100004      0.833333  0.166667\n",
            "...                  ...       ...\n",
            "BENE99994       0.714286  0.285714\n",
            "BENE99995       0.500000  0.500000\n",
            "BENE99997       0.714286  0.285714\n",
            "BENE99998       0.000000  1.000000\n",
            "BENE99999       1.000000  0.000000\n",
            "\n",
            "[138556 rows x 2 columns]\n",
            "\n",
            "\n"
          ]
        }
      ],
      "source": [
        "COLUMNS=['BeneID','ClaimID','ClaimStartDt','ClaimEndDt']\n",
        "for col in COLUMNS:\n",
        "  pd.crosstab(data[col],data['PotentialFraud'])#,normalize='index')\n",
        "  print(f\"Crosstab for {col} and {'PotentialFraud'}:\")\n",
        "  print(crosstab)\n",
        "  print('\\n')"
      ]
    },
    {
      "cell_type": "markdown",
      "metadata": {
        "id": "chhlZpR-FmUC"
      },
      "source": [
        "Chi-Square Test for Independence For feature importance"
      ]
    },
    {
      "cell_type": "code",
      "execution_count": null,
      "metadata": {
        "colab": {
          "base_uri": "https://localhost:8080/"
        },
        "id": "5QFq7OLGE-D9",
        "outputId": "1095d147-a985-441e-dee8-628a4b9895d4"
      },
      "outputs": [
        {
          "name": "stdout",
          "output_type": "stream",
          "text": [
            "Chi-square test for BeneID:\n",
            "Chi2: 281515.8454926205, p-value: 0.0\n",
            "There is a statistically significant association between BeneID and PotentialFraud.\n",
            "--------------------\n",
            "Chi-square test for ClaimID:\n",
            "Chi2: 558211.0000000002, p-value: 0.49937071893387835\n",
            "There is no statistically significant association between ClaimID and PotentialFraud.\n",
            "--------------------\n",
            "Chi-square test for ClaimStartDt:\n",
            "Chi2: 470.3509534114344, p-value: 0.006542351442877782\n",
            "There is a statistically significant association between ClaimStartDt and PotentialFraud.\n",
            "--------------------\n",
            "Chi-square test for ClaimEndDt:\n",
            "Chi2: 364.17569935074016, p-value: 0.5023335603736234\n",
            "There is no statistically significant association between ClaimEndDt and PotentialFraud.\n",
            "--------------------\n",
            "Chi-square test for Provider:\n",
            "Chi2: 558211.0, p-value: 0.0\n",
            "There is a statistically significant association between Provider and PotentialFraud.\n",
            "--------------------\n"
          ]
        }
      ],
      "source": [
        "\n",
        "from scipy.stats import chi2_contingency\n",
        "columns_to_test = ['BeneID', 'ClaimID', 'ClaimStartDt', 'ClaimEndDt','Provider']\n",
        "\n",
        "for col in columns_to_test:\n",
        "\n",
        "    crosstab = pd.crosstab(data[col], data['PotentialFraud'])\n",
        "\n",
        "    # Perform Chi-Square test\n",
        "    chi2, p, dof, expected = chi2_contingency(crosstab)\n",
        "\n",
        "    print(f\"Chi-square test for {col}:\")\n",
        "    print(f\"Chi2: {chi2}, p-value: {p}\")\n",
        "\n",
        "    #  significance level (alpha)\n",
        "    alpha = 0.05\n",
        "    if p < alpha:\n",
        "        print(f\"There is a statistically significant association between {col} and PotentialFraud.\")\n",
        "    else:\n",
        "        print(f\"There is no statistically significant association between {col} and PotentialFraud.\")\n",
        "    print(\"-\" * 20)"
      ]
    },
    {
      "cell_type": "code",
      "execution_count": null,
      "metadata": {
        "id": "vTDgGyuUF66q"
      },
      "outputs": [],
      "source": [
        "# Convert 'ClaimStartDt' and 'ClaimEndDt' to datetime objects\n",
        "data['ClaimStartDt'] = pd.to_datetime(data['ClaimStartDt'], format='mixed')#different datetime format was there.\n",
        "data['ClaimEndDt'] = pd.to_datetime(data['ClaimEndDt'])"
      ]
    },
    {
      "cell_type": "code",
      "execution_count": null,
      "metadata": {
        "colab": {
          "base_uri": "https://localhost:8080/",
          "height": 573
        },
        "id": "-mlx4g7nGWNx",
        "outputId": "34229e99-750c-4716-f826-770c6c50f1e1"
      },
      "outputs": [
        {
          "name": "stderr",
          "output_type": "stream",
          "text": [
            "<ipython-input-32-3c7ced097ebe>:1: FutureWarning: \n",
            "\n",
            "Passing `palette` without assigning `hue` is deprecated and will be removed in v0.14.0. Assign the `x` variable to `hue` and set `legend=False` for the same effect.\n",
            "\n",
            "  sns.countplot(x=data['ClaimStartDt'].head(1000), palette=\"viridis\")\n"
          ]
        },
        {
          "data": {
            "text/plain": [
              "<Axes: xlabel='ClaimStartDt', ylabel='count'>"
            ]
          },
          "execution_count": 32,
          "metadata": {},
          "output_type": "execute_result"
        },
        {
          "data": {
            "image/png": "[encoded data removed]",
            "text/plain": [
              "<Figure size 640x480 with 1 Axes>"
            ]
          },
          "metadata": {},
          "output_type": "display_data"
        }
      ],
      "source": [
        "\n",
        "sns.countplot(x=data['ClaimStartDt'].head(1000), palette=\"viridis\")"
      ]
    },
    {
      "cell_type": "code",
      "execution_count": null,
      "metadata": {
        "colab": {
          "base_uri": "https://localhost:8080/",
          "height": 488
        },
        "id": "PfmB6y4DGmg9",
        "outputId": "269715cc-4132-4835-9647-1ed8534dc009"
      },
      "outputs": [
        {
          "data": {
            "text/plain": [
              "<Axes: xlabel='ClaimStartDt'>"
            ]
          },
          "execution_count": 33,
          "metadata": {},
          "output_type": "execute_result"
        },
        {
          "data": {
            "image/png": "[encoded data removed]",
            "text/plain": [
              "<Figure size 640x480 with 1 Axes>"
            ]
          },
          "metadata": {},
          "output_type": "display_data"
        }
      ],
      "source": [
        "data['ClaimStartDt'].dt.year.value_counts().sort_index().plot(kind='bar')#year wise count plot"
      ]
    },
    {
      "cell_type": "markdown",
      "metadata": {
        "id": "Pc47RpvJGvv8"
      },
      "source": [
        "This dataset contains details from 2008 and 2009."
      ]
    },
    {
      "cell_type": "code",
      "execution_count": null,
      "metadata": {
        "colab": {
          "base_uri": "https://localhost:8080/",
          "height": 488
        },
        "id": "INKJjsCqGvUI",
        "outputId": "f9944d2c-dba7-453e-d4a6-36c0359b4d85"
      },
      "outputs": [
        {
          "data": {
            "text/plain": [
              "<Axes: xlabel='ClaimEndDt'>"
            ]
          },
          "execution_count": 34,
          "metadata": {},
          "output_type": "execute_result"
        },
        {
          "data": {
            "image/png": "[encoded data removed]",
            "text/plain": [
              "<Figure size 640x480 with 1 Axes>"
            ]
          },
          "metadata": {},
          "output_type": "display_data"
        }
      ],
      "source": [
        "data['ClaimEndDt'].dt.year.value_counts().sort_index().plot(kind='bar')#claimenddate yearwise"
      ]
    },
    {
      "cell_type": "code",
      "execution_count": null,
      "metadata": {
        "colab": {
          "base_uri": "https://localhost:8080/",
          "height": 714
        },
        "id": "6gbJrX7MHBF_",
        "outputId": "ea83f4e6-074f-4d75-d898-50cfcc85d03b"
      },
      "outputs": [
        {
          "name": "stderr",
          "output_type": "stream",
          "text": [
            "<ipython-input-35-a928f4b6038b>:3: FutureWarning: \n",
            "\n",
            "Passing `palette` without assigning `hue` is deprecated and will be removed in v0.14.0. Assign the `x` variable to `hue` and set `legend=False` for the same effect.\n",
            "\n",
            "  sns.countplot(x=data['ClaimEndDt'].head(1000), palette=\"viridis\")\n"
          ]
        },
        {
          "data": {
            "image/png": "[encoded data removed]",
            "text/plain": [
              "<Figure size 1000x600 with 1 Axes>"
            ]
          },
          "metadata": {},
          "output_type": "display_data"
        }
      ],
      "source": [
        "\n",
        "# Create the countplot for the first 10000 claimend date\n",
        "plt.figure(figsize=(10, 6))\n",
        "sns.countplot(x=data['ClaimEndDt'].head(1000), palette=\"viridis\")\n",
        "plt.title('Count Plot of claimenddt(First 1000 Values)')\n",
        "plt.xlabel('claimenddate')\n",
        "plt.ylabel('Count')\n",
        "plt.xticks(rotation=90, ha='right')\n",
        "plt.tight_layout()\n",
        "plt.show()"
      ]
    },
    {
      "cell_type": "markdown",
      "metadata": {
        "id": "yAAo2HNkgLRo"
      },
      "source": [
        "**UNIVARIATE AND BIVARIATE ANALYSIS OF COLUMNS FROM 6 TO 10**"
      ]
    },
    {
      "cell_type": "code",
      "execution_count": null,
      "metadata": {
        "colab": {
          "base_uri": "https://localhost:8080/",
          "height": 206
        },
        "id": "Y5jVtzEOgKFq",
        "outputId": "2a3ad1e8-b129-4d62-f06e-a237cc72a491"
      },
      "outputs": [
        {
          "data": {
            "application/vnd.google.colaboratory.intrinsic+json": {
              "summary": "{\n  \"name\": \"data\",\n  \"rows\": 5,\n  \"fields\": [\n    {\n      \"column\": \"InscClaimAmtReimbursed\",\n      \"properties\": {\n        \"dtype\": \"number\",\n        \"std\": 18737,\n        \"min\": 20,\n        \"max\": 42000,\n        \"num_unique_values\": 5,\n        \"samples\": [\n          90,\n          200,\n          20\n        ],\n        \"semantic_type\": \"\",\n        \"description\": \"\"\n      }\n    },\n    {\n      \"column\": \"AttendingPhysician\",\n      \"properties\": {\n        \"dtype\": \"string\",\n        \"num_unique_values\": 4,\n        \"samples\": [\n          \"PHY345302\",\n          \"PHY354616\",\n          \"PHY383193\"\n        ],\n        \"semantic_type\": \"\",\n        \"description\": \"\"\n      }\n    },\n    {\n      \"column\": \"OperatingPhysician\",\n      \"properties\": {\n        \"dtype\": \"category\",\n        \"num_unique_values\": 2,\n        \"samples\": [\n          \"PHY405310\",\n          \"PHY378091\"\n        ],\n        \"semantic_type\": \"\",\n        \"description\": \"\"\n      }\n    },\n    {\n      \"column\": \"OtherPhysician\",\n      \"properties\": {\n        \"dtype\": \"string\",\n        \"num_unique_values\": 4,\n        \"samples\": [\n          \"PHY383007\",\n          \"PHY405310\"\n        ],\n        \"semantic_type\": \"\",\n        \"description\": \"\"\n      }\n    },\n    {\n      \"column\": \"AdmissionDt\",\n      \"properties\": {\n        \"dtype\": \"object\",\n        \"num_unique_values\": 1,\n        \"samples\": [\n          \"2009-05-04\"\n        ],\n        \"semantic_type\": \"\",\n        \"description\": \"\"\n      }\n    }\n  ]\n}",
              "type": "dataframe"
            },
            "text/html": [
              "\n",
              "  <div id=\"df-e3cd8dc4-26a9-469d-b29c-ce646c08a497\" class=\"colab-df-container\">\n",
              "    <div>\n",
              "<style scoped>\n",
              "    .dataframe tbody tr th:only-of-type {\n",
              "        vertical-align: middle;\n",
              "    }\n",
              "\n",
              "    .dataframe tbody tr th {\n",
              "        vertical-align: top;\n",
              "    }\n",
              "\n",
              "    .dataframe thead th {\n",
              "        text-align: right;\n",
              "    }\n",
              "</style>\n",
              "<table border=\"1\" class=\"dataframe\">\n",
              "  <thead>\n",
              "    <tr style=\"text-align: right;\">\n",
              "      <th></th>\n",
              "      <th>InscClaimAmtReimbursed</th>\n",
              "      <th>AttendingPhysician</th>\n",
              "      <th>OperatingPhysician</th>\n",
              "      <th>OtherPhysician</th>\n",
              "      <th>AdmissionDt</th>\n",
              "    </tr>\n",
              "  </thead>\n",
              "  <tbody>\n",
              "    <tr>\n",
              "      <th>0</th>\n",
              "      <td>42000</td>\n",
              "      <td>PHY383193</td>\n",
              "      <td>PHY378091</td>\n",
              "      <td>PHY389113</td>\n",
              "      <td>2009-05-04</td>\n",
              "    </tr>\n",
              "    <tr>\n",
              "      <th>1</th>\n",
              "      <td>90</td>\n",
              "      <td>PHY345302</td>\n",
              "      <td>NaN</td>\n",
              "      <td>NaN</td>\n",
              "      <td>NaN</td>\n",
              "    </tr>\n",
              "    <tr>\n",
              "      <th>2</th>\n",
              "      <td>20</td>\n",
              "      <td>PHY383007</td>\n",
              "      <td>NaN</td>\n",
              "      <td>PHY383007</td>\n",
              "      <td>NaN</td>\n",
              "    </tr>\n",
              "    <tr>\n",
              "      <th>3</th>\n",
              "      <td>100</td>\n",
              "      <td>PHY345302</td>\n",
              "      <td>NaN</td>\n",
              "      <td>PHY345302</td>\n",
              "      <td>NaN</td>\n",
              "    </tr>\n",
              "    <tr>\n",
              "      <th>4</th>\n",
              "      <td>200</td>\n",
              "      <td>PHY354616</td>\n",
              "      <td>PHY405310</td>\n",
              "      <td>PHY405310</td>\n",
              "      <td>NaN</td>\n",
              "    </tr>\n",
              "  </tbody>\n",
              "</table>\n",
              "</div>\n",
              "    <div class=\"colab-df-buttons\">\n",
              "\n",
              "  <div class=\"colab-df-container\">\n",
              "    <button class=\"colab-df-convert\" onclick=\"convertToInteractive('df-e3cd8dc4-26a9-469d-b29c-ce646c08a497')\"\n",
              "            title=\"Convert this dataframe to an interactive table.\"\n",
              "            style=\"display:none;\">\n",
              "\n",
              "  <svg xmlns=\"http://www.w3.org/2000/svg\" height=\"24px\" viewBox=\"0 -960 960 960\">\n",
              "    <path d=\"M120-120v-720h720v720H120Zm60-500h600v-160H180v160Zm220 220h160v-160H400v160Zm0 220h160v-160H400v160ZM180-400h160v-160H180v160Zm440 0h160v-160H620v160ZM180-180h160v-160H180v160Zm440 0h160v-160H620v160Z\"/>\n",
              "  </svg>\n",
              "    </button>\n",
              "\n",
              "  <style>\n",
              "    .colab-df-container {\n",
              "      display:flex;\n",
              "      gap: 12px;\n",
              "    }\n",
              "\n",
              "    .colab-df-convert {\n",
              "      background-color: #E8F0FE;\n",
              "      border: none;\n",
              "      border-radius: 50%;\n",
              "      cursor: pointer;\n",
              "      display: none;\n",
              "      fill: #1967D2;\n",
              "      height: 32px;\n",
              "      padding: 0 0 0 0;\n",
              "      width: 32px;\n",
              "    }\n",
              "\n",
              "    .colab-df-convert:hover {\n",
              "      background-color: #E2EBFA;\n",
              "      box-shadow: 0px 1px 2px rgba(60, 64, 67, 0.3), 0px 1px 3px 1px rgba(60, 64, 67, 0.15);\n",
              "      fill: #174EA6;\n",
              "    }\n",
              "\n",
              "    .colab-df-buttons div {\n",
              "      margin-bottom: 4px;\n",
              "    }\n",
              "\n",
              "    [theme=dark] .colab-df-convert {\n",
              "      background-color: #3B4455;\n",
              "      fill: #D2E3FC;\n",
              "    }\n",
              "\n",
              "    [theme=dark] .colab-df-convert:hover {\n",
              "      background-color: #434B5C;\n",
              "      box-shadow: 0px 1px 3px 1px rgba(0, 0, 0, 0.15);\n",
              "      filter: drop-shadow(0px 1px 2px rgba(0, 0, 0, 0.3));\n",
              "      fill: #FFFFFF;\n",
              "    }\n",
              "  </style>\n",
              "\n",
              "    <script>\n",
              "      const buttonEl =\n",
              "        document.querySelector('#df-e3cd8dc4-26a9-469d-b29c-ce646c08a497 button.colab-df-convert');\n",
              "      buttonEl.style.display =\n",
              "        google.colab.kernel.accessAllowed ? 'block' : 'none';\n",
              "\n",
              "      async function convertToInteractive(key) {\n",
              "        const element = document.querySelector('#df-e3cd8dc4-26a9-469d-b29c-ce646c08a497');\n",
              "        const dataTable =\n",
              "          await google.colab.kernel.invokeFunction('convertToInteractive',\n",
              "                                                    [key], {});\n",
              "        if (!dataTable) return;\n",
              "\n",
              "        const docLinkHtml = 'Like what you see? Visit the ' +\n",
              "          '<a target=\"_blank\" href=https://colab.research.google.com/notebooks/data_table.ipynb>data table notebook</a>'\n",
              "          + ' to learn more about interactive tables.';\n",
              "        element.innerHTML = '';\n",
              "        dataTable['output_type'] = 'display_data';\n",
              "        await google.colab.output.renderOutput(dataTable, element);\n",
              "        const docLink = document.createElement('div');\n",
              "        docLink.innerHTML = docLinkHtml;\n",
              "        element.appendChild(docLink);\n",
              "      }\n",
              "    </script>\n",
              "  </div>\n",
              "\n",
              "\n",
              "<div id=\"df-14edb237-f33e-40ac-89bf-b06126c5f117\">\n",
              "  <button class=\"colab-df-quickchart\" onclick=\"quickchart('df-14edb237-f33e-40ac-89bf-b06126c5f117')\"\n",
              "            title=\"Suggest charts\"\n",
              "            style=\"display:none;\">\n",
              "\n",
              "<svg xmlns=\"http://www.w3.org/2000/svg\" height=\"24px\"viewBox=\"0 0 24 24\"\n",
              "     width=\"24px\">\n",
              "    <g>\n",
              "        <path d=\"M19 3H5c-1.1 0-2 .9-2 2v14c0 1.1.9 2 2 2h14c1.1 0 2-.9 2-2V5c0-1.1-.9-2-2-2zM9 17H7v-7h2v7zm4 0h-2V7h2v10zm4 0h-2v-4h2v4z\"/>\n",
              "    </g>\n",
              "</svg>\n",
              "  </button>\n",
              "\n",
              "<style>\n",
              "  .colab-df-quickchart {\n",
              "      --bg-color: #E8F0FE;\n",
              "      --fill-color: #1967D2;\n",
              "      --hover-bg-color: #E2EBFA;\n",
              "      --hover-fill-color: #174EA6;\n",
              "      --disabled-fill-color: #AAA;\n",
              "      --disabled-bg-color: #DDD;\n",
              "  }\n",
              "\n",
              "  [theme=dark] .colab-df-quickchart {\n",
              "      --bg-color: #3B4455;\n",
              "      --fill-color: #D2E3FC;\n",
              "      --hover-bg-color: #434B5C;\n",
              "      --hover-fill-color: #FFFFFF;\n",
              "      --disabled-bg-color: #3B4455;\n",
              "      --disabled-fill-color: #666;\n",
              "  }\n",
              "\n",
              "  .colab-df-quickchart {\n",
              "    background-color: var(--bg-color);\n",
              "    border: none;\n",
              "    border-radius: 50%;\n",
              "    cursor: pointer;\n",
              "    display: none;\n",
              "    fill: var(--fill-color);\n",
              "    height: 32px;\n",
              "    padding: 0;\n",
              "    width: 32px;\n",
              "  }\n",
              "\n",
              "  .colab-df-quickchart:hover {\n",
              "    background-color: var(--hover-bg-color);\n",
              "    box-shadow: 0 1px 2px rgba(60, 64, 67, 0.3), 0 1px 3px 1px rgba(60, 64, 67, 0.15);\n",
              "    fill: var(--button-hover-fill-color);\n",
              "  }\n",
              "\n",
              "  .colab-df-quickchart-complete:disabled,\n",
              "  .colab-df-quickchart-complete:disabled:hover {\n",
              "    background-color: var(--disabled-bg-color);\n",
              "    fill: var(--disabled-fill-color);\n",
              "    box-shadow: none;\n",
              "  }\n",
              "\n",
              "  .colab-df-spinner {\n",
              "    border: 2px solid var(--fill-color);\n",
              "    border-color: transparent;\n",
              "    border-bottom-color: var(--fill-color);\n",
              "    animation:\n",
              "      spin 1s steps(1) infinite;\n",
              "  }\n",
              "\n",
              "  @keyframes spin {\n",
              "    0% {\n",
              "      border-color: transparent;\n",
              "      border-bottom-color: var(--fill-color);\n",
              "      border-left-color: var(--fill-color);\n",
              "    }\n",
              "    20% {\n",
              "      border-color: transparent;\n",
              "      border-left-color: var(--fill-color);\n",
              "      border-top-color: var(--fill-color);\n",
              "    }\n",
              "    30% {\n",
              "      border-color: transparent;\n",
              "      border-left-color: var(--fill-color);\n",
              "      border-top-color: var(--fill-color);\n",
              "      border-right-color: var(--fill-color);\n",
              "    }\n",
              "    40% {\n",
              "      border-color: transparent;\n",
              "      border-right-color: var(--fill-color);\n",
              "      border-top-color: var(--fill-color);\n",
              "    }\n",
              "    60% {\n",
              "      border-color: transparent;\n",
              "      border-right-color: var(--fill-color);\n",
              "    }\n",
              "    80% {\n",
              "      border-color: transparent;\n",
              "      border-right-color: var(--fill-color);\n",
              "      border-bottom-color: var(--fill-color);\n",
              "    }\n",
              "    90% {\n",
              "      border-color: transparent;\n",
              "      border-bottom-color: var(--fill-color);\n",
              "    }\n",
              "  }\n",
              "</style>\n",
              "\n",
              "  <script>\n",
              "    async function quickchart(key) {\n",
              "      const quickchartButtonEl =\n",
              "        document.querySelector('#' + key + ' button');\n",
              "      quickchartButtonEl.disabled = true;  // To prevent multiple clicks.\n",
              "      quickchartButtonEl.classList.add('colab-df-spinner');\n",
              "      try {\n",
              "        const charts = await google.colab.kernel.invokeFunction(\n",
              "            'suggestCharts', [key], {});\n",
              "      } catch (error) {\n",
              "        console.error('Error during call to suggestCharts:', error);\n",
              "      }\n",
              "      quickchartButtonEl.classList.remove('colab-df-spinner');\n",
              "      quickchartButtonEl.classList.add('colab-df-quickchart-complete');\n",
              "    }\n",
              "    (() => {\n",
              "      let quickchartButtonEl =\n",
              "        document.querySelector('#df-14edb237-f33e-40ac-89bf-b06126c5f117 button');\n",
              "      quickchartButtonEl.style.display =\n",
              "        google.colab.kernel.accessAllowed ? 'block' : 'none';\n",
              "    })();\n",
              "  </script>\n",
              "</div>\n",
              "\n",
              "    </div>\n",
              "  </div>\n"
            ],
            "text/plain": [
              "   InscClaimAmtReimbursed AttendingPhysician OperatingPhysician  \\\n",
              "0                   42000          PHY383193          PHY378091   \n",
              "1                      90          PHY345302                NaN   \n",
              "2                      20          PHY383007                NaN   \n",
              "3                     100          PHY345302                NaN   \n",
              "4                     200          PHY354616          PHY405310   \n",
              "\n",
              "  OtherPhysician AdmissionDt  \n",
              "0      PHY389113  2009-05-04  \n",
              "1            NaN         NaN  \n",
              "2      PHY383007         NaN  \n",
              "3      PHY345302         NaN  \n",
              "4      PHY405310         NaN  "
            ]
          },
          "execution_count": 36,
          "metadata": {},
          "output_type": "execute_result"
        }
      ],
      "source": [
        "data.iloc[:,5:10].head()"
      ]
    },
    {
      "cell_type": "code",
      "execution_count": null,
      "metadata": {
        "colab": {
          "base_uri": "https://localhost:8080/",
          "height": 241
        },
        "id": "1x-EYNAsgJ8i",
        "outputId": "16ce97f6-742c-4fda-ad41-8fcadf81286c"
      },
      "outputs": [
        {
          "data": {
            "text/html": [
              "<div>\n",
              "<style scoped>\n",
              "    .dataframe tbody tr th:only-of-type {\n",
              "        vertical-align: middle;\n",
              "    }\n",
              "\n",
              "    .dataframe tbody tr th {\n",
              "        vertical-align: top;\n",
              "    }\n",
              "\n",
              "    .dataframe thead th {\n",
              "        text-align: right;\n",
              "    }\n",
              "</style>\n",
              "<table border=\"1\" class=\"dataframe\">\n",
              "  <thead>\n",
              "    <tr style=\"text-align: right;\">\n",
              "      <th></th>\n",
              "      <th>0</th>\n",
              "    </tr>\n",
              "  </thead>\n",
              "  <tbody>\n",
              "    <tr>\n",
              "      <th>InscClaimAmtReimbursed</th>\n",
              "      <td>0</td>\n",
              "    </tr>\n",
              "    <tr>\n",
              "      <th>AttendingPhysician</th>\n",
              "      <td>1508</td>\n",
              "    </tr>\n",
              "    <tr>\n",
              "      <th>OperatingPhysician</th>\n",
              "      <td>443764</td>\n",
              "    </tr>\n",
              "    <tr>\n",
              "      <th>OtherPhysician</th>\n",
              "      <td>358475</td>\n",
              "    </tr>\n",
              "    <tr>\n",
              "      <th>AdmissionDt</th>\n",
              "      <td>517737</td>\n",
              "    </tr>\n",
              "  </tbody>\n",
              "</table>\n",
              "</div><br><label><b>dtype:</b> int64</label>"
            ],
            "text/plain": [
              "InscClaimAmtReimbursed         0\n",
              "AttendingPhysician          1508\n",
              "OperatingPhysician        443764\n",
              "OtherPhysician            358475\n",
              "AdmissionDt               517737\n",
              "dtype: int64"
            ]
          },
          "execution_count": 37,
          "metadata": {},
          "output_type": "execute_result"
        }
      ],
      "source": [
        "data.iloc[:,5:10].isna().sum()"
      ]
    },
    {
      "cell_type": "code",
      "execution_count": null,
      "metadata": {
        "colab": {
          "base_uri": "https://localhost:8080/",
          "height": 241
        },
        "id": "dXsfmImagJ3R",
        "outputId": "b4f6d7d8-a7dc-4926-c483-839db64b019d"
      },
      "outputs": [
        {
          "data": {
            "text/html": [
              "<div>\n",
              "<style scoped>\n",
              "    .dataframe tbody tr th:only-of-type {\n",
              "        vertical-align: middle;\n",
              "    }\n",
              "\n",
              "    .dataframe tbody tr th {\n",
              "        vertical-align: top;\n",
              "    }\n",
              "\n",
              "    .dataframe thead th {\n",
              "        text-align: right;\n",
              "    }\n",
              "</style>\n",
              "<table border=\"1\" class=\"dataframe\">\n",
              "  <thead>\n",
              "    <tr style=\"text-align: right;\">\n",
              "      <th></th>\n",
              "      <th>0</th>\n",
              "    </tr>\n",
              "  </thead>\n",
              "  <tbody>\n",
              "    <tr>\n",
              "      <th>InscClaimAmtReimbursed</th>\n",
              "      <td>int64</td>\n",
              "    </tr>\n",
              "    <tr>\n",
              "      <th>AttendingPhysician</th>\n",
              "      <td>object</td>\n",
              "    </tr>\n",
              "    <tr>\n",
              "      <th>OperatingPhysician</th>\n",
              "      <td>object</td>\n",
              "    </tr>\n",
              "    <tr>\n",
              "      <th>OtherPhysician</th>\n",
              "      <td>object</td>\n",
              "    </tr>\n",
              "    <tr>\n",
              "      <th>AdmissionDt</th>\n",
              "      <td>object</td>\n",
              "    </tr>\n",
              "  </tbody>\n",
              "</table>\n",
              "</div><br><label><b>dtype:</b> object</label>"
            ],
            "text/plain": [
              "InscClaimAmtReimbursed     int64\n",
              "AttendingPhysician        object\n",
              "OperatingPhysician        object\n",
              "OtherPhysician            object\n",
              "AdmissionDt               object\n",
              "dtype: object"
            ]
          },
          "execution_count": 38,
          "metadata": {},
          "output_type": "execute_result"
        }
      ],
      "source": [
        "data.iloc[:,5:10].dtypes"
      ]
    },
    {
      "cell_type": "code",
      "execution_count": null,
      "metadata": {
        "colab": {
          "base_uri": "https://localhost:8080/",
          "height": 430
        },
        "id": "t398KRT0gJnr",
        "outputId": "4b2c1e2b-38ff-42d0-a864-78d848767c35"
      },
      "outputs": [
        {
          "data": {
            "image/png": "[encoded data removed]",
            "text/plain": [
              "<Figure size 640x480 with 1 Axes>"
            ]
          },
          "metadata": {},
          "output_type": "display_data"
        }
      ],
      "source": [
        "plt.boxplot(data['InscClaimAmtReimbursed'])\n",
        "plt.show()"
      ]
    },
    {
      "cell_type": "code",
      "execution_count": null,
      "metadata": {
        "colab": {
          "base_uri": "https://localhost:8080/",
          "height": 430
        },
        "id": "0BabqZ62gJSF",
        "outputId": "a988fed2-1091-4317-8cd1-66409946c02a"
      },
      "outputs": [
        {
          "data": {
            "image/png": "[encoded data removed]",
            "text/plain": [
              "<Figure size 640x480 with 1 Axes>"
            ]
          },
          "metadata": {},
          "output_type": "display_data"
        }
      ],
      "source": [
        "plt.hist(data['InscClaimAmtReimbursed'])\n",
        "plt.show()"
      ]
    },
    {
      "cell_type": "code",
      "execution_count": null,
      "metadata": {
        "colab": {
          "base_uri": "https://localhost:8080/",
          "height": 241
        },
        "id": "vvRiQXhegwLb",
        "outputId": "0937ec07-3062-454b-ba2f-bbca24a3c0ea"
      },
      "outputs": [
        {
          "data": {
            "text/html": [
              "<div>\n",
              "<style scoped>\n",
              "    .dataframe tbody tr th:only-of-type {\n",
              "        vertical-align: middle;\n",
              "    }\n",
              "\n",
              "    .dataframe tbody tr th {\n",
              "        vertical-align: top;\n",
              "    }\n",
              "\n",
              "    .dataframe thead th {\n",
              "        text-align: right;\n",
              "    }\n",
              "</style>\n",
              "<table border=\"1\" class=\"dataframe\">\n",
              "  <thead>\n",
              "    <tr style=\"text-align: right;\">\n",
              "      <th></th>\n",
              "      <th>0</th>\n",
              "    </tr>\n",
              "  </thead>\n",
              "  <tbody>\n",
              "    <tr>\n",
              "      <th>InscClaimAmtReimbursed</th>\n",
              "      <td>438</td>\n",
              "    </tr>\n",
              "    <tr>\n",
              "      <th>AttendingPhysician</th>\n",
              "      <td>82063</td>\n",
              "    </tr>\n",
              "    <tr>\n",
              "      <th>OperatingPhysician</th>\n",
              "      <td>35315</td>\n",
              "    </tr>\n",
              "    <tr>\n",
              "      <th>OtherPhysician</th>\n",
              "      <td>46457</td>\n",
              "    </tr>\n",
              "    <tr>\n",
              "      <th>AdmissionDt</th>\n",
              "      <td>398</td>\n",
              "    </tr>\n",
              "  </tbody>\n",
              "</table>\n",
              "</div><br><label><b>dtype:</b> int64</label>"
            ],
            "text/plain": [
              "InscClaimAmtReimbursed      438\n",
              "AttendingPhysician        82063\n",
              "OperatingPhysician        35315\n",
              "OtherPhysician            46457\n",
              "AdmissionDt                 398\n",
              "dtype: int64"
            ]
          },
          "execution_count": 41,
          "metadata": {},
          "output_type": "execute_result"
        }
      ],
      "source": [
        "data.iloc[:,5:10].nunique()"
      ]
    },
    {
      "cell_type": "code",
      "execution_count": null,
      "metadata": {
        "id": "6xQZYmFjgwGT"
      },
      "outputs": [],
      "source": [
        "categorical_columns=['AttendingPhysician','OperatingPhysician','OtherPhysician','AdmissionDt']"
      ]
    },
    {
      "cell_type": "code",
      "execution_count": null,
      "metadata": {
        "id": "nCq7cocUgwA_"
      },
      "outputs": [],
      "source": [
        "categorical_counts=data[categorical_columns].value_counts()"
      ]
    },
    {
      "cell_type": "code",
      "execution_count": null,
      "metadata": {
        "colab": {
          "base_uri": "https://localhost:8080/",
          "height": 490
        },
        "id": "exIXJJ-Zgv8o",
        "outputId": "4b2c5f99-7b81-412a-bf71-5caea73122f7"
      },
      "outputs": [
        {
          "data": {
            "text/html": [
              "<div>\n",
              "<style scoped>\n",
              "    .dataframe tbody tr th:only-of-type {\n",
              "        vertical-align: middle;\n",
              "    }\n",
              "\n",
              "    .dataframe tbody tr th {\n",
              "        vertical-align: top;\n",
              "    }\n",
              "\n",
              "    .dataframe thead th {\n",
              "        text-align: right;\n",
              "    }\n",
              "</style>\n",
              "<table border=\"1\" class=\"dataframe\">\n",
              "  <thead>\n",
              "    <tr style=\"text-align: right;\">\n",
              "      <th></th>\n",
              "      <th></th>\n",
              "      <th></th>\n",
              "      <th></th>\n",
              "      <th>count</th>\n",
              "    </tr>\n",
              "    <tr>\n",
              "      <th>AttendingPhysician</th>\n",
              "      <th>OperatingPhysician</th>\n",
              "      <th>OtherPhysician</th>\n",
              "      <th>AdmissionDt</th>\n",
              "      <th></th>\n",
              "    </tr>\n",
              "  </thead>\n",
              "  <tbody>\n",
              "    <tr>\n",
              "      <th>PHY393952</th>\n",
              "      <th>PHY348831</th>\n",
              "      <th>PHY416093</th>\n",
              "      <th>2008-12-01</th>\n",
              "      <td>2</td>\n",
              "    </tr>\n",
              "    <tr>\n",
              "      <th>PHY320770</th>\n",
              "      <th>PHY384367</th>\n",
              "      <th>PHY394578</th>\n",
              "      <th>2009-07-21</th>\n",
              "      <td>2</td>\n",
              "    </tr>\n",
              "    <tr>\n",
              "      <th>PHY358767</th>\n",
              "      <th>PHY356615</th>\n",
              "      <th>PHY358767</th>\n",
              "      <th>2009-04-19</th>\n",
              "      <td>2</td>\n",
              "    </tr>\n",
              "    <tr>\n",
              "      <th>PHY311170</th>\n",
              "      <th>PHY344962</th>\n",
              "      <th>PHY358696</th>\n",
              "      <th>2009-03-21</th>\n",
              "      <td>1</td>\n",
              "    </tr>\n",
              "    <tr>\n",
              "      <th>PHY393930</th>\n",
              "      <th>PHY345804</th>\n",
              "      <th>PHY432135</th>\n",
              "      <th>2009-06-17</th>\n",
              "      <td>1</td>\n",
              "    </tr>\n",
              "    <tr>\n",
              "      <th>...</th>\n",
              "      <th>...</th>\n",
              "      <th>...</th>\n",
              "      <th>...</th>\n",
              "      <td>...</td>\n",
              "    </tr>\n",
              "    <tr>\n",
              "      <th>PHY353698</th>\n",
              "      <th>PHY400317</th>\n",
              "      <th>PHY380019</th>\n",
              "      <th>2009-04-30</th>\n",
              "      <td>1</td>\n",
              "    </tr>\n",
              "    <tr>\n",
              "      <th>PHY353726</th>\n",
              "      <th>PHY425959</th>\n",
              "      <th>PHY318232</th>\n",
              "      <th>2009-05-25</th>\n",
              "      <td>1</td>\n",
              "    </tr>\n",
              "    <tr>\n",
              "      <th>PHY353728</th>\n",
              "      <th>PHY334910</th>\n",
              "      <th>PHY382728</th>\n",
              "      <th>2009-04-07</th>\n",
              "      <td>1</td>\n",
              "    </tr>\n",
              "    <tr>\n",
              "      <th>PHY353771</th>\n",
              "      <th>PHY315682</th>\n",
              "      <th>PHY336434</th>\n",
              "      <th>2009-11-12</th>\n",
              "      <td>1</td>\n",
              "    </tr>\n",
              "    <tr>\n",
              "      <th>PHY434121</th>\n",
              "      <th>PHY375333</th>\n",
              "      <th>PHY399657</th>\n",
              "      <th>2009-06-14</th>\n",
              "      <td>1</td>\n",
              "    </tr>\n",
              "  </tbody>\n",
              "</table>\n",
              "<p>3408 rows × 1 columns</p>\n",
              "</div><br><label><b>dtype:</b> int64</label>"
            ],
            "text/plain": [
              "AttendingPhysician  OperatingPhysician  OtherPhysician  AdmissionDt\n",
              "PHY393952           PHY348831           PHY416093       2008-12-01     2\n",
              "PHY320770           PHY384367           PHY394578       2009-07-21     2\n",
              "PHY358767           PHY356615           PHY358767       2009-04-19     2\n",
              "PHY311170           PHY344962           PHY358696       2009-03-21     1\n",
              "PHY393930           PHY345804           PHY432135       2009-06-17     1\n",
              "                                                                      ..\n",
              "PHY353698           PHY400317           PHY380019       2009-04-30     1\n",
              "PHY353726           PHY425959           PHY318232       2009-05-25     1\n",
              "PHY353728           PHY334910           PHY382728       2009-04-07     1\n",
              "PHY353771           PHY315682           PHY336434       2009-11-12     1\n",
              "PHY434121           PHY375333           PHY399657       2009-06-14     1\n",
              "Name: count, Length: 3408, dtype: int64"
            ]
          },
          "execution_count": 44,
          "metadata": {},
          "output_type": "execute_result"
        }
      ],
      "source": [
        "categorical_counts"
      ]
    },
    {
      "cell_type": "code",
      "execution_count": null,
      "metadata": {
        "id": "zeCTvp3Lgv3x"
      },
      "outputs": [],
      "source": [
        "mode = data[categorical_columns].mode().iloc[0]"
      ]
    },
    {
      "cell_type": "code",
      "execution_count": null,
      "metadata": {
        "colab": {
          "base_uri": "https://localhost:8080/",
          "height": 210
        },
        "id": "dHSbyWVIgvym",
        "outputId": "6a0cface-0577-4465-c7ee-e17fe68ea351"
      },
      "outputs": [
        {
          "data": {
            "text/html": [
              "<div>\n",
              "<style scoped>\n",
              "    .dataframe tbody tr th:only-of-type {\n",
              "        vertical-align: middle;\n",
              "    }\n",
              "\n",
              "    .dataframe tbody tr th {\n",
              "        vertical-align: top;\n",
              "    }\n",
              "\n",
              "    .dataframe thead th {\n",
              "        text-align: right;\n",
              "    }\n",
              "</style>\n",
              "<table border=\"1\" class=\"dataframe\">\n",
              "  <thead>\n",
              "    <tr style=\"text-align: right;\">\n",
              "      <th></th>\n",
              "      <th>0</th>\n",
              "    </tr>\n",
              "  </thead>\n",
              "  <tbody>\n",
              "    <tr>\n",
              "      <th>AttendingPhysician</th>\n",
              "      <td>PHY330576</td>\n",
              "    </tr>\n",
              "    <tr>\n",
              "      <th>OperatingPhysician</th>\n",
              "      <td>PHY330576</td>\n",
              "    </tr>\n",
              "    <tr>\n",
              "      <th>OtherPhysician</th>\n",
              "      <td>PHY412132</td>\n",
              "    </tr>\n",
              "    <tr>\n",
              "      <th>AdmissionDt</th>\n",
              "      <td>2009-02-10</td>\n",
              "    </tr>\n",
              "  </tbody>\n",
              "</table>\n",
              "</div><br><label><b>dtype:</b> object</label>"
            ],
            "text/plain": [
              "AttendingPhysician     PHY330576\n",
              "OperatingPhysician     PHY330576\n",
              "OtherPhysician         PHY412132\n",
              "AdmissionDt           2009-02-10\n",
              "Name: 0, dtype: object"
            ]
          },
          "execution_count": 46,
          "metadata": {},
          "output_type": "execute_result"
        }
      ],
      "source": [
        "mode"
      ]
    },
    {
      "cell_type": "code",
      "execution_count": null,
      "metadata": {
        "colab": {
          "base_uri": "https://localhost:8080/",
          "height": 676
        },
        "id": "YY0KJOkdgvte",
        "outputId": "fcb514e2-4717-4699-8832-a966ae029bfd"
      },
      "outputs": [
        {
          "name": "stderr",
          "output_type": "stream",
          "text": [
            "<ipython-input-47-9ed6b2f48270>:3: FutureWarning: \n",
            "\n",
            "Passing `palette` without assigning `hue` is deprecated and will be removed in v0.14.0. Assign the `x` variable to `hue` and set `legend=False` for the same effect.\n",
            "\n",
            "  sns.countplot(x=data['AttendingPhysician'], palette=\"viridis\")\n"
          ]
        },
        {
          "data": {
            "image/png": "[encoded data removed]",
            "text/plain": [
              "<Figure size 800x600 with 1 Axes>"
            ]
          },
          "metadata": {},
          "output_type": "display_data"
        }
      ],
      "source": [
        "plt.figure(figsize=(8, 6))\n",
        "\n",
        "sns.countplot(x=data['AttendingPhysician'], palette=\"viridis\")\n",
        "\n",
        "plt.title('Count plot of AttendingPhysician', fontsize=14)\n",
        "\n",
        "plt.xlabel('AttendingPhysician', fontsize=12)\n",
        "\n",
        "plt.ylabel('Count', fontsize=12)\n",
        "\n",
        "plt.show()"
      ]
    },
    {
      "cell_type": "code",
      "execution_count": null,
      "metadata": {
        "colab": {
          "background_save": true,
          "base_uri": "https://localhost:8080/"
        },
        "id": "owIEdAqDJs2I",
        "outputId": "5c1e954c-38b9-4cad-cdf7-eaa4d9b298dc"
      },
      "outputs": [
        {
          "name": "stderr",
          "output_type": "stream",
          "text": [
            "<ipython-input-48-77db49ba3e44>:3: FutureWarning: \n",
            "\n",
            "Passing `palette` without assigning `hue` is deprecated and will be removed in v0.14.0. Assign the `x` variable to `hue` and set `legend=False` for the same effect.\n",
            "\n",
            "  sns.countplot(x=data['OperatingPhysician'], palette=\"viridis\")\n"
          ]
        },
        {
          "data": {
            "image/png": "[encoded data removed]",
            "text/plain": [
              "<Figure size 800x600 with 1 Axes>"
            ]
          },
          "metadata": {},
          "output_type": "display_data"
        }
      ],
      "source": [
        "plt.figure(figsize=(8, 6))\n",
        "\n",
        "sns.countplot(x=data['OperatingPhysician'], palette=\"viridis\")\n",
        "\n",
        "plt.title('Count plot of OperatingPhysician', fontsize=14)\n",
        "\n",
        "plt.xlabel('OperatingPhysician', fontsize=12)\n",
        "\n",
        "plt.ylabel('Count', fontsize=12)\n",
        "\n",
        "plt.show()"
      ]
    },
    {
      "cell_type": "code",
      "execution_count": null,
      "metadata": {
        "colab": {
          "background_save": true
        },
        "id": "YerZnMl4JsgV",
        "outputId": "867114d9-2321-4874-894a-7e01f6fee019"
      },
      "outputs": [
        {
          "name": "stderr",
          "output_type": "stream",
          "text": [
            "<ipython-input-49-fd6507d6fe54>:3: FutureWarning: \n",
            "\n",
            "Passing `palette` without assigning `hue` is deprecated and will be removed in v0.14.0. Assign the `x` variable to `hue` and set `legend=False` for the same effect.\n",
            "\n",
            "  sns.countplot(x=data['OtherPhysician'], palette=\"viridis\")\n"
          ]
        },
        {
          "data": {
            "image/png": "[encoded data removed]",
            "text/plain": [
              "<Figure size 800x600 with 1 Axes>"
            ]
          },
          "metadata": {},
          "output_type": "display_data"
        }
      ],
      "source": [
        "plt.figure(figsize=(8, 6))\n",
        "\n",
        "sns.countplot(x=data['OtherPhysician'], palette=\"viridis\")\n",
        "\n",
        "plt.title('Count plot of OtherPhysician', fontsize=14)\n",
        "\n",
        "plt.xlabel('OtherPhysician', fontsize=12)\n",
        "\n",
        "plt.ylabel('Count', fontsize=12)\n",
        "\n",
        "plt.show()"
      ]
    },
    {
      "cell_type": "code",
      "execution_count": null,
      "metadata": {
        "colab": {
          "background_save": true
        },
        "id": "sb7lnVbwgvou"
      },
      "outputs": [],
      "source": [
        "# Convert 'AdmissionDt' to datetime objects\n",
        "data['AdmissionDt'] = pd.to_datetime(data['AdmissionDt'], format='mixed')#different datetime format was there."
      ]
    },
    {
      "cell_type": "code",
      "execution_count": null,
      "metadata": {
        "colab": {
          "background_save": true
        },
        "id": "t4rXlyMVgvjW",
        "outputId": "77cab723-e8eb-45eb-80ea-b7dcd8f9664a"
      },
      "outputs": [
        {
          "name": "stderr",
          "output_type": "stream",
          "text": [
            "<ipython-input-51-9c84f00dd471>:1: FutureWarning: \n",
            "\n",
            "Passing `palette` without assigning `hue` is deprecated and will be removed in v0.14.0. Assign the `x` variable to `hue` and set `legend=False` for the same effect.\n",
            "\n",
            "  sns.countplot(x=data['AdmissionDt'].head(10000), palette=\"viridis\")\n"
          ]
        },
        {
          "data": {
            "text/plain": [
              "<Axes: xlabel='AdmissionDt', ylabel='count'>"
            ]
          },
          "execution_count": 51,
          "metadata": {},
          "output_type": "execute_result"
        },
        {
          "data": {
            "image/png": "[encoded data removed]",
            "text/plain": [
              "<Figure size 640x480 with 1 Axes>"
            ]
          },
          "metadata": {},
          "output_type": "display_data"
        }
      ],
      "source": [
        "sns.countplot(x=data['AdmissionDt'].head(10000), palette=\"viridis\")"
      ]
    },
    {
      "cell_type": "code",
      "execution_count": null,
      "metadata": {
        "colab": {
          "background_save": true
        },
        "id": "W-sMbQmXhYMT",
        "outputId": "f2520c33-3dec-4218-e9c6-7c0b974fdb95"
      },
      "outputs": [
        {
          "data": {
            "text/plain": [
              "<Axes: xlabel='AdmissionDt'>"
            ]
          },
          "execution_count": 52,
          "metadata": {},
          "output_type": "execute_result"
        },
        {
          "data": {
            "image/png": "[encoded data removed]",
            "text/plain": [
              "<Figure size 640x480 with 1 Axes>"
            ]
          },
          "metadata": {},
          "output_type": "display_data"
        }
      ],
      "source": [
        "data['AdmissionDt'].dt.year.value_counts().sort_index().plot(kind='bar')"
      ]
    },
    {
      "cell_type": "code",
      "execution_count": null,
      "metadata": {
        "colab": {
          "background_save": true
        },
        "id": "h41NKe3thYHT",
        "outputId": "7b929846-e15b-4b3d-fc3f-0eea8f0c8733"
      },
      "outputs": [
        {
          "data": {
            "image/png": "[encoded data removed]",
            "text/plain": [
              "<Figure size 640x480 with 1 Axes>"
            ]
          },
          "metadata": {},
          "output_type": "display_data"
        }
      ],
      "source": [
        "data1=data.copy()\n",
        "data.groupby('PotentialFraud')['InscClaimAmtReimbursed'].median().plot.bar()\n",
        "plt.show()"
      ]
    },
    {
      "cell_type": "code",
      "execution_count": null,
      "metadata": {
        "colab": {
          "background_save": true
        },
        "id": "c7dFzOqxhYB1",
        "outputId": "83de2da1-662c-4b20-eec9-a9bf39a233d3"
      },
      "outputs": [
        {
          "name": "stdout",
          "output_type": "stream",
          "text": [
            "Crosstab for AttendingPhysician and PotentialFraud:\n",
            "PotentialFraud      No  Yes\n",
            "AttendingPhysician         \n",
            "PHY311001            2    0\n",
            "PHY311002            0    1\n",
            "PHY311004            2    0\n",
            "PHY311005            2    0\n",
            "PHY311006            1    0\n",
            "...                 ..  ...\n",
            "PHY434153            0    1\n",
            "PHY434155            1    0\n",
            "PHY434156            3    0\n",
            "PHY434157            1    0\n",
            "PHY434158            0    3\n",
            "\n",
            "[82063 rows x 2 columns]\n",
            "\n",
            "\n",
            "Crosstab for OperatingPhysician and PotentialFraud:\n",
            "PotentialFraud      No  Yes\n",
            "OperatingPhysician         \n",
            "PHY311005            1    0\n",
            "PHY311010            1    0\n",
            "PHY311011            0    5\n",
            "PHY311014            3    0\n",
            "PHY311018            2    0\n",
            "...                 ..  ...\n",
            "PHY434146            2    0\n",
            "PHY434149            1    0\n",
            "PHY434150            3    0\n",
            "PHY434154            1    0\n",
            "PHY434155            4    0\n",
            "\n",
            "[35315 rows x 2 columns]\n",
            "\n",
            "\n",
            "Crosstab for OtherPhysician and PotentialFraud:\n",
            "PotentialFraud  No  Yes\n",
            "OtherPhysician         \n",
            "PHY311001        1    0\n",
            "PHY311003        0    2\n",
            "PHY311005        2    0\n",
            "PHY311006        3    0\n",
            "PHY311007        0    1\n",
            "...             ..  ...\n",
            "PHY434147        0    1\n",
            "PHY434149        1    0\n",
            "PHY434150        2    0\n",
            "PHY434153        0    1\n",
            "PHY434158        0    1\n",
            "\n",
            "[46457 rows x 2 columns]\n",
            "\n",
            "\n",
            "Crosstab for AdmissionDt and PotentialFraud:\n",
            "PotentialFraud  No  Yes\n",
            "AdmissionDt            \n",
            "2008-11-27       1    1\n",
            "2008-11-28       1    1\n",
            "2008-11-29       0    2\n",
            "2008-12-01       0    3\n",
            "2008-12-02       1    2\n",
            "...             ..  ...\n",
            "2009-12-27      23   34\n",
            "2009-12-28      19   26\n",
            "2009-12-29       9   14\n",
            "2009-12-30       1    7\n",
            "2009-12-31       1    0\n",
            "\n",
            "[398 rows x 2 columns]\n",
            "\n",
            "\n"
          ]
        }
      ],
      "source": [
        "  COLUMNS=['AttendingPhysician', 'OperatingPhysician','OtherPhysician','AdmissionDt']\n",
        "  for col in COLUMNS:\n",
        "   crosstab=pd.crosstab(data[col],data['PotentialFraud'])#,normalize='index')\n",
        "   print(f\"Crosstab for {col} and {'PotentialFraud'}:\")\n",
        "   print(crosstab)\n",
        "   print('\\n')"
      ]
    },
    {
      "cell_type": "code",
      "execution_count": null,
      "metadata": {
        "colab": {
          "background_save": true
        },
        "id": "Pgh3sppRhX80",
        "outputId": "b0b3d9de-16cc-495d-df49-e3d0e29bbbb4"
      },
      "outputs": [
        {
          "name": "stdout",
          "output_type": "stream",
          "text": [
            "Chi-square test for AttendingPhysician:\n",
            "Chi2: 548006.7733170441, p-value: 0.0\n",
            "There is a statistically significant association between AttendingPhysician and PotentialFraud.\n",
            "--------------------\n",
            "Chi-square test for OperatingPhysician:\n",
            "Chi2: 113043.59420347774, p-value: 0.0\n",
            "There is a statistically significant association between OperatingPhysician and PotentialFraud.\n",
            "--------------------\n",
            "Chi-square test for OtherPhysician:\n",
            "Chi2: 197146.9336764672, p-value: 0.0\n",
            "There is a statistically significant association between OtherPhysician and PotentialFraud.\n",
            "--------------------\n",
            "Chi-square test for AdmissionDt:\n",
            "Chi2: 447.4687957519541, p-value: 0.040599694879799184\n",
            "There is a statistically significant association between AdmissionDt and PotentialFraud.\n",
            "--------------------\n"
          ]
        }
      ],
      "source": [
        "from scipy.stats import chi2_contingency\n",
        "columns_to_test = ['AttendingPhysician', 'OperatingPhysician','OtherPhysician','AdmissionDt']\n",
        "\n",
        "for col in columns_to_test:\n",
        "\n",
        "    crosstab = pd.crosstab(data[col], data['PotentialFraud'])\n",
        "\n",
        "    # Perform Chi-Square test\n",
        "    chi2, p, dof, expected = chi2_contingency(crosstab)\n",
        "\n",
        "    print(f\"Chi-square test for {col}:\")\n",
        "    print(f\"Chi2: {chi2}, p-value: {p}\")\n",
        "\n",
        "    # You can set a significance level (alpha) to determine if the association is statistically significant.\n",
        "    alpha = 0.05\n",
        "    if p < alpha:\n",
        "        print(f\"There is a statistically significant association between {col} and PotentialFraud.\")\n",
        "    else:\n",
        "        print(f\"There is no statistically significant association between {col} and PotentialFraud.\")\n",
        "    print(\"-\" * 20)"
      ]
    },
    {
      "cell_type": "markdown",
      "metadata": {
        "id": "mHFcj8Q_3UAw"
      },
      "source": [
        "UNIVARIATE AND BIVARIATE ANALYSIS OF 11 T0 15 TH COLUMN"
      ]
    },
    {
      "cell_type": "code",
      "execution_count": null,
      "metadata": {
        "id": "amY_Uav3q-3V"
      },
      "outputs": [],
      "source": [
        "data.iloc[:,10:15].head()"
      ]
    },
    {
      "cell_type": "code",
      "execution_count": null,
      "metadata": {
        "id": "abCJIWsZo-aR"
      },
      "outputs": [],
      "source": [
        "data.iloc[:,10:15].isnull().sum()"
      ]
    },
    {
      "cell_type": "code",
      "execution_count": null,
      "metadata": {
        "id": "J9SLRl-hMexC"
      },
      "outputs": [],
      "source": [
        "data.iloc[:,10:15].columns"
      ]
    },
    {
      "cell_type": "code",
      "execution_count": null,
      "metadata": {
        "id": "Q8XBW1wcMFKj"
      },
      "outputs": [],
      "source": [
        "data.iloc[:,10:15].dtypes"
      ]
    },
    {
      "cell_type": "code",
      "execution_count": null,
      "metadata": {
        "id": "86P6pHomMLYR"
      },
      "outputs": [],
      "source": [
        "data.iloc[:,10:15].info()"
      ]
    },
    {
      "cell_type": "code",
      "execution_count": null,
      "metadata": {
        "id": "8gXTK-CyMjt_"
      },
      "outputs": [],
      "source": [
        "plt.boxplot(data['DeductibleAmtPaid'])\n",
        "plt.show()"
      ]
    },
    {
      "cell_type": "code",
      "execution_count": null,
      "metadata": {
        "id": "E3nOE4r6NAFa"
      },
      "outputs": [],
      "source": [
        "plt.hist(data['DeductibleAmtPaid'])\n",
        "plt.show()"
      ]
    },
    {
      "cell_type": "code",
      "execution_count": null,
      "metadata": {
        "id": "dQ6rNZRENF47"
      },
      "outputs": [],
      "source": [
        "data.iloc[:,10:15].nunique()"
      ]
    },
    {
      "cell_type": "markdown",
      "metadata": {
        "id": "ssJW0lrRNPhe"
      },
      "source": [
        "DISTINCT VALUE COUNT IN FIRST 5 FEATURES"
      ]
    },
    {
      "cell_type": "code",
      "execution_count": null,
      "metadata": {
        "id": "gEtP8qGUNS65"
      },
      "outputs": [],
      "source": [
        "data['ClmAdmitDiagnosisCode'].value_counts().sum()"
      ]
    },
    {
      "cell_type": "code",
      "execution_count": null,
      "metadata": {
        "id": "s8O_nrfBNtna"
      },
      "outputs": [],
      "source": [
        "data['DeductibleAmtPaid'].value_counts().sum()"
      ]
    },
    {
      "cell_type": "code",
      "execution_count": null,
      "metadata": {
        "id": "cv4mKRXSNv-o"
      },
      "outputs": [],
      "source": [
        "data['DischargeDt'].value_counts().sum()"
      ]
    },
    {
      "cell_type": "code",
      "execution_count": null,
      "metadata": {
        "id": "KXS_7YHpNzjt"
      },
      "outputs": [],
      "source": [
        "data['DiagnosisGroupCode'].value_counts().sum()"
      ]
    },
    {
      "cell_type": "code",
      "execution_count": null,
      "metadata": {
        "colab": {
          "background_save": true
        },
        "id": "YwgvQkyVN2FS",
        "outputId": "9e749ba2-85f4-498b-c7f5-94133a7b6771"
      },
      "outputs": [
        {
          "data": {
            "text/plain": [
              "547758"
            ]
          },
          "execution_count": 56,
          "metadata": {},
          "output_type": "execute_result"
        }
      ],
      "source": [
        "data['ClmDiagnosisCode_1'].value_counts().sum()"
      ]
    },
    {
      "cell_type": "code",
      "execution_count": null,
      "metadata": {
        "id": "AlkIchyaN4Hq"
      },
      "outputs": [],
      "source": [
        "categorical_columns=['ClmAdmitDiagnosisCode','DischargeDt','DiagnosisGroupCode','ClmDiagnosisCode_1']"
      ]
    },
    {
      "cell_type": "code",
      "execution_count": null,
      "metadata": {
        "id": "Tt5UfaZ3N7GZ"
      },
      "outputs": [],
      "source": [
        "categorical_counts=data[categorical_columns].value_counts()"
      ]
    },
    {
      "cell_type": "code",
      "execution_count": null,
      "metadata": {
        "id": "0aYZR-rjOAhS"
      },
      "outputs": [],
      "source": [
        "categorical_counts"
      ]
    },
    {
      "cell_type": "code",
      "execution_count": null,
      "metadata": {
        "id": "g8KS9VEMODZb"
      },
      "outputs": [],
      "source": [
        "mode = data[categorical_columns].mode().iloc[0]"
      ]
    },
    {
      "cell_type": "code",
      "execution_count": null,
      "metadata": {
        "id": "jU1QVpF_OKMn"
      },
      "outputs": [],
      "source": [
        "mode"
      ]
    },
    {
      "cell_type": "code",
      "execution_count": null,
      "metadata": {
        "id": "RUlSFSbVbUwo"
      },
      "outputs": [],
      "source": [
        "plt.figure(figsize=(8, 6))\n",
        "\n",
        "sns.countplot(x=categorical_columns, palette=\"viridis\")\n",
        "\n",
        "plt.title('Bar Plot of Categorical Feature', fontsize=14)\n",
        "\n",
        "plt.xlabel('Categories', fontsize=12)\n",
        "\n",
        "plt.ylabel('Count', fontsize=12)\n",
        "\n",
        "plt.show()"
      ]
    },
    {
      "cell_type": "code",
      "execution_count": null,
      "metadata": {
        "id": "2-8zZlS4baM6"
      },
      "outputs": [],
      "source": [
        "#countplot\n",
        "sns.countplot(x=data['PotentialFraud'], palette=\"viridis\")"
      ]
    },
    {
      "cell_type": "markdown",
      "metadata": {
        "id": "0IOGhbwPbgW3"
      },
      "source": [
        "BIVARIATE ANALYSIS...FINDING RELATONSHIP WITH TARGET"
      ]
    },
    {
      "cell_type": "code",
      "execution_count": null,
      "metadata": {
        "id": "EGjdOj2UbhsC"
      },
      "outputs": [],
      "source": [
        "data1=data.copy()\n",
        "data.groupby('PotentialFraud')['DeductibleAmtPaid'].median().plot.bar()\n",
        "plt.show()"
      ]
    },
    {
      "cell_type": "code",
      "execution_count": null,
      "metadata": {
        "id": "N-EVwUzHbpLv"
      },
      "outputs": [],
      "source": [
        "data1=data.copy()\n",
        "data.groupby('PotentialFraud')['DeductibleAmtPaid'].mean().plot.bar()\n",
        "plt.show()"
      ]
    },
    {
      "cell_type": "markdown",
      "metadata": {
        "id": "23kfaedJbs57"
      },
      "source": [
        "CROSSTAB IS USED TO FIND RELATIONSHIP BETWEEN CATEGORICAL COLUMNS"
      ]
    },
    {
      "cell_type": "code",
      "execution_count": null,
      "metadata": {
        "id": "UsDx8TuUbxPI"
      },
      "outputs": [],
      "source": [
        "crosstab = pd.crosstab(data['ClmAdmitDiagnosisCode'], data['PotentialFraud'])#,normalize='index')#count of ClmAdmitDiagnosisCode in potentialfraud\n",
        "print(crosstab)"
      ]
    },
    {
      "cell_type": "code",
      "execution_count": null,
      "metadata": {
        "id": "6uRVpuL7b1tE"
      },
      "outputs": [],
      "source": [
        "crosstab = pd.crosstab(data['ClmAdmitDiagnosisCode'], data['PotentialFraud'],normalize='index')\n",
        "print(crosstab)#percentage occurance of provider in  potential fraud"
      ]
    },
    {
      "cell_type": "code",
      "execution_count": null,
      "metadata": {
        "id": "PQVPK6J-b--3"
      },
      "outputs": [],
      "source": [
        "crosstab.plot(kind='bar', stacked=True)#barplot between potential fraud and ClmAdmitDiagnosisCode"
      ]
    },
    {
      "cell_type": "code",
      "execution_count": null,
      "metadata": {
        "id": "wgRRKrMNcOVK"
      },
      "outputs": [],
      "source": [
        "sns.heatmap(crosstab, annot=True, cmap='Blues')\n",
        "plt.title('Heatmap of ClmAdmitDiagnosisCode vs provider fraud')\n",
        "plt.show()"
      ]
    },
    {
      "cell_type": "code",
      "execution_count": null,
      "metadata": {
        "id": "F8jkzWU1cTSK"
      },
      "outputs": [],
      "source": [
        "COLUMNS=['DischargeDt','DiagnosisGroupCode','ClmDiagnosisCode_1']\n",
        "for col in COLUMNS:\n",
        "  pd.crosstab(data[col],data['PotentialFraud'])#,normalize='index')\n",
        "  print(f\"Crosstab for {col} and {'PotentialFraud'}:\")\n",
        "  print(crosstab)\n",
        "  print('\\n')"
      ]
    },
    {
      "cell_type": "markdown",
      "metadata": {
        "id": "nHgvEvJ_cYlo"
      },
      "source": [
        "Chi-Square Test for Independence For feature importance"
      ]
    },
    {
      "cell_type": "code",
      "execution_count": null,
      "metadata": {
        "id": "iGR-oWAjcaIA"
      },
      "outputs": [],
      "source": [
        "from scipy.stats import chi2_contingency"
      ]
    },
    {
      "cell_type": "code",
      "execution_count": null,
      "metadata": {
        "id": "zkBYe03IceE2"
      },
      "outputs": [],
      "source": [
        "columns_to_test = ['ClmAdmitDiagnosisCode','DischargeDt','DiagnosisGroupCode','ClmDiagnosisCode_1']\n",
        "\n",
        "for col in columns_to_test:\n",
        "\n",
        "    crosstab = pd.crosstab(data[col], data['PotentialFraud'])\n",
        "\n",
        "    # Perform Chi-Square test\n",
        "    chi2, p, dof, expected = chi2_contingency(crosstab)\n",
        "\n",
        "    print(f\"Chi-square test for {col}:\")\n",
        "    print(f\"Chi2: {chi2}, p-value: {p}\")\n",
        "\n",
        "    # You can set a significance level (alpha) to determine if the association is statistically significant.\n",
        "    alpha = 0.05\n",
        "    if p < alpha:\n",
        "        print(f\"There is a statistically significant association between {col} and PotentialFraud.\")\n",
        "    else:\n",
        "        print(f\"There is no statistically significant association between {col} and PotentialFraud.\")\n",
        "    print(\"-\" * 20)"
      ]
    },
    {
      "cell_type": "markdown",
      "metadata": {
        "id": "xT_sG6Hdct3c"
      },
      "source": [
        "# Convert 'DischargeDt' to datetime objects"
      ]
    },
    {
      "cell_type": "code",
      "execution_count": null,
      "metadata": {
        "id": "TuKgaOqZctKl"
      },
      "outputs": [],
      "source": [
        "data['DischargeDt'] = pd.to_datetime(data['DischargeDt'])"
      ]
    },
    {
      "cell_type": "code",
      "execution_count": null,
      "metadata": {
        "id": "Lv2Zu51kcyZD"
      },
      "outputs": [],
      "source": [
        "sns.countplot(x=data['DischargeDt'].head(1000), palette=\"viridis\")"
      ]
    },
    {
      "cell_type": "code",
      "execution_count": null,
      "metadata": {
        "id": "67wrgYsDc3Oj"
      },
      "outputs": [],
      "source": [
        "data['DischargeDt'].dt.year.value_counts().sort_index().plot(kind='bar')#year wise count plot"
      ]
    },
    {
      "cell_type": "code",
      "execution_count": null,
      "metadata": {
        "id": "vnaDQtlPc770"
      },
      "outputs": [],
      "source": [
        "# Create the countplot for the first 10000 claimend date\n",
        "plt.figure(figsize=(10, 6))\n",
        "sns.countplot(x=data['DischargeDt'].head(1000), palette=\"viridis\")\n",
        "plt.title('Count Plot of claimenddt(First 1000 Values)')\n",
        "plt.xlabel('dischargedate')\n",
        "plt.ylabel('Count')\n",
        "plt.xticks(rotation=90, ha='right')\n",
        "plt.tight_layout()\n",
        "plt.show()"
      ]
    },
    {
      "cell_type": "markdown",
      "metadata": {
        "id": "IZn4nclZHYnW"
      },
      "source": [
        "***UNIVARIATE AND BIVARIATE  ANALYSIS OF 16 T0 20 TH COLUMN***"
      ]
    },
    {
      "cell_type": "code",
      "execution_count": null,
      "metadata": {
        "id": "TREpW-nPHR1q"
      },
      "outputs": [],
      "source": [
        "data.iloc[:,15:20].head()\n"
      ]
    },
    {
      "cell_type": "code",
      "execution_count": null,
      "metadata": {
        "id": "SNXPR0V-HkLq"
      },
      "outputs": [],
      "source": [
        "data.iloc[:,15:20].columns"
      ]
    },
    {
      "cell_type": "code",
      "execution_count": null,
      "metadata": {
        "id": "xLmP15dfHnIs"
      },
      "outputs": [],
      "source": [
        "data.iloc[:,15:20].info()"
      ]
    },
    {
      "cell_type": "code",
      "execution_count": null,
      "metadata": {
        "id": "Cf_-iyW_Hq5B"
      },
      "outputs": [],
      "source": [
        "data.iloc[:,15:20].isnull().sum()"
      ]
    },
    {
      "cell_type": "markdown",
      "metadata": {
        "id": "TXSOtN_aHuMb"
      },
      "source": [
        "There are null values in these 5 columns,we will handle this in preprocessing stage."
      ]
    },
    {
      "cell_type": "code",
      "execution_count": null,
      "metadata": {
        "id": "SeccRLnXH71z"
      },
      "outputs": [],
      "source": [
        "data.iloc[:,15:20].dtypes"
      ]
    },
    {
      "cell_type": "markdown",
      "metadata": {
        "id": "qO0BlljjI4Yy"
      },
      "source": [
        "Total unique values in these columns"
      ]
    },
    {
      "cell_type": "code",
      "execution_count": null,
      "metadata": {
        "id": "IVXXZ_FTIBR9"
      },
      "outputs": [],
      "source": [
        "categorical_columns=['ClmDiagnosisCode_2', 'ClmDiagnosisCode_3', 'ClmDiagnosisCode_4',\n",
        "       'ClmDiagnosisCode_5', 'ClmDiagnosisCode_6']\n",
        "for feature in categorical_columns :\n",
        "    print(\"The feature is {} and number of labels are {}\".format(feature,len(data[feature].unique())))"
      ]
    },
    {
      "cell_type": "markdown",
      "metadata": {
        "id": "hj0j55FaJysY"
      },
      "source": [
        "total non null value count"
      ]
    },
    {
      "cell_type": "code",
      "execution_count": null,
      "metadata": {
        "id": "py0dRxtrI9Ta"
      },
      "outputs": [],
      "source": [
        "for feature in categorical_columns :\n",
        "    print(\"The feature is {} and number of non-null values are {}\".format(feature,data[feature].value_counts().sum()))"
      ]
    },
    {
      "cell_type": "code",
      "execution_count": null,
      "metadata": {
        "id": "t9XqbXPGKH1K"
      },
      "outputs": [],
      "source": [
        "sns.countplot(x=data['ClmDiagnosisCode_2'], palette=\"viridis\")\n"
      ]
    },
    {
      "cell_type": "code",
      "execution_count": null,
      "metadata": {
        "id": "jo81eLbyOf8U"
      },
      "outputs": [],
      "source": [
        "#crosstab to find relationship with the target\n",
        "for col in categorical_columns:\n",
        "  pd.crosstab(data[col],data['PotentialFraud'])\n",
        "  print(f\"Crosstab for {col} and {'PotentialFraud'}:\")\n",
        "  print(crosstab)\n",
        "  print('\\n')"
      ]
    },
    {
      "cell_type": "code",
      "execution_count": null,
      "metadata": {
        "id": "TQgQrZtVOonL"
      },
      "outputs": [],
      "source": [
        "\n",
        "from scipy.stats import chi2_contingency\n",
        "\n",
        "\n",
        "for col in categorical_columns :\n",
        "\n",
        "    crosstab = pd.crosstab(data[col], data['PotentialFraud'])\n",
        "\n",
        "    # Perform Chi-Square test\n",
        "    chi2, p, dof, expected = chi2_contingency(crosstab)\n",
        "\n",
        "    print(f\"Chi-square test for {col}:\")\n",
        "    print(f\"Chi2: {chi2}, p-value: {p}\")\n",
        "\n",
        "    #  significance level (alpha)\n",
        "    alpha = 0.05\n",
        "    if p < alpha:\n",
        "        print(f\"There is a statistically significant association between {col} and PotentialFraud.\")\n",
        "    else:\n",
        "        print(f\"There is no statistically significant association between {col} and PotentialFraud.\")\n",
        "    print(\"-\" * 20)"
      ]
    },
    {
      "cell_type": "markdown",
      "metadata": {
        "id": "0kTefpudO2hi"
      },
      "source": [
        "All columns from 16 to 20 has statistically significant association with target"
      ]
    },
    {
      "cell_type": "code",
      "execution_count": null,
      "metadata": {
        "id": "RWVoLZQYO4eZ"
      },
      "outputs": [],
      "source": [
        "\n",
        "categorical_columns = ['ClmDiagnosisCode_2', 'ClmDiagnosisCode_3', 'ClmDiagnosisCode_4',\n",
        "                       'ClmDiagnosisCode_5', 'ClmDiagnosisCode_6']\n",
        "\n",
        "for col in categorical_columns:\n",
        "    plt.figure(figsize=(10, 6))  # Adjust figure size for better visualization\n",
        "    sns.countplot(x=col, hue='PotentialFraud', data=data, palette=\"viridis\")\n",
        "    plt.title(f'Count Plot of {col} vs. PotentialFraud')\n",
        "    plt.xlabel(col)\n",
        "    plt.ylabel('Count')\n",
        "    plt.xticks(rotation=45, ha='right') # Rotate x-axis labels for better readability\n",
        "    plt.tight_layout() # Adjust layout to prevent labels from overlapping\n",
        "    plt.show()"
      ]
    },
    {
      "cell_type": "markdown",
      "metadata": {
        "id": "FAqQ3HkgiaSM"
      },
      "source": [
        "**univariate and bivariate analysis from 21 to 25 columns**"
      ]
    },
    {
      "cell_type": "code",
      "execution_count": null,
      "metadata": {
        "id": "zgvBA1rxiZjD"
      },
      "outputs": [],
      "source": [
        "data.iloc[:,20:25]"
      ]
    },
    {
      "cell_type": "code",
      "execution_count": null,
      "metadata": {
        "id": "OPzgNflZiZeW"
      },
      "outputs": [],
      "source": [
        "data.iloc[:,20:25].isna().sum()"
      ]
    },
    {
      "cell_type": "code",
      "execution_count": null,
      "metadata": {
        "id": "ps1ZbuybiZZv"
      },
      "outputs": [],
      "source": [
        "data.iloc[:,20:25].dtypes"
      ]
    },
    {
      "cell_type": "code",
      "execution_count": null,
      "metadata": {
        "id": "IgGK-Fk6iZUj"
      },
      "outputs": [],
      "source": [
        "plt.boxplot(data['ClmProcedureCode_1'])\n",
        "plt.show()"
      ]
    },
    {
      "cell_type": "code",
      "execution_count": null,
      "metadata": {
        "id": "Lwfiyio1iZPm"
      },
      "outputs": [],
      "source": [
        "### boxplot displays only after handling missing values"
      ]
    },
    {
      "cell_type": "code",
      "execution_count": null,
      "metadata": {
        "id": "W5Gr_ub4iZKG"
      },
      "outputs": [],
      "source": [
        "plt.hist(data['ClmProcedureCode_1'])\n",
        "plt.show()"
      ]
    },
    {
      "cell_type": "code",
      "execution_count": null,
      "metadata": {
        "id": "mnmhpNO-iZE3"
      },
      "outputs": [],
      "source": [
        "data.iloc[:,20:25].nunique()"
      ]
    },
    {
      "cell_type": "code",
      "execution_count": null,
      "metadata": {
        "id": "Iyp9VIrmiY_c"
      },
      "outputs": [],
      "source": [
        "categorical_columns=['ClmDiagnosisCode_7','ClmDiagnosisCode_8','ClmDiagnosisCode_9','ClmDiagnosisCode_10']"
      ]
    },
    {
      "cell_type": "code",
      "execution_count": null,
      "metadata": {
        "id": "IDG79rXyiY6G"
      },
      "outputs": [],
      "source": [
        "categorical_counts=data[categorical_columns].value_counts()"
      ]
    },
    {
      "cell_type": "code",
      "execution_count": null,
      "metadata": {
        "id": "lOg9poSDiY1P"
      },
      "outputs": [],
      "source": [
        "categorical_counts"
      ]
    },
    {
      "cell_type": "code",
      "execution_count": null,
      "metadata": {
        "id": "WFf3ibE0iYvk"
      },
      "outputs": [],
      "source": [
        "mode = data[categorical_columns].mode().iloc[0]"
      ]
    },
    {
      "cell_type": "code",
      "execution_count": null,
      "metadata": {
        "id": "NBZElk5kjhj2"
      },
      "outputs": [],
      "source": [
        "mode"
      ]
    },
    {
      "cell_type": "code",
      "execution_count": null,
      "metadata": {
        "id": "siu_UuNHjhe_"
      },
      "outputs": [],
      "source": [
        "plt.figure(figsize=(8, 6))\n",
        "\n",
        "sns.countplot(x=data['ClmDiagnosisCode_7'], palette=\"viridis\")\n",
        "\n",
        "plt.title('Count plot of ClmDiagnosisCode_7', fontsize=14)\n",
        "\n",
        "plt.xlabel('ClmDiagnosisCode_7', fontsize=12)\n",
        "\n",
        "plt.ylabel('Count', fontsize=12)\n",
        "\n",
        "plt.show()"
      ]
    },
    {
      "cell_type": "code",
      "execution_count": null,
      "metadata": {
        "id": "n6pZdiCuKwG1"
      },
      "outputs": [],
      "source": [
        "plt.figure(figsize=(8, 6))\n",
        "\n",
        "sns.countplot(x=data['ClmDiagnosisCode_8'], palette=\"viridis\")\n",
        "\n",
        "plt.title('Count plot of ClmDiagnosisCode_8', fontsize=14)\n",
        "\n",
        "plt.xlabel('ClmDiagnosisCode_8', fontsize=12)\n",
        "\n",
        "plt.ylabel('Count', fontsize=12)\n",
        "\n",
        "plt.show()"
      ]
    },
    {
      "cell_type": "code",
      "execution_count": null,
      "metadata": {
        "id": "0wV6B8DSK6oB"
      },
      "outputs": [],
      "source": [
        "plt.figure(figsize=(8, 6))\n",
        "\n",
        "sns.countplot(x=data['ClmDiagnosisCode_9'], palette=\"viridis\")\n",
        "\n",
        "plt.title('Count plot of ClmDiagnosisCode_9', fontsize=14)\n",
        "\n",
        "plt.xlabel('ClmDiagnosisCode_9', fontsize=12)\n",
        "\n",
        "plt.ylabel('Count', fontsize=12)\n",
        "\n",
        "plt.show()"
      ]
    },
    {
      "cell_type": "code",
      "execution_count": null,
      "metadata": {
        "id": "AkXM753NK_sO"
      },
      "outputs": [],
      "source": [
        "plt.figure(figsize=(8, 6))\n",
        "\n",
        "sns.countplot(x=data['ClmDiagnosisCode_10'], palette=\"viridis\")\n",
        "\n",
        "plt.title('Count plot of ClmDiagnosisCode_10', fontsize=14)\n",
        "\n",
        "plt.xlabel('ClmDiagnosisCode_10', fontsize=12)\n",
        "\n",
        "plt.ylabel('Count', fontsize=12)\n",
        "\n",
        "plt.show()"
      ]
    },
    {
      "cell_type": "code",
      "execution_count": null,
      "metadata": {
        "id": "hO6bijDajhZu"
      },
      "outputs": [],
      "source": [
        "data1=data.copy()\n",
        "data.groupby('PotentialFraud')['ClmProcedureCode_1'].median().plot.bar()\n",
        "plt.show()"
      ]
    },
    {
      "cell_type": "code",
      "execution_count": null,
      "metadata": {
        "id": "IHRXTES1jhUH"
      },
      "outputs": [],
      "source": [
        "for col in categorical_columns:\n",
        "  pd.crosstab(data[col],data['PotentialFraud'])\n",
        "  print(f\"Crosstab for {col} and {'PotentialFraud'}:\")\n",
        "  print(crosstab)\n",
        "  print('\\n')"
      ]
    },
    {
      "cell_type": "code",
      "execution_count": null,
      "metadata": {
        "id": "qvHQte-zjhOq"
      },
      "outputs": [],
      "source": [
        "from scipy.stats import chi2_contingency\n",
        "columns_to_test = ['ClmDiagnosisCode_7','ClmDiagnosisCode_8','ClmDiagnosisCode_9','ClmDiagnosisCode_10']\n",
        "\n",
        "for col in columns_to_test:\n",
        "\n",
        "    crosstab = pd.crosstab(data[col], data['PotentialFraud'])\n",
        "\n",
        "    # Perform Chi-Square test\n",
        "    chi2, p, dof, expected = chi2_contingency(crosstab)\n",
        "\n",
        "    print(f\"Chi-square test for {col}:\")\n",
        "    print(f\"Chi2: {chi2}, p-value: {p}\")\n",
        "\n",
        "    # You can set a significance level (alpha) to determine if the association is statistically significant.\n",
        "    alpha = 0.05\n",
        "    if p < alpha:\n",
        "        print(f\"There is a statistically significant association between {col} and PotentialFraud.\")\n",
        "    else:\n",
        "        print(f\"There is no statistically significant association between {col} and PotentialFraud.\")\n",
        "    print(\"-\" * 20)"
      ]
    },
    {
      "cell_type": "markdown",
      "metadata": {
        "id": "mg_N1P7-dd_4"
      },
      "source": [
        "UNIVARIATE AND BIVARIATE ANALYSIS OF 26 T0 30 TH COLUMN"
      ]
    },
    {
      "cell_type": "code",
      "execution_count": null,
      "metadata": {
        "id": "7yNRtmGHdimm"
      },
      "outputs": [],
      "source": [
        "data.iloc[:,25:30]"
      ]
    },
    {
      "cell_type": "code",
      "execution_count": null,
      "metadata": {
        "id": "n8XoOjA_dthZ"
      },
      "outputs": [],
      "source": [
        "data.iloc[:,25:30].head()"
      ]
    },
    {
      "cell_type": "code",
      "execution_count": null,
      "metadata": {
        "id": "ECOIAsHldxed"
      },
      "outputs": [],
      "source": [
        "data.iloc[:,25:30].columns"
      ]
    },
    {
      "cell_type": "code",
      "execution_count": null,
      "metadata": {
        "id": "cXxrtnAndzAi"
      },
      "outputs": [],
      "source": [
        "data.iloc[:,25:30].info()"
      ]
    },
    {
      "cell_type": "code",
      "execution_count": null,
      "metadata": {
        "id": "5WHg0cJSd5PI"
      },
      "outputs": [],
      "source": [
        "data.iloc[:,25:30].isnull().sum()"
      ]
    },
    {
      "cell_type": "code",
      "execution_count": null,
      "metadata": {
        "id": "JRhGA1O2eUGl"
      },
      "outputs": [],
      "source": [
        "data.iloc[:,25:30].dtypes"
      ]
    },
    {
      "cell_type": "code",
      "execution_count": null,
      "metadata": {
        "id": "9v_nAJFteXOU"
      },
      "outputs": [],
      "source": [
        "data.iloc[:,25:30].nunique()"
      ]
    },
    {
      "cell_type": "code",
      "execution_count": null,
      "metadata": {
        "id": "zMO4H6VieacZ"
      },
      "outputs": [],
      "source": [
        "plt.boxplot(data.iloc[:,25:29])\n",
        "plt.figure(figsize=(12,8))\n",
        "plt.show()"
      ]
    },
    {
      "cell_type": "code",
      "execution_count": null,
      "metadata": {
        "id": "TlB3FWtMefdf"
      },
      "outputs": [],
      "source": [
        "COLUMNS = ['ClmProcedureCode_2', 'ClmProcedureCode_3', 'ClmProcedureCode_4',\n",
        "           'ClmProcedureCode_5']\n",
        "\n",
        "plt.figure(figsize=(10, 6))  # Set figure size\n",
        "plt.boxplot([data[col] for col in COLUMNS], labels=COLUMNS)\n",
        "plt.title('Boxplots for Selected Columns')\n",
        "plt.xlabel('Columns')\n",
        "plt.ylabel('Values')\n",
        "plt.show()"
      ]
    },
    {
      "cell_type": "markdown",
      "metadata": {
        "id": "ugU_-ixtexqo"
      },
      "source": [
        "## boxplot is empty due to missing values"
      ]
    },
    {
      "cell_type": "code",
      "execution_count": null,
      "metadata": {
        "id": "SOi9U5gUem1g"
      },
      "outputs": [],
      "source": [
        "plt.figure(figsize=(10, 6))  # Set figure size\n",
        "for col in COLUMNS:\n",
        "    plt.hist(data[col], bins=20, alpha=1, label=col)  # Adjust alpha for transparency\n",
        "plt.title('Histograms for Selected Columns')\n",
        "plt.xlabel('Values')\n",
        "plt.ylabel('Frequency')\n",
        "plt.legend()\n",
        "plt.show()"
      ]
    },
    {
      "cell_type": "markdown",
      "metadata": {
        "id": "IBW44H-9e-ze"
      },
      "source": [
        "'ClmProcedureCode_6' is empty, nothing to show- will remove this column during preprocessing"
      ]
    },
    {
      "cell_type": "code",
      "execution_count": null,
      "metadata": {
        "id": "-dOvhFUje6AX"
      },
      "outputs": [],
      "source": [
        "data1=data.copy()\n",
        "data.groupby('PotentialFraud')['ClmProcedureCode_2'].median().plot.bar()\n",
        "plt.show()"
      ]
    },
    {
      "cell_type": "code",
      "execution_count": null,
      "metadata": {
        "id": "nBCUm1YrfK4G"
      },
      "outputs": [],
      "source": [
        "data1=data.copy()\n",
        "data.groupby('PotentialFraud')['ClmProcedureCode_3'].median().plot.bar()\n",
        "plt.show()"
      ]
    },
    {
      "cell_type": "code",
      "execution_count": null,
      "metadata": {
        "id": "67nRPYBQfeh5"
      },
      "outputs": [],
      "source": [
        "data1=data.copy()\n",
        "data.groupby('PotentialFraud')['ClmProcedureCode_4'].median().plot.bar()\n",
        "plt.show()"
      ]
    },
    {
      "cell_type": "code",
      "execution_count": null,
      "metadata": {
        "id": "soMeytZYfkJP"
      },
      "outputs": [],
      "source": [
        "data1=data.copy()\n",
        "data.groupby('PotentialFraud')['ClmProcedureCode_5'].median().plot.bar()\n",
        "plt.show()"
      ]
    },
    {
      "cell_type": "markdown",
      "metadata": {
        "id": "kq6XhVlbPolM"
      },
      "source": [
        "Univariate and bivariate analysis of 31 to 35"
      ]
    },
    {
      "cell_type": "code",
      "execution_count": null,
      "metadata": {
        "id": "Wr5ydWVhPkEg"
      },
      "outputs": [],
      "source": [
        "data.iloc[:,30:35].head()"
      ]
    },
    {
      "cell_type": "code",
      "execution_count": null,
      "metadata": {
        "id": "ej8fRZKbPsrB"
      },
      "outputs": [],
      "source": [
        "data.iloc[:,30:35].columns\n"
      ]
    },
    {
      "cell_type": "code",
      "execution_count": null,
      "metadata": {
        "id": "CPp7fUikPwKz"
      },
      "outputs": [],
      "source": [
        "data.iloc[:,30:35].info()"
      ]
    },
    {
      "cell_type": "code",
      "execution_count": null,
      "metadata": {
        "id": "uz7kYeSNP0xK"
      },
      "outputs": [],
      "source": [
        "data.iloc[:,30:35].isnull().sum()"
      ]
    },
    {
      "cell_type": "code",
      "execution_count": null,
      "metadata": {
        "id": "gkeKpAE3P51X"
      },
      "outputs": [],
      "source": [
        "data.iloc[:,30:35].dtypes"
      ]
    },
    {
      "cell_type": "code",
      "execution_count": null,
      "metadata": {
        "id": "6V6EwtrhP8ZG"
      },
      "outputs": [],
      "source": [
        "categorical_columns=['DOB', 'DOD','RenalDiseaseIndicator']\n",
        "for feature in categorical_columns :\n",
        "    print(\"The feature is {} and number of non-null values are {}\".format(feature,data[feature].value_counts().sum()))"
      ]
    },
    {
      "cell_type": "code",
      "execution_count": null,
      "metadata": {
        "id": "kzKD5UPkRecv"
      },
      "outputs": [],
      "source": [
        "data.iloc[:,30:35].nunique()#no of unique values"
      ]
    },
    {
      "cell_type": "code",
      "execution_count": null,
      "metadata": {
        "id": "EiU9kIGQRie2"
      },
      "outputs": [],
      "source": [
        "data['Race'].unique()"
      ]
    },
    {
      "cell_type": "code",
      "execution_count": null,
      "metadata": {
        "id": "endQMmRBRobV"
      },
      "outputs": [],
      "source": [
        "data['RenalDiseaseIndicator'].unique()"
      ]
    },
    {
      "cell_type": "code",
      "execution_count": null,
      "metadata": {
        "id": "IwnIWvICRrgM"
      },
      "outputs": [],
      "source": [
        "data['Gender'].unique()"
      ]
    },
    {
      "cell_type": "code",
      "execution_count": null,
      "metadata": {
        "id": "UKuCAbrkRvJN"
      },
      "outputs": [],
      "source": [
        "sns.histplot(data['RenalDiseaseIndicator'])"
      ]
    },
    {
      "cell_type": "code",
      "execution_count": null,
      "metadata": {
        "id": "RP1a2ERmRyzk"
      },
      "outputs": [],
      "source": [
        "sns.histplot(data['Gender'])"
      ]
    },
    {
      "cell_type": "code",
      "execution_count": null,
      "metadata": {
        "id": "Xj6XecEIR1_p"
      },
      "outputs": [],
      "source": [
        "sns.histplot(data['Race'])"
      ]
    },
    {
      "cell_type": "markdown",
      "metadata": {
        "id": "CfY_yl1DR8Kb"
      },
      "source": [
        "convert date to datetime variable"
      ]
    },
    {
      "cell_type": "code",
      "execution_count": null,
      "metadata": {
        "id": "DT8-Y85zR7gR"
      },
      "outputs": [],
      "source": [
        "data['DOB']= pd.to_datetime(data['DOB'],errors='coerce')\n",
        "data['DOD']=pd.to_datetime(data['DOD'],errors='coerce')"
      ]
    },
    {
      "cell_type": "code",
      "execution_count": null,
      "metadata": {
        "id": "TwQfwoogSByO"
      },
      "outputs": [],
      "source": [
        "data['DOB'].dtypes\n",
        "data['DOD'].dtypes"
      ]
    },
    {
      "cell_type": "markdown",
      "metadata": {
        "id": "2cSO306tSHEV"
      },
      "source": [
        "Pandas uses NumPy's datetime64 type for efficiency, and that's why the dtype shows as '<M8[ns]'"
      ]
    },
    {
      "cell_type": "code",
      "execution_count": null,
      "metadata": {
        "id": "wmGHFOKZSDLv"
      },
      "outputs": [],
      "source": [
        "data['DOB'].dt.year.value_counts().sort_index().plot(kind='bar')\n"
      ]
    },
    {
      "cell_type": "code",
      "execution_count": null,
      "metadata": {
        "id": "2GBQ6hAaSXRX"
      },
      "outputs": [],
      "source": [
        "\n",
        "# Create the countplot for the first 10000 dod\n",
        "plt.figure(figsize=(10, 6))\n",
        "sns.countplot(x=data['DOD'].head(10000), palette=\"viridis\")\n",
        "plt.title('Count Plot of DOD(First 1000 Values)')\n",
        "plt.xlabel('Date of death')\n",
        "plt.ylabel('Count')\n",
        "plt.xticks(rotation=45, ha='right')\n",
        "plt.tight_layout()\n",
        "plt.show()"
      ]
    },
    {
      "cell_type": "code",
      "execution_count": null,
      "metadata": {
        "id": "rgg1vfIkSbnf"
      },
      "outputs": [],
      "source": [
        "# Bivariate analysis: DOB vs. PotentialFraud\n",
        "# Create a cross-tabulation\n",
        "dob_fraud_crosstab = pd.crosstab(data['DOB'].dt.year, data['PotentialFraud'])\n",
        "\n",
        "# Plot the cross-tabulation\n",
        "dob_fraud_crosstab.plot(kind='bar', figsize=(12, 6))\n",
        "plt.title('DOB Year vs. PotentialFraud')\n",
        "plt.xlabel('Year of Birth')\n",
        "plt.ylabel('Count')\n",
        "plt.xticks(rotation=45)\n",
        "plt.legend(title='PotentialFraud')\n",
        "plt.tight_layout()\n",
        "plt.show()\n"
      ]
    },
    {
      "cell_type": "code",
      "execution_count": null,
      "metadata": {
        "id": "pGRlBDSQSjUd"
      },
      "outputs": [],
      "source": [
        "# Bivariate analysis: DOD vs. PotentialFraud\n",
        "# Create a cross-tabulation\n",
        "dod_fraud_crosstab = pd.crosstab(data['DOD'], data['PotentialFraud'])\n",
        "\n",
        "# Plot the cross-tabulation\n",
        "dod_fraud_crosstab.plot(kind='bar')#figsize=(12, 6))\n",
        "plt.title('DOD Year vs. PotentialFraud')\n",
        "plt.xlabel('Year of death')\n",
        "plt.ylabel('Count')\n",
        "plt.xticks(rotation=45)\n",
        "plt.legend(title='PotentialFraud')\n",
        "plt.tight_layout()\n",
        "plt.show()\n"
      ]
    },
    {
      "cell_type": "code",
      "execution_count": null,
      "metadata": {
        "id": "EXmo9vJeSl3F"
      },
      "outputs": [],
      "source": [
        "#crosstab plot between renaldiseaseindicator and potentialfraud\n",
        "\n",
        "crosstab = pd.crosstab(data['RenalDiseaseIndicator'], data['PotentialFraud'])\n",
        "print(crosstab)\n",
        "crosstab.plot(kind='bar')# stacked=True)\n",
        "plt.title('Crosstab Plot: RenalDiseaseIndicator vs. PotentialFraud')\n",
        "plt.xlabel('RenalDiseaseIndicator')\n",
        "plt.ylabel('Count')\n",
        "plt.show()"
      ]
    },
    {
      "cell_type": "code",
      "execution_count": null,
      "metadata": {
        "id": "SQ4NlOKPSsao"
      },
      "outputs": [],
      "source": [
        "#barplot of RACE and GENDER with potential fraud\n",
        "sns.countplot(x='Race', hue='PotentialFraud', data=data)"
      ]
    },
    {
      "cell_type": "code",
      "execution_count": null,
      "metadata": {
        "id": "d7RH8XY-SvmX"
      },
      "outputs": [],
      "source": [
        "sns.countplot(x='Gender',hue='PotentialFraud',data=data)"
      ]
    },
    {
      "cell_type": "code",
      "execution_count": null,
      "metadata": {
        "id": "Ch7bqXafS2Cp"
      },
      "outputs": [],
      "source": [
        "#chi-square test\n",
        "from scipy.stats import chi2_contingency\n",
        "\n",
        "columns_to_test=['DOB','DOD','RenalDiseaseIndicator']\n",
        "\n",
        "for col in columns_to_test:\n",
        "\n",
        "    contingency_table = pd.crosstab(data[col], data['PotentialFraud'])\n",
        "\n",
        "\n",
        "    chi2, p, dof, expected = chi2_contingency(contingency_table)\n",
        "\n",
        "    print(f\"Chi-square test for {col} (without grouping):\")\n",
        "    print(f\"Chi2: {chi2}, p-value: {p}\")\n",
        "\n",
        "    alpha = 0.05\n",
        "    if p < alpha:\n",
        "        print(f\"There is a statistically significant association between {col} and PotentialFraud.\")\n",
        "    else:\n",
        "        print(f\"There is no statistically significant association between {col} and PotentialFraud.\")\n",
        "    print(\"-\" * 20)"
      ]
    },
    {
      "cell_type": "markdown",
      "metadata": {
        "id": "sveNKEeLTBKT"
      },
      "source": [
        "DOB ,Renaldisease indicator,and DOD columns have statistically significant association with target column."
      ]
    },
    {
      "cell_type": "markdown",
      "metadata": {
        "id": "q-H3Sw4fkVZL"
      },
      "source": [
        "**univariate and bivariate analysis from 36 to 40 columns**\n"
      ]
    },
    {
      "cell_type": "code",
      "execution_count": null,
      "metadata": {
        "id": "iAq4VwjRkSKd"
      },
      "outputs": [],
      "source": [
        "data.iloc[:,35:40]"
      ]
    },
    {
      "cell_type": "code",
      "execution_count": null,
      "metadata": {
        "id": "qdfPEqaCkSFU"
      },
      "outputs": [],
      "source": [
        "data.iloc[:,35:40].isna().sum()"
      ]
    },
    {
      "cell_type": "code",
      "execution_count": null,
      "metadata": {
        "id": "PVC9RiickR8v"
      },
      "outputs": [],
      "source": [
        "data.iloc[:,35:40].dtypes"
      ]
    },
    {
      "cell_type": "code",
      "execution_count": null,
      "metadata": {
        "id": "S6LF1nNmkR3n"
      },
      "outputs": [],
      "source": [
        "plt.boxplot(data.iloc[:,35:40])\n",
        "plt.figure(figsize=(12,8))\n",
        "plt.show()"
      ]
    },
    {
      "cell_type": "code",
      "execution_count": null,
      "metadata": {
        "id": "SXfagSU2kRs3"
      },
      "outputs": [],
      "source": [
        "plt.hist(data.iloc[:,35:40])\n",
        "plt.show()"
      ]
    },
    {
      "cell_type": "code",
      "execution_count": null,
      "metadata": {
        "id": "mpBi7nz3kRoG"
      },
      "outputs": [],
      "source": [
        "data.iloc[:,35:40].nunique()"
      ]
    },
    {
      "cell_type": "code",
      "execution_count": null,
      "metadata": {
        "id": "0A9q99aUkRjm"
      },
      "outputs": [],
      "source": [
        "data1=data.copy()\n",
        "data.groupby('PotentialFraud')['State'].median().plot.bar()\n",
        "plt.show()"
      ]
    },
    {
      "cell_type": "code",
      "execution_count": null,
      "metadata": {
        "id": "xb_D9bdAkReh"
      },
      "outputs": [],
      "source": [
        "data1=data.copy()\n",
        "data.groupby('PotentialFraud')['County'].median().plot.bar()\n",
        "plt.show()"
      ]
    },
    {
      "cell_type": "code",
      "execution_count": null,
      "metadata": {
        "id": "Se2o1d3Gk38z"
      },
      "outputs": [],
      "source": [
        "data1=data.copy()\n",
        "data.groupby('PotentialFraud')['NoOfMonths_PartACov'].median().plot.bar()\n",
        "plt.show()\n"
      ]
    },
    {
      "cell_type": "code",
      "execution_count": null,
      "metadata": {
        "id": "YK4tju5Qk332"
      },
      "outputs": [],
      "source": [
        "data1=data.copy()\n",
        "data.groupby('PotentialFraud')['NoOfMonths_PartBCov'].median().plot.bar()\n",
        "plt.show()"
      ]
    },
    {
      "cell_type": "code",
      "execution_count": null,
      "metadata": {
        "id": "v2kUze_Kk3yp"
      },
      "outputs": [],
      "source": [
        "data1=data.copy()\n",
        "data.groupby('PotentialFraud')['ChronicCond_Alzheimer'].median().plot.bar()\n",
        "plt.show()"
      ]
    },
    {
      "cell_type": "markdown",
      "metadata": {
        "id": "TSM0rmo6f9hi"
      },
      "source": [
        "univariate and bivariate analysis from 41 to 45 columns"
      ]
    },
    {
      "cell_type": "code",
      "execution_count": null,
      "metadata": {
        "id": "TOmtmisqgCOx"
      },
      "outputs": [],
      "source": [
        "data.iloc[:,40:45]"
      ]
    },
    {
      "cell_type": "code",
      "execution_count": null,
      "metadata": {
        "id": "iw9YLiZmghjc"
      },
      "outputs": [],
      "source": [
        "data.iloc[:,40:45].isna().sum()"
      ]
    },
    {
      "cell_type": "code",
      "execution_count": null,
      "metadata": {
        "id": "AKLmTMPHgomg"
      },
      "outputs": [],
      "source": [
        "data.iloc[:,40:45].dtypes"
      ]
    },
    {
      "cell_type": "code",
      "execution_count": null,
      "metadata": {
        "id": "b7MvNe3fgtFX"
      },
      "outputs": [],
      "source": [
        "plt.boxplot(data.iloc[:,40:45])\n",
        "plt.figure(figsize=(12,8))\n",
        "plt.show()"
      ]
    },
    {
      "cell_type": "code",
      "execution_count": null,
      "metadata": {
        "id": "RA6-I1fEgwIA"
      },
      "outputs": [],
      "source": [
        "plt.hist(data.iloc[:,40:45])\n",
        "plt.show()"
      ]
    },
    {
      "cell_type": "code",
      "execution_count": null,
      "metadata": {
        "id": "YfPE4YF5gy-3"
      },
      "outputs": [],
      "source": [
        "data.iloc[:,40:45].nunique()"
      ]
    },
    {
      "cell_type": "code",
      "execution_count": null,
      "metadata": {
        "id": "KZ59qSH2g5ms"
      },
      "outputs": [],
      "source": [
        "data1=data.copy()\n",
        "data.groupby('PotentialFraud')['ChronicCond_Heartfailure'].median().plot.bar()\n",
        "plt.show()"
      ]
    },
    {
      "cell_type": "code",
      "execution_count": null,
      "metadata": {
        "id": "Y3EbIidzg9t3"
      },
      "outputs": [],
      "source": [
        "data1=data.copy()\n",
        "data.groupby('PotentialFraud')['ChronicCond_KidneyDisease'].median().plot.bar()\n",
        "plt.show()"
      ]
    },
    {
      "cell_type": "code",
      "execution_count": null,
      "metadata": {
        "id": "TS3WDOzjhCaK"
      },
      "outputs": [],
      "source": [
        "data1=data.copy()\n",
        "data.groupby('PotentialFraud')['ChronicCond_Cancer'].median().plot.bar()\n",
        "plt.show()"
      ]
    },
    {
      "cell_type": "code",
      "execution_count": null,
      "metadata": {
        "id": "HUE2A744hGY3"
      },
      "outputs": [],
      "source": [
        "data1=data.copy()\n",
        "data.groupby('PotentialFraud')['ChronicCond_ObstrPulmonary'].median().plot.bar()\n",
        "plt.show()"
      ]
    },
    {
      "cell_type": "code",
      "execution_count": null,
      "metadata": {
        "id": "Jx7L0eiThJld"
      },
      "outputs": [],
      "source": [
        "data1=data.copy()\n",
        "data.groupby('PotentialFraud')['ChronicCond_Depression'].median().plot.bar()\n",
        "plt.show()"
      ]
    },
    {
      "cell_type": "markdown",
      "metadata": {
        "id": "wfXjeOFtTFdd"
      },
      "source": [
        "UNIVARIATE AND BIVARIATE OF COLUMN 46,47,48"
      ]
    },
    {
      "cell_type": "code",
      "execution_count": null,
      "metadata": {
        "id": "WVBqOZ_PS8ND"
      },
      "outputs": [],
      "source": [
        "data.iloc[:,45:48].head()"
      ]
    },
    {
      "cell_type": "code",
      "execution_count": null,
      "metadata": {
        "id": "klJhxZQSTMM3"
      },
      "outputs": [],
      "source": [
        "data.iloc[:,45:48].columns"
      ]
    },
    {
      "cell_type": "code",
      "execution_count": null,
      "metadata": {
        "id": "qChq24xkTO2_"
      },
      "outputs": [],
      "source": [
        "data.iloc[:,45:48].info()"
      ]
    },
    {
      "cell_type": "code",
      "execution_count": null,
      "metadata": {
        "id": "ODCrV53DTZnQ"
      },
      "outputs": [],
      "source": [
        "data.iloc[:,45:48].nunique()"
      ]
    },
    {
      "cell_type": "markdown",
      "metadata": {
        "id": "HYdXT790Tmpc"
      },
      "source": [
        "These are discrete integer columnsd with no null\n",
        " values"
      ]
    },
    {
      "cell_type": "code",
      "execution_count": null,
      "metadata": {
        "id": "AQPlQfviTx88"
      },
      "outputs": [],
      "source": [
        "sns.histplot(data['ChronicCond_Alzheimer'])"
      ]
    },
    {
      "cell_type": "code",
      "execution_count": null,
      "metadata": {
        "id": "5UeeU81AT94j"
      },
      "outputs": [],
      "source": [
        "sns.histplot(data['ChronicCond_Diabetes'])"
      ]
    },
    {
      "cell_type": "code",
      "execution_count": null,
      "metadata": {
        "id": "oaBXcezQUCiB"
      },
      "outputs": [],
      "source": [
        "sns.histplot(data['ChronicCond_IschemicHeart'])"
      ]
    },
    {
      "cell_type": "code",
      "execution_count": null,
      "metadata": {
        "id": "1OeDPOFKUH81"
      },
      "outputs": [],
      "source": [
        "\n",
        "sns.countplot(x='ChronicCond_Alzheimer', hue='PotentialFraud', data=data)"
      ]
    },
    {
      "cell_type": "code",
      "execution_count": null,
      "metadata": {
        "id": "4snCrMq_ULHN"
      },
      "outputs": [],
      "source": [
        "\n",
        "sns.countplot(x='ChronicCond_Diabetes', hue='PotentialFraud', data=data)"
      ]
    },
    {
      "cell_type": "code",
      "execution_count": null,
      "metadata": {
        "id": "5Fh9yctwUOqD"
      },
      "outputs": [],
      "source": [
        "\n",
        "sns.countplot(x='ChronicCond_IschemicHeart', hue='PotentialFraud', data=data)"
      ]
    },
    {
      "cell_type": "markdown",
      "metadata": {
        "id": "ofoNs4ExhRjp"
      },
      "source": [
        "univariate and bivariate analysis of 48-54 columns"
      ]
    },
    {
      "cell_type": "code",
      "execution_count": null,
      "metadata": {
        "id": "eQdABqeOhnxO"
      },
      "outputs": [],
      "source": [
        "data.iloc[:,48:54]"
      ]
    },
    {
      "cell_type": "code",
      "execution_count": null,
      "metadata": {
        "id": "eL_myGBFhtW-"
      },
      "outputs": [],
      "source": [
        "data.iloc[:,48:54].isna().sum()"
      ]
    },
    {
      "cell_type": "code",
      "execution_count": null,
      "metadata": {
        "id": "KwFk_j0HhwX5"
      },
      "outputs": [],
      "source": [
        "data.iloc[:,48:54].dtypes"
      ]
    },
    {
      "cell_type": "code",
      "execution_count": null,
      "metadata": {
        "id": "c0NUfyYlhzK-"
      },
      "outputs": [],
      "source": [
        "plt.boxplot(data.iloc[:,48:54])\n",
        "plt.figure(figsize=(12,8))\n",
        "plt.show()"
      ]
    },
    {
      "cell_type": "code",
      "execution_count": null,
      "metadata": {
        "id": "rGFJ8Rvuh2u9"
      },
      "outputs": [],
      "source": [
        "plt.hist(data.iloc[:,48:54])\n",
        "plt.show()"
      ]
    },
    {
      "cell_type": "code",
      "execution_count": null,
      "metadata": {
        "id": "eLeo85Qhh5Xl"
      },
      "outputs": [],
      "source": [
        "data.iloc[:,48:54].nunique()"
      ]
    },
    {
      "cell_type": "code",
      "execution_count": null,
      "metadata": {
        "id": "GNkeJGuPh8sc"
      },
      "outputs": [],
      "source": [
        "data1=data.copy()\n",
        "data.groupby('PotentialFraud')['ChronicCond_rheumatoidarthritis'].median().plot.bar()\n",
        "plt.show()"
      ]
    },
    {
      "cell_type": "code",
      "execution_count": null,
      "metadata": {
        "id": "Ag0uVotFiBGr"
      },
      "outputs": [],
      "source": [
        "data1=data.copy()\n",
        "data.groupby('PotentialFraud')['ChronicCond_stroke'].median().plot.bar()\n",
        "plt.show()"
      ]
    },
    {
      "cell_type": "code",
      "execution_count": null,
      "metadata": {
        "id": "2ziroxzeiHfV"
      },
      "outputs": [],
      "source": [
        "data1=data.copy()\n",
        "data.groupby('PotentialFraud')['IPAnnualReimbursementAmt'].median().plot.bar()\n",
        "plt.show()"
      ]
    },
    {
      "cell_type": "code",
      "execution_count": null,
      "metadata": {
        "id": "RQBW7A2xiMAv"
      },
      "outputs": [],
      "source": [
        "data1=data.copy()\n",
        "data.groupby('PotentialFraud')['IPAnnualReimbursementAmt'].mean().plot.bar()\n",
        "plt.show()"
      ]
    },
    {
      "cell_type": "code",
      "execution_count": null,
      "metadata": {
        "id": "HO32O1OwiPmt"
      },
      "outputs": [],
      "source": [
        "data1=data.copy()\n",
        "data.groupby('PotentialFraud')['IPAnnualDeductibleAmt'].median().plot.bar()\n",
        "plt.show()"
      ]
    },
    {
      "cell_type": "code",
      "execution_count": null,
      "metadata": {
        "id": "iaSePpqPiSSY"
      },
      "outputs": [],
      "source": [
        "data1=data.copy()\n",
        "data.groupby('PotentialFraud')['IPAnnualDeductibleAmt'].mean().plot.bar()\n",
        "plt.show()"
      ]
    },
    {
      "cell_type": "code",
      "execution_count": null,
      "metadata": {
        "id": "OfWIUxkPiTsk"
      },
      "outputs": [],
      "source": [
        "data1=data.copy()\n",
        "data.groupby('PotentialFraud')['OPAnnualReimbursementAmt'].median().plot.bar()\n",
        "plt.show()"
      ]
    },
    {
      "cell_type": "code",
      "execution_count": null,
      "metadata": {
        "id": "JcmcS0cRiWtc"
      },
      "outputs": [],
      "source": [
        "data1=data.copy()\n",
        "data.groupby('PotentialFraud')['OPAnnualDeductibleAmt'].median().plot.bar()\n",
        "plt.show()"
      ]
    },
    {
      "cell_type": "code",
      "execution_count": null,
      "metadata": {
        "id": "UDBuObnnU6ih"
      },
      "outputs": [],
      "source": [
        "# Pairplot for numerical features\n",
        "sns.pairplot(data[['InscClaimAmtReimbursed', 'DeductibleAmtPaid', 'ClmProcedureCode_1',\n",
        "       'ClmProcedureCode_2', 'ClmProcedureCode_3', 'ClmProcedureCode_4',\n",
        "       'ClmProcedureCode_5','Gender', 'Race', 'State']])#, hue='PotentialFraud', diag_kind='kde')  # Optional: `hue` for color-coding by target\n",
        "#plt.show()\n"
      ]
    },
    {
      "cell_type": "markdown",
      "metadata": {
        "id": "Wjn8DUTEmV8e"
      },
      "source": [
        "**BV analysis of numerical features using heatmap**"
      ]
    },
    {
      "cell_type": "code",
      "execution_count": null,
      "metadata": {
        "id": "qBcqO_21mLuK"
      },
      "outputs": [],
      "source": [
        "correlation_matrix = data[numerical_features].corr()\n",
        "plt.figure(figsize=(16, 14))\n",
        "sns.heatmap(correlation_matrix, annot=True, cmap='coolwarm', fmt=\".2f\")\n",
        "plt.title('Correlation Matrix of Numerical Features')\n",
        "plt.show()"
      ]
    },
    {
      "cell_type": "markdown",
      "metadata": {
        "id": "ZqGjyS0qipAk"
      },
      "source": [
        "Analysing target column"
      ]
    },
    {
      "cell_type": "code",
      "execution_count": null,
      "metadata": {
        "id": "ri0NKozvmMqA"
      },
      "outputs": [],
      "source": [
        "data['PotentialFraud'].head()"
      ]
    },
    {
      "cell_type": "code",
      "execution_count": null,
      "metadata": {
        "id": "-BrVyImRiroq"
      },
      "outputs": [],
      "source": [
        "data['PotentialFraud'].dtypes"
      ]
    },
    {
      "cell_type": "code",
      "execution_count": null,
      "metadata": {
        "id": "dEKZTKq1itjg"
      },
      "outputs": [],
      "source": [
        "data['PotentialFraud'].isnull().sum()"
      ]
    },
    {
      "cell_type": "code",
      "execution_count": null,
      "metadata": {
        "id": "nZi57BF_ivkH"
      },
      "outputs": [],
      "source": [
        "data['PotentialFraud'].value_counts()"
      ]
    },
    {
      "cell_type": "markdown",
      "metadata": {
        "id": "D5Fc3ZeGi1v2"
      },
      "source": [
        "propotion of yes and no in target"
      ]
    },
    {
      "cell_type": "code",
      "execution_count": null,
      "metadata": {
        "id": "mYPchxUiixSY"
      },
      "outputs": [],
      "source": [
        "data['PotentialFraud'].value_counts(normalize=True)"
      ]
    },
    {
      "cell_type": "code",
      "execution_count": null,
      "metadata": {
        "id": "XTmJHImDi8aH"
      },
      "outputs": [],
      "source": [
        "sns.histplot(data['PotentialFraud'])"
      ]
    },
    {
      "cell_type": "markdown",
      "metadata": {
        "id": "RE6EeRcAjCnq"
      },
      "source": [
        "target is biased towards 'NO'"
      ]
    },
    {
      "cell_type": "code",
      "execution_count": null,
      "metadata": {
        "id": "VXyws7Q2i-lU"
      },
      "outputs": [],
      "source": []
    }
  ],
  "metadata": {
    "colab": {
      "provenance": []
    },
    "kernelspec": {
      "display_name": "Python 3",
      "name": "python3"
    },
    "language_info": {
      "name": "python"
    }
  },
  "nbformat": 4,
  "nbformat_minor": 0
}