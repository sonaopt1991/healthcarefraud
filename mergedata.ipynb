{
  "nbformat": 4,
  "nbformat_minor": 0,
  "metadata": {
    "colab": {
      "provenance": []
    },
    "kernelspec": {
      "name": "python3",
      "display_name": "Python 3"
    },
    "language_info": {
      "name": "python"
    }
  },
  "cells": [
    {
      "cell_type": "code",
      "execution_count": 1,
      "metadata": {
        "colab": {
          "base_uri": "https://localhost:8080/"
        },
        "id": "qrjpoF3Gmut9",
        "outputId": "41f3fd7e-5c47-424b-8839-1d589394e13e"
      },
      "outputs": [
        {
          "output_type": "stream",
          "name": "stdout",
          "text": [
            "Drive already mounted at /content/drive; to attempt to forcibly remount, call drive.mount(\"/content/drive\", force_remount=True).\n"
          ]
        }
      ],
      "source": [
        "from google.colab import drive\n",
        "drive.mount('/content/drive')"
      ]
    },
    {
      "cell_type": "code",
      "source": [
        "import pandas as pd\n",
        "import numpy as np\n",
        "import matplotlib.pyplot as plt\n",
        "import seaborn as sns"
      ],
      "metadata": {
        "id": "2l2ygJl0nMrL"
      },
      "execution_count": 2,
      "outputs": []
    },
    {
      "cell_type": "code",
      "source": [
        "df_out=pd.read_csv('/content/drive/MyDrive/project/Train_Outpatientdata-1542865627584.csv')"
      ],
      "metadata": {
        "id": "yR5_933JnBCV"
      },
      "execution_count": 3,
      "outputs": []
    },
    {
      "cell_type": "code",
      "source": [
        "df_in=pd.read_csv('/content/drive/MyDrive/project/Train_Inpatientdata-1542865627584.csv')"
      ],
      "metadata": {
        "id": "t9Sq0o2HnkmK"
      },
      "execution_count": 4,
      "outputs": []
    },
    {
      "cell_type": "code",
      "source": [
        "df_bnf=pd.read_csv('/content/drive/MyDrive/project/Train_Beneficiarydata-1542865627584.csv')"
      ],
      "metadata": {
        "id": "reRTSFFBn1_0"
      },
      "execution_count": 5,
      "outputs": []
    },
    {
      "cell_type": "code",
      "source": [
        "df_tr=pd.read_csv('/content/drive/MyDrive/project/Train-1542865627584.csv')"
      ],
      "metadata": {
        "id": "GS6VQN30n9PT"
      },
      "execution_count": 6,
      "outputs": []
    },
    {
      "cell_type": "code",
      "source": [
        "df_out.shape"
      ],
      "metadata": {
        "colab": {
          "base_uri": "https://localhost:8080/"
        },
        "id": "cLiFmZ9jnbDq",
        "outputId": "95f72458-7f99-4c94-fa17-86f9e182f961"
      },
      "execution_count": 7,
      "outputs": [
        {
          "output_type": "execute_result",
          "data": {
            "text/plain": [
              "(517737, 27)"
            ]
          },
          "metadata": {},
          "execution_count": 7
        }
      ]
    },
    {
      "cell_type": "code",
      "source": [
        "df_in.shape"
      ],
      "metadata": {
        "colab": {
          "base_uri": "https://localhost:8080/"
        },
        "id": "tkBerUg-oE8G",
        "outputId": "202b71ee-46e9-4fad-8e51-d2be6cadebe0"
      },
      "execution_count": 8,
      "outputs": [
        {
          "output_type": "execute_result",
          "data": {
            "text/plain": [
              "(40474, 30)"
            ]
          },
          "metadata": {},
          "execution_count": 8
        }
      ]
    },
    {
      "cell_type": "code",
      "source": [
        "df_bnf.shape"
      ],
      "metadata": {
        "colab": {
          "base_uri": "https://localhost:8080/"
        },
        "id": "NJWeO4FnoHXw",
        "outputId": "7d6b32e1-2903-432f-f318-4942cc6f0e10"
      },
      "execution_count": 9,
      "outputs": [
        {
          "output_type": "execute_result",
          "data": {
            "text/plain": [
              "(138556, 25)"
            ]
          },
          "metadata": {},
          "execution_count": 9
        }
      ]
    },
    {
      "cell_type": "code",
      "source": [
        "df_tr.shape"
      ],
      "metadata": {
        "colab": {
          "base_uri": "https://localhost:8080/"
        },
        "id": "U750gqVknfQg",
        "outputId": "9301a50b-a213-47db-cd76-330168b91d13"
      },
      "execution_count": 10,
      "outputs": [
        {
          "output_type": "execute_result",
          "data": {
            "text/plain": [
              "(5410, 2)"
            ]
          },
          "metadata": {},
          "execution_count": 10
        }
      ]
    },
    {
      "cell_type": "code",
      "source": [
        "df_out.info()"
      ],
      "metadata": {
        "colab": {
          "base_uri": "https://localhost:8080/"
        },
        "id": "iH5fpsqkoPR3",
        "outputId": "f74c4b03-54f4-4564-e8cc-099df8132df1"
      },
      "execution_count": 11,
      "outputs": [
        {
          "output_type": "stream",
          "name": "stdout",
          "text": [
            "<class 'pandas.core.frame.DataFrame'>\n",
            "RangeIndex: 517737 entries, 0 to 517736\n",
            "Data columns (total 27 columns):\n",
            " #   Column                  Non-Null Count   Dtype  \n",
            "---  ------                  --------------   -----  \n",
            " 0   BeneID                  517737 non-null  object \n",
            " 1   ClaimID                 517737 non-null  object \n",
            " 2   ClaimStartDt            517737 non-null  object \n",
            " 3   ClaimEndDt              517737 non-null  object \n",
            " 4   Provider                517737 non-null  object \n",
            " 5   InscClaimAmtReimbursed  517737 non-null  int64  \n",
            " 6   AttendingPhysician      516341 non-null  object \n",
            " 7   OperatingPhysician      90617 non-null   object \n",
            " 8   OtherPhysician          195046 non-null  object \n",
            " 9   ClmDiagnosisCode_1      507284 non-null  object \n",
            " 10  ClmDiagnosisCode_2      322357 non-null  object \n",
            " 11  ClmDiagnosisCode_3      203257 non-null  object \n",
            " 12  ClmDiagnosisCode_4      125596 non-null  object \n",
            " 13  ClmDiagnosisCode_5      74344 non-null   object \n",
            " 14  ClmDiagnosisCode_6      48756 non-null   object \n",
            " 15  ClmDiagnosisCode_7      32961 non-null   object \n",
            " 16  ClmDiagnosisCode_8      22912 non-null   object \n",
            " 17  ClmDiagnosisCode_9      14838 non-null   object \n",
            " 18  ClmDiagnosisCode_10     1083 non-null    object \n",
            " 19  ClmProcedureCode_1      162 non-null     float64\n",
            " 20  ClmProcedureCode_2      36 non-null      float64\n",
            " 21  ClmProcedureCode_3      4 non-null       float64\n",
            " 22  ClmProcedureCode_4      2 non-null       float64\n",
            " 23  ClmProcedureCode_5      0 non-null       float64\n",
            " 24  ClmProcedureCode_6      0 non-null       float64\n",
            " 25  DeductibleAmtPaid       517737 non-null  int64  \n",
            " 26  ClmAdmitDiagnosisCode   105425 non-null  object \n",
            "dtypes: float64(6), int64(2), object(19)\n",
            "memory usage: 106.7+ MB\n"
          ]
        }
      ]
    },
    {
      "cell_type": "code",
      "source": [
        "#df_out.drop(['ClmProcedureCode_5','ClmProcedureCode_6'],axis=1,inplace=True)"
      ],
      "metadata": {
        "id": "Vw9WGcIEoUBe"
      },
      "execution_count": 12,
      "outputs": []
    },
    {
      "cell_type": "code",
      "source": [
        "df_in.info()"
      ],
      "metadata": {
        "colab": {
          "base_uri": "https://localhost:8080/"
        },
        "id": "mHEWCdDboZVr",
        "outputId": "d6806646-237c-4d33-bc8f-e56622cebfe0"
      },
      "execution_count": 13,
      "outputs": [
        {
          "output_type": "stream",
          "name": "stdout",
          "text": [
            "<class 'pandas.core.frame.DataFrame'>\n",
            "RangeIndex: 40474 entries, 0 to 40473\n",
            "Data columns (total 30 columns):\n",
            " #   Column                  Non-Null Count  Dtype  \n",
            "---  ------                  --------------  -----  \n",
            " 0   BeneID                  40474 non-null  object \n",
            " 1   ClaimID                 40474 non-null  object \n",
            " 2   ClaimStartDt            40474 non-null  object \n",
            " 3   ClaimEndDt              40474 non-null  object \n",
            " 4   Provider                40474 non-null  object \n",
            " 5   InscClaimAmtReimbursed  40474 non-null  int64  \n",
            " 6   AttendingPhysician      40362 non-null  object \n",
            " 7   OperatingPhysician      23830 non-null  object \n",
            " 8   OtherPhysician          4690 non-null   object \n",
            " 9   AdmissionDt             40474 non-null  object \n",
            " 10  ClmAdmitDiagnosisCode   40474 non-null  object \n",
            " 11  DeductibleAmtPaid       39575 non-null  float64\n",
            " 12  DischargeDt             40474 non-null  object \n",
            " 13  DiagnosisGroupCode      40474 non-null  object \n",
            " 14  ClmDiagnosisCode_1      40474 non-null  object \n",
            " 15  ClmDiagnosisCode_2      40248 non-null  object \n",
            " 16  ClmDiagnosisCode_3      39798 non-null  object \n",
            " 17  ClmDiagnosisCode_4      38940 non-null  object \n",
            " 18  ClmDiagnosisCode_5      37580 non-null  object \n",
            " 19  ClmDiagnosisCode_6      35636 non-null  object \n",
            " 20  ClmDiagnosisCode_7      33216 non-null  object \n",
            " 21  ClmDiagnosisCode_8      30532 non-null  object \n",
            " 22  ClmDiagnosisCode_9      26977 non-null  object \n",
            " 23  ClmDiagnosisCode_10     3927 non-null   object \n",
            " 24  ClmProcedureCode_1      23148 non-null  float64\n",
            " 25  ClmProcedureCode_2      5454 non-null   float64\n",
            " 26  ClmProcedureCode_3      965 non-null    float64\n",
            " 27  ClmProcedureCode_4      116 non-null    float64\n",
            " 28  ClmProcedureCode_5      9 non-null      float64\n",
            " 29  ClmProcedureCode_6      0 non-null      float64\n",
            "dtypes: float64(7), int64(1), object(22)\n",
            "memory usage: 9.3+ MB\n"
          ]
        }
      ]
    },
    {
      "cell_type": "code",
      "source": [
        "#df_in.drop('ClmProcedureCode_6',axis=1,inplace=True)"
      ],
      "metadata": {
        "id": "zrmzEiszoheU"
      },
      "execution_count": 14,
      "outputs": []
    },
    {
      "cell_type": "code",
      "source": [
        "df_inout=pd.concat([df_in,df_out],axis=0)"
      ],
      "metadata": {
        "id": "Fjlg3lnOow4w"
      },
      "execution_count": 15,
      "outputs": []
    },
    {
      "cell_type": "code",
      "source": [
        "df_inout.shape"
      ],
      "metadata": {
        "colab": {
          "base_uri": "https://localhost:8080/"
        },
        "id": "D3UE5Fkho23n",
        "outputId": "3e78a1b0-93eb-4ef3-d42e-e9b5526f4cf5"
      },
      "execution_count": 16,
      "outputs": [
        {
          "output_type": "execute_result",
          "data": {
            "text/plain": [
              "(558211, 30)"
            ]
          },
          "metadata": {},
          "execution_count": 16
        }
      ]
    },
    {
      "cell_type": "code",
      "source": [
        "df_inout.info()"
      ],
      "metadata": {
        "colab": {
          "base_uri": "https://localhost:8080/"
        },
        "id": "0xc9QVRopD-e",
        "outputId": "8fd3cdf2-06b0-4610-d826-dfb25b4a44b3"
      },
      "execution_count": 17,
      "outputs": [
        {
          "output_type": "stream",
          "name": "stdout",
          "text": [
            "<class 'pandas.core.frame.DataFrame'>\n",
            "Index: 558211 entries, 0 to 517736\n",
            "Data columns (total 30 columns):\n",
            " #   Column                  Non-Null Count   Dtype  \n",
            "---  ------                  --------------   -----  \n",
            " 0   BeneID                  558211 non-null  object \n",
            " 1   ClaimID                 558211 non-null  object \n",
            " 2   ClaimStartDt            558211 non-null  object \n",
            " 3   ClaimEndDt              558211 non-null  object \n",
            " 4   Provider                558211 non-null  object \n",
            " 5   InscClaimAmtReimbursed  558211 non-null  int64  \n",
            " 6   AttendingPhysician      556703 non-null  object \n",
            " 7   OperatingPhysician      114447 non-null  object \n",
            " 8   OtherPhysician          199736 non-null  object \n",
            " 9   AdmissionDt             40474 non-null   object \n",
            " 10  ClmAdmitDiagnosisCode   145899 non-null  object \n",
            " 11  DeductibleAmtPaid       557312 non-null  float64\n",
            " 12  DischargeDt             40474 non-null   object \n",
            " 13  DiagnosisGroupCode      40474 non-null   object \n",
            " 14  ClmDiagnosisCode_1      547758 non-null  object \n",
            " 15  ClmDiagnosisCode_2      362605 non-null  object \n",
            " 16  ClmDiagnosisCode_3      243055 non-null  object \n",
            " 17  ClmDiagnosisCode_4      164536 non-null  object \n",
            " 18  ClmDiagnosisCode_5      111924 non-null  object \n",
            " 19  ClmDiagnosisCode_6      84392 non-null   object \n",
            " 20  ClmDiagnosisCode_7      66177 non-null   object \n",
            " 21  ClmDiagnosisCode_8      53444 non-null   object \n",
            " 22  ClmDiagnosisCode_9      41815 non-null   object \n",
            " 23  ClmDiagnosisCode_10     5010 non-null    object \n",
            " 24  ClmProcedureCode_1      23310 non-null   float64\n",
            " 25  ClmProcedureCode_2      5490 non-null    float64\n",
            " 26  ClmProcedureCode_3      969 non-null     float64\n",
            " 27  ClmProcedureCode_4      118 non-null     float64\n",
            " 28  ClmProcedureCode_5      9 non-null       float64\n",
            " 29  ClmProcedureCode_6      0 non-null       float64\n",
            "dtypes: float64(7), int64(1), object(22)\n",
            "memory usage: 132.0+ MB\n"
          ]
        }
      ]
    },
    {
      "cell_type": "code",
      "source": [
        "df_bnf.info()"
      ],
      "metadata": {
        "colab": {
          "base_uri": "https://localhost:8080/"
        },
        "id": "BqjccBJkpSKa",
        "outputId": "29261e18-4017-4a61-8648-318dd9182c88"
      },
      "execution_count": 18,
      "outputs": [
        {
          "output_type": "stream",
          "name": "stdout",
          "text": [
            "<class 'pandas.core.frame.DataFrame'>\n",
            "RangeIndex: 138556 entries, 0 to 138555\n",
            "Data columns (total 25 columns):\n",
            " #   Column                           Non-Null Count   Dtype \n",
            "---  ------                           --------------   ----- \n",
            " 0   BeneID                           138556 non-null  object\n",
            " 1   DOB                              138556 non-null  object\n",
            " 2   DOD                              1421 non-null    object\n",
            " 3   Gender                           138556 non-null  int64 \n",
            " 4   Race                             138556 non-null  int64 \n",
            " 5   RenalDiseaseIndicator            138556 non-null  object\n",
            " 6   State                            138556 non-null  int64 \n",
            " 7   County                           138556 non-null  int64 \n",
            " 8   NoOfMonths_PartACov              138556 non-null  int64 \n",
            " 9   NoOfMonths_PartBCov              138556 non-null  int64 \n",
            " 10  ChronicCond_Alzheimer            138556 non-null  int64 \n",
            " 11  ChronicCond_Heartfailure         138556 non-null  int64 \n",
            " 12  ChronicCond_KidneyDisease        138556 non-null  int64 \n",
            " 13  ChronicCond_Cancer               138556 non-null  int64 \n",
            " 14  ChronicCond_ObstrPulmonary       138556 non-null  int64 \n",
            " 15  ChronicCond_Depression           138556 non-null  int64 \n",
            " 16  ChronicCond_Diabetes             138556 non-null  int64 \n",
            " 17  ChronicCond_IschemicHeart        138556 non-null  int64 \n",
            " 18  ChronicCond_Osteoporasis         138556 non-null  int64 \n",
            " 19  ChronicCond_rheumatoidarthritis  138556 non-null  int64 \n",
            " 20  ChronicCond_stroke               138556 non-null  int64 \n",
            " 21  IPAnnualReimbursementAmt         138556 non-null  int64 \n",
            " 22  IPAnnualDeductibleAmt            138556 non-null  int64 \n",
            " 23  OPAnnualReimbursementAmt         138556 non-null  int64 \n",
            " 24  OPAnnualDeductibleAmt            138556 non-null  int64 \n",
            "dtypes: int64(21), object(4)\n",
            "memory usage: 26.4+ MB\n"
          ]
        }
      ]
    },
    {
      "cell_type": "code",
      "source": [
        "#df_bnf.fillna(0,inplace=True)"
      ],
      "metadata": {
        "id": "YFVUmAo9pert"
      },
      "execution_count": 19,
      "outputs": []
    },
    {
      "cell_type": "code",
      "source": [
        "df_mergd=pd.merge(df_inout,df_bnf,on='BeneID',how='outer')"
      ],
      "metadata": {
        "id": "gE-AW7OXpogB"
      },
      "execution_count": 20,
      "outputs": []
    },
    {
      "cell_type": "code",
      "source": [
        "df_mergd.shape"
      ],
      "metadata": {
        "colab": {
          "base_uri": "https://localhost:8080/"
        },
        "id": "AMdykuWZpv3W",
        "outputId": "978f660f-3369-43ab-9ffd-eab83dd742ff"
      },
      "execution_count": 21,
      "outputs": [
        {
          "output_type": "execute_result",
          "data": {
            "text/plain": [
              "(558211, 54)"
            ]
          },
          "metadata": {},
          "execution_count": 21
        }
      ]
    },
    {
      "cell_type": "code",
      "source": [
        "data=pd.merge(df_mergd,df_tr,on='Provider',how='outer')"
      ],
      "metadata": {
        "id": "Y4rtQFrypyha"
      },
      "execution_count": 22,
      "outputs": []
    },
    {
      "cell_type": "code",
      "source": [
        "data.shape"
      ],
      "metadata": {
        "colab": {
          "base_uri": "https://localhost:8080/"
        },
        "id": "QffVlEHVp7_7",
        "outputId": "15c6e8f6-3515-43f0-8f83-9edde20345de"
      },
      "execution_count": 23,
      "outputs": [
        {
          "output_type": "execute_result",
          "data": {
            "text/plain": [
              "(558211, 55)"
            ]
          },
          "metadata": {},
          "execution_count": 23
        }
      ]
    },
    {
      "cell_type": "code",
      "source": [
        "from google.colab import files\n",
        "data.to_csv('merged_data.csv', encoding = 'utf-8-sig')\n",
        "files.download('merged_data.csv')"
      ],
      "metadata": {
        "colab": {
          "base_uri": "https://localhost:8080/",
          "height": 17
        },
        "id": "vYMEYkVc1wd1",
        "outputId": "f2235fa0-f8f9-4f87-eb9b-577fb34a1759"
      },
      "execution_count": 24,
      "outputs": [
        {
          "output_type": "display_data",
          "data": {
            "text/plain": [
              "<IPython.core.display.Javascript object>"
            ],
            "application/javascript": [
              "\n",
              "    async function download(id, filename, size) {\n",
              "      if (!google.colab.kernel.accessAllowed) {\n",
              "        return;\n",
              "      }\n",
              "      const div = document.createElement('div');\n",
              "      const label = document.createElement('label');\n",
              "      label.textContent = `Downloading \"${filename}\": `;\n",
              "      div.appendChild(label);\n",
              "      const progress = document.createElement('progress');\n",
              "      progress.max = size;\n",
              "      div.appendChild(progress);\n",
              "      document.body.appendChild(div);\n",
              "\n",
              "      const buffers = [];\n",
              "      let downloaded = 0;\n",
              "\n",
              "      const channel = await google.colab.kernel.comms.open(id);\n",
              "      // Send a message to notify the kernel that we're ready.\n",
              "      channel.send({})\n",
              "\n",
              "      for await (const message of channel.messages) {\n",
              "        // Send a message to notify the kernel that we're ready.\n",
              "        channel.send({})\n",
              "        if (message.buffers) {\n",
              "          for (const buffer of message.buffers) {\n",
              "            buffers.push(buffer);\n",
              "            downloaded += buffer.byteLength;\n",
              "            progress.value = downloaded;\n",
              "          }\n",
              "        }\n",
              "      }\n",
              "      const blob = new Blob(buffers, {type: 'application/binary'});\n",
              "      const a = document.createElement('a');\n",
              "      a.href = window.URL.createObjectURL(blob);\n",
              "      a.download = filename;\n",
              "      div.appendChild(a);\n",
              "      a.click();\n",
              "      div.remove();\n",
              "    }\n",
              "  "
            ]
          },
          "metadata": {}
        },
        {
          "output_type": "display_data",
          "data": {
            "text/plain": [
              "<IPython.core.display.Javascript object>"
            ],
            "application/javascript": [
              "download(\"download_e1ddb005-98b5-4460-a0a9-28b24f58362a\", \"merged_data.csv\", 106280123)"
            ]
          },
          "metadata": {}
        }
      ]
    },
    {
      "cell_type": "code",
      "source": [
        "data.info()"
      ],
      "metadata": {
        "colab": {
          "base_uri": "https://localhost:8080/"
        },
        "id": "CbKdl-b84kMa",
        "outputId": "fde09cfb-f5d9-4364-a8e6-cf7bb94789bd"
      },
      "execution_count": 25,
      "outputs": [
        {
          "output_type": "stream",
          "name": "stdout",
          "text": [
            "<class 'pandas.core.frame.DataFrame'>\n",
            "RangeIndex: 558211 entries, 0 to 558210\n",
            "Data columns (total 55 columns):\n",
            " #   Column                           Non-Null Count   Dtype  \n",
            "---  ------                           --------------   -----  \n",
            " 0   BeneID                           558211 non-null  object \n",
            " 1   ClaimID                          558211 non-null  object \n",
            " 2   ClaimStartDt                     558211 non-null  object \n",
            " 3   ClaimEndDt                       558211 non-null  object \n",
            " 4   Provider                         558211 non-null  object \n",
            " 5   InscClaimAmtReimbursed           558211 non-null  int64  \n",
            " 6   AttendingPhysician               556703 non-null  object \n",
            " 7   OperatingPhysician               114447 non-null  object \n",
            " 8   OtherPhysician                   199736 non-null  object \n",
            " 9   AdmissionDt                      40474 non-null   object \n",
            " 10  ClmAdmitDiagnosisCode            145899 non-null  object \n",
            " 11  DeductibleAmtPaid                557312 non-null  float64\n",
            " 12  DischargeDt                      40474 non-null   object \n",
            " 13  DiagnosisGroupCode               40474 non-null   object \n",
            " 14  ClmDiagnosisCode_1               547758 non-null  object \n",
            " 15  ClmDiagnosisCode_2               362605 non-null  object \n",
            " 16  ClmDiagnosisCode_3               243055 non-null  object \n",
            " 17  ClmDiagnosisCode_4               164536 non-null  object \n",
            " 18  ClmDiagnosisCode_5               111924 non-null  object \n",
            " 19  ClmDiagnosisCode_6               84392 non-null   object \n",
            " 20  ClmDiagnosisCode_7               66177 non-null   object \n",
            " 21  ClmDiagnosisCode_8               53444 non-null   object \n",
            " 22  ClmDiagnosisCode_9               41815 non-null   object \n",
            " 23  ClmDiagnosisCode_10              5010 non-null    object \n",
            " 24  ClmProcedureCode_1               23310 non-null   float64\n",
            " 25  ClmProcedureCode_2               5490 non-null    float64\n",
            " 26  ClmProcedureCode_3               969 non-null     float64\n",
            " 27  ClmProcedureCode_4               118 non-null     float64\n",
            " 28  ClmProcedureCode_5               9 non-null       float64\n",
            " 29  ClmProcedureCode_6               0 non-null       float64\n",
            " 30  DOB                              558211 non-null  object \n",
            " 31  DOD                              4131 non-null    object \n",
            " 32  Gender                           558211 non-null  int64  \n",
            " 33  Race                             558211 non-null  int64  \n",
            " 34  RenalDiseaseIndicator            558211 non-null  object \n",
            " 35  State                            558211 non-null  int64  \n",
            " 36  County                           558211 non-null  int64  \n",
            " 37  NoOfMonths_PartACov              558211 non-null  int64  \n",
            " 38  NoOfMonths_PartBCov              558211 non-null  int64  \n",
            " 39  ChronicCond_Alzheimer            558211 non-null  int64  \n",
            " 40  ChronicCond_Heartfailure         558211 non-null  int64  \n",
            " 41  ChronicCond_KidneyDisease        558211 non-null  int64  \n",
            " 42  ChronicCond_Cancer               558211 non-null  int64  \n",
            " 43  ChronicCond_ObstrPulmonary       558211 non-null  int64  \n",
            " 44  ChronicCond_Depression           558211 non-null  int64  \n",
            " 45  ChronicCond_Diabetes             558211 non-null  int64  \n",
            " 46  ChronicCond_IschemicHeart        558211 non-null  int64  \n",
            " 47  ChronicCond_Osteoporasis         558211 non-null  int64  \n",
            " 48  ChronicCond_rheumatoidarthritis  558211 non-null  int64  \n",
            " 49  ChronicCond_stroke               558211 non-null  int64  \n",
            " 50  IPAnnualReimbursementAmt         558211 non-null  int64  \n",
            " 51  IPAnnualDeductibleAmt            558211 non-null  int64  \n",
            " 52  OPAnnualReimbursementAmt         558211 non-null  int64  \n",
            " 53  OPAnnualDeductibleAmt            558211 non-null  int64  \n",
            " 54  PotentialFraud                   558211 non-null  object \n",
            "dtypes: float64(7), int64(22), object(26)\n",
            "memory usage: 234.2+ MB\n"
          ]
        }
      ]
    },
    {
      "cell_type": "code",
      "source": [
        "data.head()"
      ],
      "metadata": {
        "colab": {
          "base_uri": "https://localhost:8080/",
          "height": 255
        },
        "id": "Cib1VsIO4rrz",
        "outputId": "243e1b47-c192-40e3-e30d-70e30bb6b1e3"
      },
      "execution_count": 26,
      "outputs": [
        {
          "output_type": "execute_result",
          "data": {
            "text/plain": [
              "       BeneID    ClaimID ClaimStartDt  ClaimEndDt  Provider  \\\n",
              "0  BENE102690   CLM49733   2009-05-04  2009-05-18  PRV51001   \n",
              "1  BENE106078  CLM419490   2009-06-16  2009-06-16  PRV51001   \n",
              "2   BENE11727  CLM733300   2009-12-17  2009-12-17  PRV51001   \n",
              "3  BENE123416  CLM172987   2009-02-02  2009-02-02  PRV51001   \n",
              "4  BENE126477  CLM361230   2009-05-15  2009-05-15  PRV51001   \n",
              "\n",
              "   InscClaimAmtReimbursed AttendingPhysician OperatingPhysician  \\\n",
              "0                   42000          PHY383193          PHY378091   \n",
              "1                      90          PHY345302                NaN   \n",
              "2                      20          PHY383007                NaN   \n",
              "3                     100          PHY345302                NaN   \n",
              "4                     200          PHY354616          PHY405310   \n",
              "\n",
              "  OtherPhysician AdmissionDt  ... ChronicCond_Diabetes  \\\n",
              "0      PHY389113  2009-05-04  ...                    1   \n",
              "1            NaN         NaN  ...                    1   \n",
              "2      PHY383007         NaN  ...                    1   \n",
              "3      PHY345302         NaN  ...                    1   \n",
              "4      PHY405310         NaN  ...                    1   \n",
              "\n",
              "   ChronicCond_IschemicHeart ChronicCond_Osteoporasis  \\\n",
              "0                          1                        2   \n",
              "1                          1                        2   \n",
              "2                          1                        2   \n",
              "3                          1                        2   \n",
              "4                          1                        2   \n",
              "\n",
              "  ChronicCond_rheumatoidarthritis ChronicCond_stroke IPAnnualReimbursementAmt  \\\n",
              "0                               1                  2                   143800   \n",
              "1                               2                  2                        0   \n",
              "2                               2                  2                        0   \n",
              "3                               2                  2                        0   \n",
              "4                               1                  2                        0   \n",
              "\n",
              "  IPAnnualDeductibleAmt OPAnnualReimbursementAmt OPAnnualDeductibleAmt  \\\n",
              "0                  4272                      880                    70   \n",
              "1                     0                      190                    20   \n",
              "2                     0                      300                   110   \n",
              "3                     0                     3600                    10   \n",
              "4                     0                      690                   150   \n",
              "\n",
              "  PotentialFraud  \n",
              "0             No  \n",
              "1             No  \n",
              "2             No  \n",
              "3             No  \n",
              "4             No  \n",
              "\n",
              "[5 rows x 55 columns]"
            ],
            "text/html": [
              "\n",
              "  <div id=\"df-36d0f3b7-af65-4af2-9cd5-f3b51ea37a44\" class=\"colab-df-container\">\n",
              "    <div>\n",
              "<style scoped>\n",
              "    .dataframe tbody tr th:only-of-type {\n",
              "        vertical-align: middle;\n",
              "    }\n",
              "\n",
              "    .dataframe tbody tr th {\n",
              "        vertical-align: top;\n",
              "    }\n",
              "\n",
              "    .dataframe thead th {\n",
              "        text-align: right;\n",
              "    }\n",
              "</style>\n",
              "<table border=\"1\" class=\"dataframe\">\n",
              "  <thead>\n",
              "    <tr style=\"text-align: right;\">\n",
              "      <th></th>\n",
              "      <th>BeneID</th>\n",
              "      <th>ClaimID</th>\n",
              "      <th>ClaimStartDt</th>\n",
              "      <th>ClaimEndDt</th>\n",
              "      <th>Provider</th>\n",
              "      <th>InscClaimAmtReimbursed</th>\n",
              "      <th>AttendingPhysician</th>\n",
              "      <th>OperatingPhysician</th>\n",
              "      <th>OtherPhysician</th>\n",
              "      <th>AdmissionDt</th>\n",
              "      <th>...</th>\n",
              "      <th>ChronicCond_Diabetes</th>\n",
              "      <th>ChronicCond_IschemicHeart</th>\n",
              "      <th>ChronicCond_Osteoporasis</th>\n",
              "      <th>ChronicCond_rheumatoidarthritis</th>\n",
              "      <th>ChronicCond_stroke</th>\n",
              "      <th>IPAnnualReimbursementAmt</th>\n",
              "      <th>IPAnnualDeductibleAmt</th>\n",
              "      <th>OPAnnualReimbursementAmt</th>\n",
              "      <th>OPAnnualDeductibleAmt</th>\n",
              "      <th>PotentialFraud</th>\n",
              "    </tr>\n",
              "  </thead>\n",
              "  <tbody>\n",
              "    <tr>\n",
              "      <th>0</th>\n",
              "      <td>BENE102690</td>\n",
              "      <td>CLM49733</td>\n",
              "      <td>2009-05-04</td>\n",
              "      <td>2009-05-18</td>\n",
              "      <td>PRV51001</td>\n",
              "      <td>42000</td>\n",
              "      <td>PHY383193</td>\n",
              "      <td>PHY378091</td>\n",
              "      <td>PHY389113</td>\n",
              "      <td>2009-05-04</td>\n",
              "      <td>...</td>\n",
              "      <td>1</td>\n",
              "      <td>1</td>\n",
              "      <td>2</td>\n",
              "      <td>1</td>\n",
              "      <td>2</td>\n",
              "      <td>143800</td>\n",
              "      <td>4272</td>\n",
              "      <td>880</td>\n",
              "      <td>70</td>\n",
              "      <td>No</td>\n",
              "    </tr>\n",
              "    <tr>\n",
              "      <th>1</th>\n",
              "      <td>BENE106078</td>\n",
              "      <td>CLM419490</td>\n",
              "      <td>2009-06-16</td>\n",
              "      <td>2009-06-16</td>\n",
              "      <td>PRV51001</td>\n",
              "      <td>90</td>\n",
              "      <td>PHY345302</td>\n",
              "      <td>NaN</td>\n",
              "      <td>NaN</td>\n",
              "      <td>NaN</td>\n",
              "      <td>...</td>\n",
              "      <td>1</td>\n",
              "      <td>1</td>\n",
              "      <td>2</td>\n",
              "      <td>2</td>\n",
              "      <td>2</td>\n",
              "      <td>0</td>\n",
              "      <td>0</td>\n",
              "      <td>190</td>\n",
              "      <td>20</td>\n",
              "      <td>No</td>\n",
              "    </tr>\n",
              "    <tr>\n",
              "      <th>2</th>\n",
              "      <td>BENE11727</td>\n",
              "      <td>CLM733300</td>\n",
              "      <td>2009-12-17</td>\n",
              "      <td>2009-12-17</td>\n",
              "      <td>PRV51001</td>\n",
              "      <td>20</td>\n",
              "      <td>PHY383007</td>\n",
              "      <td>NaN</td>\n",
              "      <td>PHY383007</td>\n",
              "      <td>NaN</td>\n",
              "      <td>...</td>\n",
              "      <td>1</td>\n",
              "      <td>1</td>\n",
              "      <td>2</td>\n",
              "      <td>2</td>\n",
              "      <td>2</td>\n",
              "      <td>0</td>\n",
              "      <td>0</td>\n",
              "      <td>300</td>\n",
              "      <td>110</td>\n",
              "      <td>No</td>\n",
              "    </tr>\n",
              "    <tr>\n",
              "      <th>3</th>\n",
              "      <td>BENE123416</td>\n",
              "      <td>CLM172987</td>\n",
              "      <td>2009-02-02</td>\n",
              "      <td>2009-02-02</td>\n",
              "      <td>PRV51001</td>\n",
              "      <td>100</td>\n",
              "      <td>PHY345302</td>\n",
              "      <td>NaN</td>\n",
              "      <td>PHY345302</td>\n",
              "      <td>NaN</td>\n",
              "      <td>...</td>\n",
              "      <td>1</td>\n",
              "      <td>1</td>\n",
              "      <td>2</td>\n",
              "      <td>2</td>\n",
              "      <td>2</td>\n",
              "      <td>0</td>\n",
              "      <td>0</td>\n",
              "      <td>3600</td>\n",
              "      <td>10</td>\n",
              "      <td>No</td>\n",
              "    </tr>\n",
              "    <tr>\n",
              "      <th>4</th>\n",
              "      <td>BENE126477</td>\n",
              "      <td>CLM361230</td>\n",
              "      <td>2009-05-15</td>\n",
              "      <td>2009-05-15</td>\n",
              "      <td>PRV51001</td>\n",
              "      <td>200</td>\n",
              "      <td>PHY354616</td>\n",
              "      <td>PHY405310</td>\n",
              "      <td>PHY405310</td>\n",
              "      <td>NaN</td>\n",
              "      <td>...</td>\n",
              "      <td>1</td>\n",
              "      <td>1</td>\n",
              "      <td>2</td>\n",
              "      <td>1</td>\n",
              "      <td>2</td>\n",
              "      <td>0</td>\n",
              "      <td>0</td>\n",
              "      <td>690</td>\n",
              "      <td>150</td>\n",
              "      <td>No</td>\n",
              "    </tr>\n",
              "  </tbody>\n",
              "</table>\n",
              "<p>5 rows × 55 columns</p>\n",
              "</div>\n",
              "    <div class=\"colab-df-buttons\">\n",
              "\n",
              "  <div class=\"colab-df-container\">\n",
              "    <button class=\"colab-df-convert\" onclick=\"convertToInteractive('df-36d0f3b7-af65-4af2-9cd5-f3b51ea37a44')\"\n",
              "            title=\"Convert this dataframe to an interactive table.\"\n",
              "            style=\"display:none;\">\n",
              "\n",
              "  <svg xmlns=\"http://www.w3.org/2000/svg\" height=\"24px\" viewBox=\"0 -960 960 960\">\n",
              "    <path d=\"M120-120v-720h720v720H120Zm60-500h600v-160H180v160Zm220 220h160v-160H400v160Zm0 220h160v-160H400v160ZM180-400h160v-160H180v160Zm440 0h160v-160H620v160ZM180-180h160v-160H180v160Zm440 0h160v-160H620v160Z\"/>\n",
              "  </svg>\n",
              "    </button>\n",
              "\n",
              "  <style>\n",
              "    .colab-df-container {\n",
              "      display:flex;\n",
              "      gap: 12px;\n",
              "    }\n",
              "\n",
              "    .colab-df-convert {\n",
              "      background-color: #E8F0FE;\n",
              "      border: none;\n",
              "      border-radius: 50%;\n",
              "      cursor: pointer;\n",
              "      display: none;\n",
              "      fill: #1967D2;\n",
              "      height: 32px;\n",
              "      padding: 0 0 0 0;\n",
              "      width: 32px;\n",
              "    }\n",
              "\n",
              "    .colab-df-convert:hover {\n",
              "      background-color: #E2EBFA;\n",
              "      box-shadow: 0px 1px 2px rgba(60, 64, 67, 0.3), 0px 1px 3px 1px rgba(60, 64, 67, 0.15);\n",
              "      fill: #174EA6;\n",
              "    }\n",
              "\n",
              "    .colab-df-buttons div {\n",
              "      margin-bottom: 4px;\n",
              "    }\n",
              "\n",
              "    [theme=dark] .colab-df-convert {\n",
              "      background-color: #3B4455;\n",
              "      fill: #D2E3FC;\n",
              "    }\n",
              "\n",
              "    [theme=dark] .colab-df-convert:hover {\n",
              "      background-color: #434B5C;\n",
              "      box-shadow: 0px 1px 3px 1px rgba(0, 0, 0, 0.15);\n",
              "      filter: drop-shadow(0px 1px 2px rgba(0, 0, 0, 0.3));\n",
              "      fill: #FFFFFF;\n",
              "    }\n",
              "  </style>\n",
              "\n",
              "    <script>\n",
              "      const buttonEl =\n",
              "        document.querySelector('#df-36d0f3b7-af65-4af2-9cd5-f3b51ea37a44 button.colab-df-convert');\n",
              "      buttonEl.style.display =\n",
              "        google.colab.kernel.accessAllowed ? 'block' : 'none';\n",
              "\n",
              "      async function convertToInteractive(key) {\n",
              "        const element = document.querySelector('#df-36d0f3b7-af65-4af2-9cd5-f3b51ea37a44');\n",
              "        const dataTable =\n",
              "          await google.colab.kernel.invokeFunction('convertToInteractive',\n",
              "                                                    [key], {});\n",
              "        if (!dataTable) return;\n",
              "\n",
              "        const docLinkHtml = 'Like what you see? Visit the ' +\n",
              "          '<a target=\"_blank\" href=https://colab.research.google.com/notebooks/data_table.ipynb>data table notebook</a>'\n",
              "          + ' to learn more about interactive tables.';\n",
              "        element.innerHTML = '';\n",
              "        dataTable['output_type'] = 'display_data';\n",
              "        await google.colab.output.renderOutput(dataTable, element);\n",
              "        const docLink = document.createElement('div');\n",
              "        docLink.innerHTML = docLinkHtml;\n",
              "        element.appendChild(docLink);\n",
              "      }\n",
              "    </script>\n",
              "  </div>\n",
              "\n",
              "\n",
              "<div id=\"df-6e3ab286-a85a-4020-b9ee-dfd2e218670a\">\n",
              "  <button class=\"colab-df-quickchart\" onclick=\"quickchart('df-6e3ab286-a85a-4020-b9ee-dfd2e218670a')\"\n",
              "            title=\"Suggest charts\"\n",
              "            style=\"display:none;\">\n",
              "\n",
              "<svg xmlns=\"http://www.w3.org/2000/svg\" height=\"24px\"viewBox=\"0 0 24 24\"\n",
              "     width=\"24px\">\n",
              "    <g>\n",
              "        <path d=\"M19 3H5c-1.1 0-2 .9-2 2v14c0 1.1.9 2 2 2h14c1.1 0 2-.9 2-2V5c0-1.1-.9-2-2-2zM9 17H7v-7h2v7zm4 0h-2V7h2v10zm4 0h-2v-4h2v4z\"/>\n",
              "    </g>\n",
              "</svg>\n",
              "  </button>\n",
              "\n",
              "<style>\n",
              "  .colab-df-quickchart {\n",
              "      --bg-color: #E8F0FE;\n",
              "      --fill-color: #1967D2;\n",
              "      --hover-bg-color: #E2EBFA;\n",
              "      --hover-fill-color: #174EA6;\n",
              "      --disabled-fill-color: #AAA;\n",
              "      --disabled-bg-color: #DDD;\n",
              "  }\n",
              "\n",
              "  [theme=dark] .colab-df-quickchart {\n",
              "      --bg-color: #3B4455;\n",
              "      --fill-color: #D2E3FC;\n",
              "      --hover-bg-color: #434B5C;\n",
              "      --hover-fill-color: #FFFFFF;\n",
              "      --disabled-bg-color: #3B4455;\n",
              "      --disabled-fill-color: #666;\n",
              "  }\n",
              "\n",
              "  .colab-df-quickchart {\n",
              "    background-color: var(--bg-color);\n",
              "    border: none;\n",
              "    border-radius: 50%;\n",
              "    cursor: pointer;\n",
              "    display: none;\n",
              "    fill: var(--fill-color);\n",
              "    height: 32px;\n",
              "    padding: 0;\n",
              "    width: 32px;\n",
              "  }\n",
              "\n",
              "  .colab-df-quickchart:hover {\n",
              "    background-color: var(--hover-bg-color);\n",
              "    box-shadow: 0 1px 2px rgba(60, 64, 67, 0.3), 0 1px 3px 1px rgba(60, 64, 67, 0.15);\n",
              "    fill: var(--button-hover-fill-color);\n",
              "  }\n",
              "\n",
              "  .colab-df-quickchart-complete:disabled,\n",
              "  .colab-df-quickchart-complete:disabled:hover {\n",
              "    background-color: var(--disabled-bg-color);\n",
              "    fill: var(--disabled-fill-color);\n",
              "    box-shadow: none;\n",
              "  }\n",
              "\n",
              "  .colab-df-spinner {\n",
              "    border: 2px solid var(--fill-color);\n",
              "    border-color: transparent;\n",
              "    border-bottom-color: var(--fill-color);\n",
              "    animation:\n",
              "      spin 1s steps(1) infinite;\n",
              "  }\n",
              "\n",
              "  @keyframes spin {\n",
              "    0% {\n",
              "      border-color: transparent;\n",
              "      border-bottom-color: var(--fill-color);\n",
              "      border-left-color: var(--fill-color);\n",
              "    }\n",
              "    20% {\n",
              "      border-color: transparent;\n",
              "      border-left-color: var(--fill-color);\n",
              "      border-top-color: var(--fill-color);\n",
              "    }\n",
              "    30% {\n",
              "      border-color: transparent;\n",
              "      border-left-color: var(--fill-color);\n",
              "      border-top-color: var(--fill-color);\n",
              "      border-right-color: var(--fill-color);\n",
              "    }\n",
              "    40% {\n",
              "      border-color: transparent;\n",
              "      border-right-color: var(--fill-color);\n",
              "      border-top-color: var(--fill-color);\n",
              "    }\n",
              "    60% {\n",
              "      border-color: transparent;\n",
              "      border-right-color: var(--fill-color);\n",
              "    }\n",
              "    80% {\n",
              "      border-color: transparent;\n",
              "      border-right-color: var(--fill-color);\n",
              "      border-bottom-color: var(--fill-color);\n",
              "    }\n",
              "    90% {\n",
              "      border-color: transparent;\n",
              "      border-bottom-color: var(--fill-color);\n",
              "    }\n",
              "  }\n",
              "</style>\n",
              "\n",
              "  <script>\n",
              "    async function quickchart(key) {\n",
              "      const quickchartButtonEl =\n",
              "        document.querySelector('#' + key + ' button');\n",
              "      quickchartButtonEl.disabled = true;  // To prevent multiple clicks.\n",
              "      quickchartButtonEl.classList.add('colab-df-spinner');\n",
              "      try {\n",
              "        const charts = await google.colab.kernel.invokeFunction(\n",
              "            'suggestCharts', [key], {});\n",
              "      } catch (error) {\n",
              "        console.error('Error during call to suggestCharts:', error);\n",
              "      }\n",
              "      quickchartButtonEl.classList.remove('colab-df-spinner');\n",
              "      quickchartButtonEl.classList.add('colab-df-quickchart-complete');\n",
              "    }\n",
              "    (() => {\n",
              "      let quickchartButtonEl =\n",
              "        document.querySelector('#df-6e3ab286-a85a-4020-b9ee-dfd2e218670a button');\n",
              "      quickchartButtonEl.style.display =\n",
              "        google.colab.kernel.accessAllowed ? 'block' : 'none';\n",
              "    })();\n",
              "  </script>\n",
              "</div>\n",
              "\n",
              "    </div>\n",
              "  </div>\n"
            ],
            "application/vnd.google.colaboratory.intrinsic+json": {
              "type": "dataframe",
              "variable_name": "data"
            }
          },
          "metadata": {},
          "execution_count": 26
        }
      ]
    }
  ]
}