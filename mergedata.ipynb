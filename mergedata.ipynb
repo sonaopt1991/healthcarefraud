{
  "nbformat": 4,
  "nbformat_minor": 0,
  "metadata": {
    "colab": {
      "provenance": []
    },
    "kernelspec": {
      "name": "python3",
      "display_name": "Python 3"
    },
    "language_info": {
      "name": "python"
    }
  },
  "cells": [
    {
      "cell_type": "code",
      "execution_count": 1,
      "metadata": {
        "colab": {
          "base_uri": "https://localhost:8080/"
        },
        "id": "qrjpoF3Gmut9",
        "outputId": "a90a38cf-73f8-4b5e-b237-02990a58f228"
      },
      "outputs": [
        {
          "output_type": "stream",
          "name": "stdout",
          "text": [
            "Drive already mounted at /content/drive; to attempt to forcibly remount, call drive.mount(\"/content/drive\", force_remount=True).\n"
          ]
        }
      ],
      "source": [
        "from google.colab import drive\n",
        "drive.mount('/content/drive')"
      ]
    },
    {
      "cell_type": "code",
      "source": [
        "import pandas as pd\n",
        "import numpy as np\n",
        "import matplotlib.pyplot as plt\n",
        "import seaborn as sns"
      ],
      "metadata": {
        "id": "2l2ygJl0nMrL"
      },
      "execution_count": 3,
      "outputs": []
    },
    {
      "cell_type": "code",
      "source": [
        "df_out=pd.read_csv('/content/drive/MyDrive/project/Train_Outpatientdata-1542865627584.csv')"
      ],
      "metadata": {
        "id": "yR5_933JnBCV"
      },
      "execution_count": 4,
      "outputs": []
    },
    {
      "cell_type": "code",
      "source": [
        "df_in=pd.read_csv('/content/drive/MyDrive/project/Train_Inpatientdata-1542865627584.csv')"
      ],
      "metadata": {
        "id": "t9Sq0o2HnkmK"
      },
      "execution_count": 7,
      "outputs": []
    },
    {
      "cell_type": "code",
      "source": [
        "df_bnf=pd.read_csv('/content/drive/MyDrive/project/Train_Beneficiarydata-1542865627584.csv')"
      ],
      "metadata": {
        "id": "reRTSFFBn1_0"
      },
      "execution_count": 8,
      "outputs": []
    },
    {
      "cell_type": "code",
      "source": [
        "df_tr=pd.read_csv('/content/drive/MyDrive/project/Train-1542865627584.csv')"
      ],
      "metadata": {
        "id": "GS6VQN30n9PT"
      },
      "execution_count": 9,
      "outputs": []
    },
    {
      "cell_type": "code",
      "source": [
        "df_out.shape"
      ],
      "metadata": {
        "colab": {
          "base_uri": "https://localhost:8080/"
        },
        "id": "cLiFmZ9jnbDq",
        "outputId": "dc169fd9-f6e0-4d51-8740-907f6c624c44"
      },
      "execution_count": 5,
      "outputs": [
        {
          "output_type": "execute_result",
          "data": {
            "text/plain": [
              "(517737, 27)"
            ]
          },
          "metadata": {},
          "execution_count": 5
        }
      ]
    },
    {
      "cell_type": "code",
      "source": [
        "df_in.shape"
      ],
      "metadata": {
        "colab": {
          "base_uri": "https://localhost:8080/"
        },
        "id": "tkBerUg-oE8G",
        "outputId": "cd200400-22d2-4cc6-b6c2-b3b89755f77b"
      },
      "execution_count": 10,
      "outputs": [
        {
          "output_type": "execute_result",
          "data": {
            "text/plain": [
              "(40474, 30)"
            ]
          },
          "metadata": {},
          "execution_count": 10
        }
      ]
    },
    {
      "cell_type": "code",
      "source": [
        "df_bnf.shape"
      ],
      "metadata": {
        "colab": {
          "base_uri": "https://localhost:8080/"
        },
        "id": "NJWeO4FnoHXw",
        "outputId": "e49c92f7-567a-43dc-9484-b05c3352f110"
      },
      "execution_count": 11,
      "outputs": [
        {
          "output_type": "execute_result",
          "data": {
            "text/plain": [
              "(138556, 25)"
            ]
          },
          "metadata": {},
          "execution_count": 11
        }
      ]
    },
    {
      "cell_type": "code",
      "source": [
        "df_tr.shape"
      ],
      "metadata": {
        "colab": {
          "base_uri": "https://localhost:8080/"
        },
        "id": "U750gqVknfQg",
        "outputId": "c49a23c3-7503-44c5-d570-b8e073c99e1f"
      },
      "execution_count": 12,
      "outputs": [
        {
          "output_type": "execute_result",
          "data": {
            "text/plain": [
              "(5410, 2)"
            ]
          },
          "metadata": {},
          "execution_count": 12
        }
      ]
    },
    {
      "cell_type": "code",
      "source": [
        "df_out.info()"
      ],
      "metadata": {
        "colab": {
          "base_uri": "https://localhost:8080/"
        },
        "id": "iH5fpsqkoPR3",
        "outputId": "de4fd8c2-8c39-4d6a-f792-c33072dd7df9"
      },
      "execution_count": 13,
      "outputs": [
        {
          "output_type": "stream",
          "name": "stdout",
          "text": [
            "<class 'pandas.core.frame.DataFrame'>\n",
            "RangeIndex: 517737 entries, 0 to 517736\n",
            "Data columns (total 27 columns):\n",
            " #   Column                  Non-Null Count   Dtype  \n",
            "---  ------                  --------------   -----  \n",
            " 0   BeneID                  517737 non-null  object \n",
            " 1   ClaimID                 517737 non-null  object \n",
            " 2   ClaimStartDt            517737 non-null  object \n",
            " 3   ClaimEndDt              517737 non-null  object \n",
            " 4   Provider                517737 non-null  object \n",
            " 5   InscClaimAmtReimbursed  517737 non-null  int64  \n",
            " 6   AttendingPhysician      516341 non-null  object \n",
            " 7   OperatingPhysician      90617 non-null   object \n",
            " 8   OtherPhysician          195046 non-null  object \n",
            " 9   ClmDiagnosisCode_1      507284 non-null  object \n",
            " 10  ClmDiagnosisCode_2      322357 non-null  object \n",
            " 11  ClmDiagnosisCode_3      203257 non-null  object \n",
            " 12  ClmDiagnosisCode_4      125596 non-null  object \n",
            " 13  ClmDiagnosisCode_5      74344 non-null   object \n",
            " 14  ClmDiagnosisCode_6      48756 non-null   object \n",
            " 15  ClmDiagnosisCode_7      32961 non-null   object \n",
            " 16  ClmDiagnosisCode_8      22912 non-null   object \n",
            " 17  ClmDiagnosisCode_9      14838 non-null   object \n",
            " 18  ClmDiagnosisCode_10     1083 non-null    object \n",
            " 19  ClmProcedureCode_1      162 non-null     float64\n",
            " 20  ClmProcedureCode_2      36 non-null      float64\n",
            " 21  ClmProcedureCode_3      4 non-null       float64\n",
            " 22  ClmProcedureCode_4      2 non-null       float64\n",
            " 23  ClmProcedureCode_5      0 non-null       float64\n",
            " 24  ClmProcedureCode_6      0 non-null       float64\n",
            " 25  DeductibleAmtPaid       517737 non-null  int64  \n",
            " 26  ClmAdmitDiagnosisCode   105425 non-null  object \n",
            "dtypes: float64(6), int64(2), object(19)\n",
            "memory usage: 106.7+ MB\n"
          ]
        }
      ]
    },
    {
      "cell_type": "code",
      "source": [
        "df_out.drop(['ClmProcedureCode_5','ClmProcedureCode_6'],axis=1,inplace=True)"
      ],
      "metadata": {
        "id": "Vw9WGcIEoUBe"
      },
      "execution_count": 14,
      "outputs": []
    },
    {
      "cell_type": "code",
      "source": [
        "df_in.info()"
      ],
      "metadata": {
        "colab": {
          "base_uri": "https://localhost:8080/"
        },
        "id": "mHEWCdDboZVr",
        "outputId": "b6ec03c4-1a1e-447f-9528-fd4f0d918f42"
      },
      "execution_count": 15,
      "outputs": [
        {
          "output_type": "stream",
          "name": "stdout",
          "text": [
            "<class 'pandas.core.frame.DataFrame'>\n",
            "RangeIndex: 40474 entries, 0 to 40473\n",
            "Data columns (total 30 columns):\n",
            " #   Column                  Non-Null Count  Dtype  \n",
            "---  ------                  --------------  -----  \n",
            " 0   BeneID                  40474 non-null  object \n",
            " 1   ClaimID                 40474 non-null  object \n",
            " 2   ClaimStartDt            40474 non-null  object \n",
            " 3   ClaimEndDt              40474 non-null  object \n",
            " 4   Provider                40474 non-null  object \n",
            " 5   InscClaimAmtReimbursed  40474 non-null  int64  \n",
            " 6   AttendingPhysician      40362 non-null  object \n",
            " 7   OperatingPhysician      23830 non-null  object \n",
            " 8   OtherPhysician          4690 non-null   object \n",
            " 9   AdmissionDt             40474 non-null  object \n",
            " 10  ClmAdmitDiagnosisCode   40474 non-null  object \n",
            " 11  DeductibleAmtPaid       39575 non-null  float64\n",
            " 12  DischargeDt             40474 non-null  object \n",
            " 13  DiagnosisGroupCode      40474 non-null  object \n",
            " 14  ClmDiagnosisCode_1      40474 non-null  object \n",
            " 15  ClmDiagnosisCode_2      40248 non-null  object \n",
            " 16  ClmDiagnosisCode_3      39798 non-null  object \n",
            " 17  ClmDiagnosisCode_4      38940 non-null  object \n",
            " 18  ClmDiagnosisCode_5      37580 non-null  object \n",
            " 19  ClmDiagnosisCode_6      35636 non-null  object \n",
            " 20  ClmDiagnosisCode_7      33216 non-null  object \n",
            " 21  ClmDiagnosisCode_8      30532 non-null  object \n",
            " 22  ClmDiagnosisCode_9      26977 non-null  object \n",
            " 23  ClmDiagnosisCode_10     3927 non-null   object \n",
            " 24  ClmProcedureCode_1      23148 non-null  float64\n",
            " 25  ClmProcedureCode_2      5454 non-null   float64\n",
            " 26  ClmProcedureCode_3      965 non-null    float64\n",
            " 27  ClmProcedureCode_4      116 non-null    float64\n",
            " 28  ClmProcedureCode_5      9 non-null      float64\n",
            " 29  ClmProcedureCode_6      0 non-null      float64\n",
            "dtypes: float64(7), int64(1), object(22)\n",
            "memory usage: 9.3+ MB\n"
          ]
        }
      ]
    },
    {
      "cell_type": "code",
      "source": [
        "df_in.drop('ClmProcedureCode_6',axis=1,inplace=True)"
      ],
      "metadata": {
        "id": "zrmzEiszoheU"
      },
      "execution_count": 17,
      "outputs": []
    },
    {
      "cell_type": "code",
      "source": [
        "df_inout=pd.concat([df_in,df_out],axis=0)"
      ],
      "metadata": {
        "id": "Fjlg3lnOow4w"
      },
      "execution_count": 18,
      "outputs": []
    },
    {
      "cell_type": "code",
      "source": [
        "df_inout.shape"
      ],
      "metadata": {
        "colab": {
          "base_uri": "https://localhost:8080/"
        },
        "id": "D3UE5Fkho23n",
        "outputId": "efb67cc2-ded1-477c-a620-44a60de4dfcc"
      },
      "execution_count": 19,
      "outputs": [
        {
          "output_type": "execute_result",
          "data": {
            "text/plain": [
              "(558211, 29)"
            ]
          },
          "metadata": {},
          "execution_count": 19
        }
      ]
    },
    {
      "cell_type": "code",
      "source": [
        "df_inout.info()"
      ],
      "metadata": {
        "colab": {
          "base_uri": "https://localhost:8080/"
        },
        "id": "0xc9QVRopD-e",
        "outputId": "1ba9893f-5401-4e6f-ff80-4f61540eea40"
      },
      "execution_count": 20,
      "outputs": [
        {
          "output_type": "stream",
          "name": "stdout",
          "text": [
            "<class 'pandas.core.frame.DataFrame'>\n",
            "Index: 558211 entries, 0 to 517736\n",
            "Data columns (total 29 columns):\n",
            " #   Column                  Non-Null Count   Dtype  \n",
            "---  ------                  --------------   -----  \n",
            " 0   BeneID                  558211 non-null  object \n",
            " 1   ClaimID                 558211 non-null  object \n",
            " 2   ClaimStartDt            558211 non-null  object \n",
            " 3   ClaimEndDt              558211 non-null  object \n",
            " 4   Provider                558211 non-null  object \n",
            " 5   InscClaimAmtReimbursed  558211 non-null  int64  \n",
            " 6   AttendingPhysician      556703 non-null  object \n",
            " 7   OperatingPhysician      114447 non-null  object \n",
            " 8   OtherPhysician          199736 non-null  object \n",
            " 9   AdmissionDt             40474 non-null   object \n",
            " 10  ClmAdmitDiagnosisCode   145899 non-null  object \n",
            " 11  DeductibleAmtPaid       557312 non-null  float64\n",
            " 12  DischargeDt             40474 non-null   object \n",
            " 13  DiagnosisGroupCode      40474 non-null   object \n",
            " 14  ClmDiagnosisCode_1      547758 non-null  object \n",
            " 15  ClmDiagnosisCode_2      362605 non-null  object \n",
            " 16  ClmDiagnosisCode_3      243055 non-null  object \n",
            " 17  ClmDiagnosisCode_4      164536 non-null  object \n",
            " 18  ClmDiagnosisCode_5      111924 non-null  object \n",
            " 19  ClmDiagnosisCode_6      84392 non-null   object \n",
            " 20  ClmDiagnosisCode_7      66177 non-null   object \n",
            " 21  ClmDiagnosisCode_8      53444 non-null   object \n",
            " 22  ClmDiagnosisCode_9      41815 non-null   object \n",
            " 23  ClmDiagnosisCode_10     5010 non-null    object \n",
            " 24  ClmProcedureCode_1      23310 non-null   float64\n",
            " 25  ClmProcedureCode_2      5490 non-null    float64\n",
            " 26  ClmProcedureCode_3      969 non-null     float64\n",
            " 27  ClmProcedureCode_4      118 non-null     float64\n",
            " 28  ClmProcedureCode_5      9 non-null       float64\n",
            "dtypes: float64(6), int64(1), object(22)\n",
            "memory usage: 127.8+ MB\n"
          ]
        }
      ]
    },
    {
      "cell_type": "code",
      "source": [
        "df_bnf.info()"
      ],
      "metadata": {
        "colab": {
          "base_uri": "https://localhost:8080/"
        },
        "id": "BqjccBJkpSKa",
        "outputId": "0aa16297-1417-40bf-c008-213ac376551e"
      },
      "execution_count": 21,
      "outputs": [
        {
          "output_type": "stream",
          "name": "stdout",
          "text": [
            "<class 'pandas.core.frame.DataFrame'>\n",
            "RangeIndex: 138556 entries, 0 to 138555\n",
            "Data columns (total 25 columns):\n",
            " #   Column                           Non-Null Count   Dtype \n",
            "---  ------                           --------------   ----- \n",
            " 0   BeneID                           138556 non-null  object\n",
            " 1   DOB                              138556 non-null  object\n",
            " 2   DOD                              1421 non-null    object\n",
            " 3   Gender                           138556 non-null  int64 \n",
            " 4   Race                             138556 non-null  int64 \n",
            " 5   RenalDiseaseIndicator            138556 non-null  object\n",
            " 6   State                            138556 non-null  int64 \n",
            " 7   County                           138556 non-null  int64 \n",
            " 8   NoOfMonths_PartACov              138556 non-null  int64 \n",
            " 9   NoOfMonths_PartBCov              138556 non-null  int64 \n",
            " 10  ChronicCond_Alzheimer            138556 non-null  int64 \n",
            " 11  ChronicCond_Heartfailure         138556 non-null  int64 \n",
            " 12  ChronicCond_KidneyDisease        138556 non-null  int64 \n",
            " 13  ChronicCond_Cancer               138556 non-null  int64 \n",
            " 14  ChronicCond_ObstrPulmonary       138556 non-null  int64 \n",
            " 15  ChronicCond_Depression           138556 non-null  int64 \n",
            " 16  ChronicCond_Diabetes             138556 non-null  int64 \n",
            " 17  ChronicCond_IschemicHeart        138556 non-null  int64 \n",
            " 18  ChronicCond_Osteoporasis         138556 non-null  int64 \n",
            " 19  ChronicCond_rheumatoidarthritis  138556 non-null  int64 \n",
            " 20  ChronicCond_stroke               138556 non-null  int64 \n",
            " 21  IPAnnualReimbursementAmt         138556 non-null  int64 \n",
            " 22  IPAnnualDeductibleAmt            138556 non-null  int64 \n",
            " 23  OPAnnualReimbursementAmt         138556 non-null  int64 \n",
            " 24  OPAnnualDeductibleAmt            138556 non-null  int64 \n",
            "dtypes: int64(21), object(4)\n",
            "memory usage: 26.4+ MB\n"
          ]
        }
      ]
    },
    {
      "cell_type": "code",
      "source": [
        "df_bnf.fillna(0,inplace=True)"
      ],
      "metadata": {
        "id": "YFVUmAo9pert"
      },
      "execution_count": 22,
      "outputs": []
    },
    {
      "cell_type": "code",
      "source": [
        "df_mergd=pd.merge(df_inout,df_bnf,on='BeneID',how='outer')"
      ],
      "metadata": {
        "id": "gE-AW7OXpogB"
      },
      "execution_count": 23,
      "outputs": []
    },
    {
      "cell_type": "code",
      "source": [
        "df_mergd.shape"
      ],
      "metadata": {
        "colab": {
          "base_uri": "https://localhost:8080/"
        },
        "id": "AMdykuWZpv3W",
        "outputId": "1fe079b5-dd66-46ed-9510-bf7253a86079"
      },
      "execution_count": 24,
      "outputs": [
        {
          "output_type": "execute_result",
          "data": {
            "text/plain": [
              "(558211, 53)"
            ]
          },
          "metadata": {},
          "execution_count": 24
        }
      ]
    },
    {
      "cell_type": "code",
      "source": [
        "data=pd.merge(df_mergd,df_tr,on='Provider',how='outer')"
      ],
      "metadata": {
        "id": "Y4rtQFrypyha"
      },
      "execution_count": 25,
      "outputs": []
    },
    {
      "cell_type": "code",
      "source": [
        "data.shape"
      ],
      "metadata": {
        "colab": {
          "base_uri": "https://localhost:8080/"
        },
        "id": "QffVlEHVp7_7",
        "outputId": "4199a75a-5ec0-4f6d-8365-be48205c3e85"
      },
      "execution_count": 26,
      "outputs": [
        {
          "output_type": "execute_result",
          "data": {
            "text/plain": [
              "(558211, 54)"
            ]
          },
          "metadata": {},
          "execution_count": 26
        }
      ]
    }
  ]
}